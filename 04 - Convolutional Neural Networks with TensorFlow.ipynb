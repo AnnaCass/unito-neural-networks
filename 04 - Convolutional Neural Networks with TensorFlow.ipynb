{
 "cells": [
  {
   "cell_type": "markdown",
   "metadata": {},
   "source": [
    "<table align=\"left\">\n",
    "  <td>\n",
    "    <a href=\"https://colab.research.google.com/github/fmottes/unito-neural-networks/blob/master/02%20-%20Fully%20Connected%20Feedforward%20Networks%20with%20TensorFlow.ipynb\">\n",
    "      <img src=\"https://colab.research.google.com/assets/colab-badge.svg\" alt=\"Open In Colab\" style=\"width:175px;\"/>\n",
    "    </a>\n",
    "  </td>\n",
    "</table>"
   ]
  },
  {
   "cell_type": "markdown",
   "metadata": {},
   "source": [
    "# <center> **Neural Networks** (MFN0824) </center>"
   ]
  },
  {
   "cell_type": "markdown",
   "metadata": {},
   "source": [
    "### Lectures: _Dr. Matteo Osella_\n",
    "### Notebooks: _Francesco Mottes_\n",
    "<br>\n",
    "\n",
    "---"
   ]
  },
  {
   "cell_type": "markdown",
   "metadata": {},
   "source": [
    "The reference book for the practical part of this course is:\n",
    "- *Hands-on Machine Learning with Scikit-Learn, Keras and Tensorflow - A. Géron*\n",
    "\n",
    "There is also a [github page](https://github.com/ageron/handson-ml2) where you can find some notebooks with the code from the book, a good place to start if you want to look into more advanced topics.\n",
    "\n",
    "**NOTE:** You can easily (and legally) find online a raw and unedited version of the second edition of the book, released by the author before the book was finished. Be advised that, besides not being the revised version, **it is not even the whole book**.\n",
    "\n",
    "If you want to play with a dense feedforward artificial neural network without writing any code and with a nice visualization, you can try out the Tensorflow Playground (link in the section below)."
   ]
  },
  {
   "cell_type": "markdown",
   "metadata": {},
   "source": [
    "### References:\n",
    "- Numpy Docs: https://numpy.org/doc/1.18/\n",
    "- Matplotlib Docs: https://matplotlib.org/\n",
    "- Scikit-learn Docs: https://scikit-learn.org/\n",
    "- Keras Docs: https://keras.io/api/\n",
    "- Tensorflow Playground: https://playground.tensorflow.org/"
   ]
  },
  {
   "cell_type": "markdown",
   "metadata": {},
   "source": [
    "# <center> **04 - Convolutional Neural Networks with TensorFlow** </center>"
   ]
  },
  {
   "cell_type": "markdown",
   "metadata": {},
   "source": [
    "In this notebook we will show ho convolutional layers can be implemented using Keras and Tensorflow. We will implement a simple convolutional block, the famous LeNet architecture and some more advanced topics as Inception and modules. We will also show ho transfer learning can be implemented in Keras, using famous pre-trained models."
   ]
  },
  {
   "cell_type": "code",
   "execution_count": 1,
   "metadata": {},
   "outputs": [],
   "source": [
    "#standard imports\n",
    "import numpy as np\n",
    "import matplotlib.pyplot as plt\n",
    "\n",
    "#import tensorflow and keras\n",
    "import tensorflow as tf\n",
    "from tensorflow import keras\n",
    "\n",
    "\n",
    "#function for fast generation of training and test set from data\n",
    "from sklearn.model_selection import train_test_split"
   ]
  },
  {
   "cell_type": "code",
   "execution_count": 2,
   "metadata": {},
   "outputs": [
    {
     "name": "stdout",
     "output_type": "stream",
     "text": [
      "2.1.0\n",
      "2.2.4-tf\n"
     ]
    }
   ],
   "source": [
    "# check tensorflow and keras versions\n",
    "print(tf.__version__)\n",
    "print(keras.__version__)"
   ]
  },
  {
   "cell_type": "markdown",
   "metadata": {},
   "source": [
    "## <center> **Loading MNIST** </center>"
   ]
  },
  {
   "cell_type": "markdown",
   "metadata": {},
   "source": [
    "In this section we load the MNIST dataset into the notebook, in the same in which we loaded it in the preceding notebook."
   ]
  },
  {
   "cell_type": "code",
   "execution_count": 3,
   "metadata": {},
   "outputs": [],
   "source": [
    "from tensorflow.keras.datasets import mnist\n",
    "\n",
    "#load actual data\n",
    "(X_train, y_train), (X_test, y_test) = mnist.load_data()"
   ]
  },
  {
   "cell_type": "markdown",
   "metadata": {},
   "source": [
    "The MNIST dataset contains hand-written, single digits in the range 0-9, together with their correct classification. Digits are stored as grayscale images with size 28x28 pixels, represented as Numpy arrays of shape (28,28) and entries in the range 0-255.\n",
    "\n",
    "As for datasets loaded through scikit-learn, also in this case a division into training set and test set is already provided: 60000 images are loaded as training samples and 10000 as test sample. Note that, in order to have a sound machine learning pipeline, we will also need to build ourselves a validation set."
   ]
  },
  {
   "cell_type": "code",
   "execution_count": 4,
   "metadata": {},
   "outputs": [
    {
     "name": "stdout",
     "output_type": "stream",
     "text": [
      "TRAINING SET:\t (60000, 28, 28)\n",
      "TEST SET:\t (10000, 28, 28)\n"
     ]
    }
   ],
   "source": [
    "#check shape of the training set\n",
    "print('TRAINING SET:\\t',X_train.shape)\n",
    "\n",
    "#check shape of the test set\n",
    "print('TEST SET:\\t', X_test.shape)"
   ]
  },
  {
   "cell_type": "code",
   "execution_count": 5,
   "metadata": {},
   "outputs": [
    {
     "data": {
      "image/png": "[encoded data removed]",
      "text/plain": [
       "<Figure size 432x288 with 1 Axes>"
      ]
     },
     "metadata": {
      "needs_background": "light"
     },
     "output_type": "display_data"
    }
   ],
   "source": [
    "#show first image contained in the training data, with its label\n",
    "\n",
    "plt.imshow(X_train[0], cmap='gray')\n",
    "plt.title('NUMBER {}'.format(y_train[0]), fontsize=15)\n",
    "plt.axis('off'); #do not show spines"
   ]
  },
  {
   "cell_type": "code",
   "execution_count": 6,
   "metadata": {},
   "outputs": [
    {
     "data": {
      "image/png": "[encoded data removed]",
      "text/plain": [
       "<Figure size 864x288 with 10 Axes>"
      ]
     },
     "metadata": {
      "needs_background": "light"
     },
     "output_type": "display_data"
    }
   ],
   "source": [
    "# show the first 10 images in the training set\n",
    "\n",
    "fig, axs = plt.subplots(2,5,figsize=(12,4))\n",
    "\n",
    "for i in range(10):\n",
    "    \n",
    "    ax = axs.ravel()[i]\n",
    "    \n",
    "    ax.imshow(X_train[i], cmap='gray')\n",
    "    ax.set_title('NUMBER {}'.format(y_train[i]), fontsize=13)\n",
    "    ax.axis('off')"
   ]
  },
  {
   "cell_type": "markdown",
   "metadata": {},
   "source": [
    "Note that the classes in the dataset are not balanced. This is usually something you want to take into account when training a machine learning algorithm, either by balancing classes by eliminating some samples from the most populated ones or by means of more sophisticated techniques. Since this problem is not a real issue for this dataset and is not an argument strictly connected with ANNs we will not address it here."
   ]
  },
  {
   "cell_type": "code",
   "execution_count": 7,
   "metadata": {},
   "outputs": [
    {
     "data": {
      "image/png": "[encoded data removed]",
      "text/plain": [
       "<Figure size 432x288 with 1 Axes>"
      ]
     },
     "metadata": {
      "needs_background": "light"
     },
     "output_type": "display_data"
    }
   ],
   "source": [
    "plt.hlines(6000, -1, 10, linestyles='--')\n",
    "\n",
    "plt.hist(y_train, bins=np.linspace(-.5,9.5,11), rwidth=.8)\n",
    "plt.xticks(range(10));"
   ]
  },
  {
   "cell_type": "markdown",
   "metadata": {},
   "source": [
    "We now need to split the training set into training and validation set:"
   ]
  },
  {
   "cell_type": "code",
   "execution_count": 8,
   "metadata": {},
   "outputs": [],
   "source": [
    "val_size = .1 #use 6000 samples as validation set\n",
    "\n",
    "#generate training and test set with stratification\n",
    "#this means that we will find the same proportion of classes bot in the validation and in the training set\n",
    "X_train, X_val, y_train, y_val = train_test_split(X_train, y_train, test_size=val_size, stratify=y_train)"
   ]
  },
  {
   "cell_type": "markdown",
   "metadata": {},
   "source": [
    "And finally transform the data in a format more suitable for use in training a neural network:"
   ]
  },
  {
   "cell_type": "code",
   "execution_count": 9,
   "metadata": {},
   "outputs": [],
   "source": [
    "#rescale pixel values to the range (0,1)\n",
    "X_train = X_train/255\n",
    "X_val = X_val/255\n",
    "X_test = X_test/255"
   ]
  },
  {
   "cell_type": "code",
   "execution_count": 10,
   "metadata": {},
   "outputs": [],
   "source": [
    "#transform integer label into one-hot encodings\n",
    "n_classes=10\n",
    "\n",
    "y_train_cat = keras.utils.to_categorical(y_train, n_classes)\n",
    "y_val_cat = keras.utils.to_categorical(y_val, n_classes)\n",
    "y_test_cat = keras.utils.to_categorical(y_test, n_classes)"
   ]
  },
  {
   "cell_type": "markdown",
   "metadata": {},
   "source": [
    "## <center> **Simple CNN with the Keras Functional API** </center>"
   ]
  },
  {
   "cell_type": "markdown",
   "metadata": {},
   "source": [
    "Most of the following models can be constructed easily also using the Sequential API, but we will need the more powerful Functional API to build more complex modules, such as Inception. The \"classical\" version of the convuolutional module is the one depicted below: a series of *feature maps* (also sometimes called *channels*) built by the convolutional layer, followed by a pooling layer which is then serialized into a flat vector and fed to a fully connected neural network."
   ]
  },
  {
   "cell_type": "markdown",
   "metadata": {},
   "source": [
    "![Classical convolutional module](img/convolutional_module.png)"
   ]
  },
  {
   "cell_type": "markdown",
   "metadata": {},
   "source": [
    "Below you find the implementation of this simple module, with arbitrary values for the hyperparameters."
   ]
  },
  {
   "cell_type": "code",
   "execution_count": 12,
   "metadata": {},
   "outputs": [],
   "source": [
    "#a few more imports for readability\n",
    "\n",
    "#import generic model class\n",
    "from tensorflow.keras import Model, Input\n",
    "\n",
    "#import the types of layes we need\n",
    "from tensorflow.keras.layers import Flatten, Dense, Conv2D, MaxPool2D, Reshape"
   ]
  },
  {
   "cell_type": "code",
   "execution_count": 58,
   "metadata": {},
   "outputs": [],
   "source": [
    "#very important! do it before you instantiate a brand new model\n",
    "#cleares the backend of all the previous instances of the models \n",
    "#which might interfere with the new instance\n",
    "keras.backend.clear_session()\n",
    "\n",
    "\n",
    "#we intend to pass as inputs images of shape 28x28 with only one channel\n",
    "#convolutional layers need to have the number of input channels explicitely specified\n",
    "inputs = Input(shape=(28,28)) \n",
    "x = Reshape(target_shape=(28,28,1))(inputs)\n",
    "\n",
    "#we now apply to the inputs a convolutional layer with the shown parameters\n",
    "#padding='same' means kears will pad the image with an adequate number of zeros, so that\n",
    "#the shape of the feature maps will be 28x28 after the convolution\n",
    "x = Conv2D(filters=6, kernel_size=(5,5), padding='same', strides=(1,1), activation='relu')(x)\n",
    "\n",
    "#add a pooling layer\n",
    "#padding='valid' means no padding will happen and the feature maps will be smaller than the input\n",
    "x = MaxPool2D(pool_size=(2,2), strides=(2,2),  padding='valid')(x)\n",
    "\n",
    "#flatten the feature maps\n",
    "x = Flatten()(x)\n",
    "\n",
    "#add a hidden dense layer\n",
    "x = Dense(15, activation='tanh')(x)\n",
    "\n",
    "#output layer with softmax for classification\n",
    "outputs = Dense(n_classes, activation='softmax')(x)\n",
    "\n",
    "\n",
    "#build model\n",
    "#NOTE: when building the network in this way, keras only needs tha inputs and the outputs of the model:\n",
    "#it will automatically reconstruct all of the dependencies that we declared before!\n",
    "model = Model(inputs=inputs, outputs=outputs, name='basic_convolution')"
   ]
  },
  {
   "cell_type": "code",
   "execution_count": 59,
   "metadata": {},
   "outputs": [
    {
     "name": "stdout",
     "output_type": "stream",
     "text": [
      "Model: \"basic_onvolution\"\n",
      "_________________________________________________________________\n",
      "Layer (type)                 Output Shape              Param #   \n",
      "=================================================================\n",
      "input_1 (InputLayer)         [(None, 28, 28)]          0         \n",
      "_________________________________________________________________\n",
      "reshape (Reshape)            (None, 28, 28, 1)         0         \n",
      "_________________________________________________________________\n",
      "conv2d (Conv2D)              (None, 28, 28, 6)         156       \n",
      "_________________________________________________________________\n",
      "max_pooling2d (MaxPooling2D) (None, 14, 14, 6)         0         \n",
      "_________________________________________________________________\n",
      "flatten (Flatten)            (None, 1176)              0         \n",
      "_________________________________________________________________\n",
      "dense (Dense)                (None, 15)                17655     \n",
      "_________________________________________________________________\n",
      "dense_1 (Dense)              (None, 10)                160       \n",
      "=================================================================\n",
      "Total params: 17,971\n",
      "Trainable params: 17,971\n",
      "Non-trainable params: 0\n",
      "_________________________________________________________________\n"
     ]
    }
   ],
   "source": [
    "#we can now print a summary of the model we created\n",
    "\n",
    "model.summary()"
   ]
  },
  {
   "cell_type": "markdown",
   "metadata": {},
   "source": [
    "**Notice** the huge difference in the number of parameters between the convolutional and the fully connected layer!\n",
    "\n",
    "Now we need to specify the optimizer, the loss function and the metrics to keep track of."
   ]
  },
  {
   "cell_type": "code",
   "execution_count": 60,
   "metadata": {},
   "outputs": [],
   "source": [
    "model.compile(\n",
    "    loss='categorical_crossentropy',\n",
    "    optimizer='sgd',\n",
    "    metrics=['accuracy']\n",
    ")"
   ]
  },
  {
   "cell_type": "markdown",
   "metadata": {},
   "source": [
    "Now we are ready to train the network on the MNIST dataset:"
   ]
  },
  {
   "cell_type": "code",
   "execution_count": 61,
   "metadata": {},
   "outputs": [],
   "source": [
    "#define some hyperparameters\n",
    "\n",
    "epochs = 15\n",
    "batch_size = 128"
   ]
  },
  {
   "cell_type": "code",
   "execution_count": 62,
   "metadata": {},
   "outputs": [
    {
     "name": "stdout",
     "output_type": "stream",
     "text": [
      "Train on 54000 samples, validate on 6000 samples\n",
      "Epoch 1/15\n",
      "54000/54000 [==============================] - 36s 658us/sample - loss: 1.3108 - accuracy: 0.6745 - val_loss: 0.8185 - val_accuracy: 0.8170\n",
      "Epoch 2/15\n",
      "54000/54000 [==============================] - 31s 582us/sample - loss: 0.6855 - accuracy: 0.8507 - val_loss: 0.5751 - val_accuracy: 0.8772\n",
      "Epoch 3/15\n",
      "54000/54000 [==============================] - 31s 583us/sample - loss: 0.5268 - accuracy: 0.8806 - val_loss: 0.4716 - val_accuracy: 0.8925\n",
      "Epoch 4/15\n",
      "54000/54000 [==============================] - 40s 746us/sample - loss: 0.4465 - accuracy: 0.8941 - val_loss: 0.4088 - val_accuracy: 0.9045\n",
      "Epoch 5/15\n",
      "54000/54000 [==============================] - 38s 699us/sample - loss: 0.3960 - accuracy: 0.9036 - val_loss: 0.3674 - val_accuracy: 0.9087\n",
      "Epoch 6/15\n",
      "54000/54000 [==============================] - 37s 694us/sample - loss: 0.3596 - accuracy: 0.9103 - val_loss: 0.3354 - val_accuracy: 0.9142\n",
      "Epoch 7/15\n",
      "54000/54000 [==============================] - 38s 705us/sample - loss: 0.3307 - accuracy: 0.9159 - val_loss: 0.3141 - val_accuracy: 0.9190\n",
      "Epoch 8/15\n",
      "54000/54000 [==============================] - 41s 756us/sample - loss: 0.3068 - accuracy: 0.9219 - val_loss: 0.2878 - val_accuracy: 0.9262\n",
      "Epoch 9/15\n",
      "54000/54000 [==============================] - 39s 723us/sample - loss: 0.2863 - accuracy: 0.9263 - val_loss: 0.2716 - val_accuracy: 0.9310\n",
      "Epoch 10/15\n",
      "54000/54000 [==============================] - 35s 640us/sample - loss: 0.2680 - accuracy: 0.9313 - val_loss: 0.2535 - val_accuracy: 0.9332\n",
      "Epoch 11/15\n",
      "54000/54000 [==============================] - 36s 664us/sample - loss: 0.2517 - accuracy: 0.9350 - val_loss: 0.2437 - val_accuracy: 0.9372\n",
      "Epoch 12/15\n",
      "54000/54000 [==============================] - 32s 599us/sample - loss: 0.2369 - accuracy: 0.9385 - val_loss: 0.2268 - val_accuracy: 0.9398\n",
      "Epoch 13/15\n",
      "54000/54000 [==============================] - 35s 648us/sample - loss: 0.2237 - accuracy: 0.9415 - val_loss: 0.2145 - val_accuracy: 0.9422\n",
      "Epoch 14/15\n",
      "54000/54000 [==============================] - 36s 665us/sample - loss: 0.2118 - accuracy: 0.9445 - val_loss: 0.2031 - val_accuracy: 0.9477\n",
      "Epoch 15/15\n",
      "54000/54000 [==============================] - 36s 662us/sample - loss: 0.2006 - accuracy: 0.9477 - val_loss: 0.1918 - val_accuracy: 0.9507\n"
     ]
    }
   ],
   "source": [
    "history = model.fit(\n",
    "    X_train,\n",
    "    y_train_cat,\n",
    "    epochs=epochs,\n",
    "    batch_size=batch_size,\n",
    "    validation_data=(X_val,y_val_cat),\n",
    "    verbose=1 #default, show progress bar\n",
    ")"
   ]
  },
  {
   "cell_type": "markdown",
   "metadata": {},
   "source": [
    "**Note:** If you want to re-train the network from scratch after this step, you will have to call the *clear_backend()* function and re-define the whole network. Every model internally stores the state of the training at which it was stopped, if you don't clear it training will be taken up from where it was stopped before."
   ]
  },
  {
   "cell_type": "markdown",
   "metadata": {},
   "source": [
    "We can now evaluate the trained model on the test set and use it to generate predictions for new data."
   ]
  },
  {
   "cell_type": "code",
   "execution_count": 63,
   "metadata": {},
   "outputs": [
    {
     "name": "stdout",
     "output_type": "stream",
     "text": [
      "10000/10000 [==============================] - 2s 246us/sample - loss: 0.1911 - accuracy: 0.9515\n",
      "\n",
      "Test Loss:\t 0.19112833923101424\n",
      "Test Accuracy:\t 0.9515\n"
     ]
    }
   ],
   "source": [
    "#evaluate model on the test set\n",
    "test_loss, test_acc = model.evaluate(X_test, y_test_cat)\n",
    "\n",
    "print()\n",
    "print('Test Loss:\\t', test_loss)\n",
    "print('Test Accuracy:\\t', test_acc)"
   ]
  },
  {
   "cell_type": "markdown",
   "metadata": {},
   "source": [
    "Using the data contained in the history dictionary we can construct the **learning curves** associated with the training of our model."
   ]
  },
  {
   "cell_type": "code",
   "execution_count": 64,
   "metadata": {},
   "outputs": [
    {
     "data": {
      "image/png": "[encoded data removed]",
      "text/plain": [
       "<Figure size 576x432 with 1 Axes>"
      ]
     },
     "metadata": {
      "needs_background": "light"
     },
     "output_type": "display_data"
    }
   ],
   "source": [
    "#plot learning curves\n",
    "\n",
    "fig, ax = plt.subplots(figsize=(8,6))\n",
    "\n",
    "for metric in history.history:\n",
    "    \n",
    "    #subtract half epoch from training data\n",
    "    if len(metric.split('_')) < 2:\n",
    "        ax.plot(np.array(history.epoch)-.5, history.history[metric], label=metric)\n",
    "    else:\n",
    "        ax.plot(history.epoch, history.history[metric], label=metric)\n",
    "    \n",
    "ax.grid()    \n",
    "\n",
    "ax.legend(fontsize=15);"
   ]
  },
  {
   "cell_type": "markdown",
   "metadata": {},
   "source": [
    "We can also visualize the wrong predictions, in order to understand where the model fails."
   ]
  },
  {
   "cell_type": "code",
   "execution_count": 65,
   "metadata": {},
   "outputs": [],
   "source": [
    "#identify wrong predictions in the training set\n",
    "\n",
    "y_train_pred = model.predict(X_train).argmax(axis=1)\n",
    "\n",
    "idx_wrong = np.where(y_train_pred != y_train)[0] #positions of the wrongly classified data"
   ]
  },
  {
   "cell_type": "code",
   "execution_count": 66,
   "metadata": {},
   "outputs": [
    {
     "data": {
      "image/png": "[encoded data removed]",
      "text/plain": [
       "<Figure size 864x288 with 10 Axes>"
      ]
     },
     "metadata": {
      "needs_background": "light"
     },
     "output_type": "display_data"
    }
   ],
   "source": [
    "# show the first 10 wrong predictions the training set\n",
    "\n",
    "fig, axs = plt.subplots(2,5,figsize=(12,4))\n",
    "\n",
    "for i in range(10):\n",
    "    \n",
    "    ax = axs.ravel()[i]\n",
    "    \n",
    "    idx = idx_wrong[i]\n",
    "    \n",
    "    ax.imshow(X_train[idx], cmap='gray')\n",
    "    ax.set_title('TRUE: {}, PRED {}'.format(y_train[idx], y_train_pred[idx]), fontsize=13)\n",
    "    ax.axis('off')"
   ]
  },
  {
   "cell_type": "markdown",
   "metadata": {},
   "source": [
    "**NOTE:** You can compare the results obtained with this basic CNN with those obtained in the notebook on feed-forward networks. Despite having the same number of neurons in the hidden layer and a comparable number of parameters, the CNN reaches a test accuracy of 95% after only 15 epochs of training, while the dense network reached 92.5% after 30 epochs!"
   ]
  },
  {
   "cell_type": "markdown",
   "metadata": {},
   "source": [
    "## <center> **LeNet-5 (1998)** </center>"
   ]
  },
  {
   "cell_type": "markdown",
   "metadata": {},
   "source": [
    "We now show how to implement the first famous CNN architecture - LeNet-5 - that was implemented precisely with the purpose of recognizing hand-written digits.\n",
    "\n",
    "Here you have a graphical representation of the architecture, note that the input image is considered to be 32x32 because of the *same* padding."
   ]
  },
  {
   "cell_type": "markdown",
   "metadata": {},
   "source": [
    "![Architecture of LeNet-5](img/LeNet-5.png)"
   ]
  },
  {
   "cell_type": "markdown",
   "metadata": {},
   "source": [
    "The implementation in keras is straightforward:"
   ]
  },
  {
   "cell_type": "code",
   "execution_count": 67,
   "metadata": {},
   "outputs": [],
   "source": [
    "from tensorflow.keras.layers import AvgPool2D"
   ]
  },
  {
   "cell_type": "code",
   "execution_count": 81,
   "metadata": {},
   "outputs": [],
   "source": [
    "#very important! do it before you instantiate a brand new model\n",
    "#cleares the backend of all the previous instances of the models \n",
    "#which might interfere with the new instance\n",
    "keras.backend.clear_session()\n",
    "\n",
    "\n",
    "#we intend to pass as inputs images of shape 28x28 with only one channel\n",
    "#convolutional layers need to have the number of input channels explicitely specified\n",
    "inputs = Input(shape=(28,28)) \n",
    "x = Reshape(target_shape=(28,28,1))(inputs)\n",
    "\n",
    "#C1\n",
    "x = Conv2D(filters=6, kernel_size=(5,5), padding='same', strides=(1,1), activation='tanh')(x)\n",
    "\n",
    "#S2\n",
    "x = AvgPool2D(pool_size=(2,2), strides=(2,2),  padding='valid')(x)\n",
    "\n",
    "#C3\n",
    "x = Conv2D(filters=16, kernel_size=(5,5), padding='valid', strides=(1,1), activation='tanh')(x)\n",
    "\n",
    "#S4\n",
    "x = AvgPool2D(pool_size=(2,2), strides=(2,2),  padding='valid')(x)\n",
    "\n",
    "#C5\n",
    "x = Conv2D(filters=120, kernel_size=(5,5), padding='valid', strides=(1,1), activation='tanh')(x)\n",
    "\n",
    "\n",
    "#flatten the feature maps\n",
    "x = Flatten()(x)\n",
    "\n",
    "#F6\n",
    "x = Dense(84, activation='tanh')(x)\n",
    "\n",
    "#output layer with softmax for classification\n",
    "outputs = Dense(n_classes, activation='softmax')(x)\n",
    "\n",
    "\n",
    "#build model\n",
    "#NOTE: when building the network in this way, keras only needs tha inputs and the outputs of the model:\n",
    "#it will automatically reconstruct all of the dependencies that we declared before!\n",
    "lenet5 = Model(inputs=inputs, outputs=outputs, name='LeNet-5')"
   ]
  },
  {
   "cell_type": "code",
   "execution_count": 82,
   "metadata": {},
   "outputs": [
    {
     "name": "stdout",
     "output_type": "stream",
     "text": [
      "Model: \"LeNet-5\"\n",
      "_________________________________________________________________\n",
      "Layer (type)                 Output Shape              Param #   \n",
      "=================================================================\n",
      "input_1 (InputLayer)         [(None, 28, 28)]          0         \n",
      "_________________________________________________________________\n",
      "reshape (Reshape)            (None, 28, 28, 1)         0         \n",
      "_________________________________________________________________\n",
      "conv2d (Conv2D)              (None, 28, 28, 6)         156       \n",
      "_________________________________________________________________\n",
      "average_pooling2d (AveragePo (None, 14, 14, 6)         0         \n",
      "_________________________________________________________________\n",
      "conv2d_1 (Conv2D)            (None, 10, 10, 16)        2416      \n",
      "_________________________________________________________________\n",
      "average_pooling2d_1 (Average (None, 5, 5, 16)          0         \n",
      "_________________________________________________________________\n",
      "conv2d_2 (Conv2D)            (None, 1, 1, 120)         48120     \n",
      "_________________________________________________________________\n",
      "flatten (Flatten)            (None, 120)               0         \n",
      "_________________________________________________________________\n",
      "dense (Dense)                (None, 84)                10164     \n",
      "_________________________________________________________________\n",
      "dense_1 (Dense)              (None, 10)                850       \n",
      "=================================================================\n",
      "Total params: 61,706\n",
      "Trainable params: 61,706\n",
      "Non-trainable params: 0\n",
      "_________________________________________________________________\n"
     ]
    }
   ],
   "source": [
    "#we can now print a summary of the model we created\n",
    "\n",
    "lenet5.summary()"
   ]
  },
  {
   "cell_type": "markdown",
   "metadata": {},
   "source": [
    "**NOTE:** The actual implementation of the original LeNet-5 was a bit different in some details, such as a slightly different implementation of average pooling, the output of the last layer and connection between the S2 and C3 layers. Nonetheless, the main design of the architecture is exactly the same. You can look at our implementation as a modernized version of LeNet-5."
   ]
  },
  {
   "cell_type": "code",
   "execution_count": 83,
   "metadata": {},
   "outputs": [],
   "source": [
    "lenet5.compile(\n",
    "    loss='categorical_crossentropy',\n",
    "    optimizer='sgd',\n",
    "    metrics=['accuracy']\n",
    ")"
   ]
  },
  {
   "cell_type": "markdown",
   "metadata": {},
   "source": [
    "Now we are ready to train the network on the MNIST dataset:"
   ]
  },
  {
   "cell_type": "code",
   "execution_count": 84,
   "metadata": {},
   "outputs": [],
   "source": [
    "#define some hyperparameters\n",
    "\n",
    "epochs = 15\n",
    "batch_size = 128"
   ]
  },
  {
   "cell_type": "code",
   "execution_count": 85,
   "metadata": {},
   "outputs": [
    {
     "name": "stdout",
     "output_type": "stream",
     "text": [
      "Train on 54000 samples, validate on 6000 samples\n",
      "Epoch 1/15\n",
      "54000/54000 [==============================] - 50s 927us/sample - loss: 1.4207 - accuracy: 0.6599 - val_loss: 0.6570 - val_accuracy: 0.8432\n",
      "Epoch 2/15\n",
      "54000/54000 [==============================] - 51s 952us/sample - loss: 0.5242 - accuracy: 0.8658 - val_loss: 0.4340 - val_accuracy: 0.8832\n",
      "Epoch 3/15\n",
      "54000/54000 [==============================] - 48s 896us/sample - loss: 0.4000 - accuracy: 0.8899 - val_loss: 0.3633 - val_accuracy: 0.8985\n",
      "Epoch 4/15\n",
      "54000/54000 [==============================] - 43s 798us/sample - loss: 0.3469 - accuracy: 0.9012 - val_loss: 0.3231 - val_accuracy: 0.9073\n",
      "Epoch 5/15\n",
      "54000/54000 [==============================] - 48s 895us/sample - loss: 0.3129 - accuracy: 0.9101 - val_loss: 0.2939 - val_accuracy: 0.9165\n",
      "Epoch 6/15\n",
      "54000/54000 [==============================] - 50s 932us/sample - loss: 0.2872 - accuracy: 0.9178 - val_loss: 0.2714 - val_accuracy: 0.9220\n",
      "Epoch 7/15\n",
      "54000/54000 [==============================] - 49s 904us/sample - loss: 0.2660 - accuracy: 0.9229 - val_loss: 0.2509 - val_accuracy: 0.9267\n",
      "Epoch 8/15\n",
      "54000/54000 [==============================] - 50s 919us/sample - loss: 0.2480 - accuracy: 0.9283 - val_loss: 0.2348 - val_accuracy: 0.9305\n",
      "Epoch 9/15\n",
      "54000/54000 [==============================] - 50s 919us/sample - loss: 0.2320 - accuracy: 0.9329 - val_loss: 0.2209 - val_accuracy: 0.9348\n",
      "Epoch 10/15\n",
      "54000/54000 [==============================] - 51s 953us/sample - loss: 0.2177 - accuracy: 0.9367 - val_loss: 0.2068 - val_accuracy: 0.9402\n",
      "Epoch 11/15\n",
      "54000/54000 [==============================] - 50s 923us/sample - loss: 0.2048 - accuracy: 0.9402 - val_loss: 0.1948 - val_accuracy: 0.9425\n",
      "Epoch 12/15\n",
      "54000/54000 [==============================] - 49s 914us/sample - loss: 0.1931 - accuracy: 0.9435 - val_loss: 0.1840 - val_accuracy: 0.9470\n",
      "Epoch 13/15\n",
      "54000/54000 [==============================] - 48s 890us/sample - loss: 0.1825 - accuracy: 0.9467 - val_loss: 0.1735 - val_accuracy: 0.9492\n",
      "Epoch 14/15\n",
      "54000/54000 [==============================] - 48s 893us/sample - loss: 0.1727 - accuracy: 0.9495 - val_loss: 0.1643 - val_accuracy: 0.9508\n",
      "Epoch 15/15\n",
      "54000/54000 [==============================] - 50s 931us/sample - loss: 0.1638 - accuracy: 0.9527 - val_loss: 0.1565 - val_accuracy: 0.9535\n"
     ]
    }
   ],
   "source": [
    "history = lenet5.fit(\n",
    "    X_train,\n",
    "    y_train_cat,\n",
    "    epochs=epochs,\n",
    "    batch_size=batch_size,\n",
    "    validation_data=(X_val,y_val_cat),\n",
    "    verbose=1 #default, show progress bar\n",
    ")"
   ]
  },
  {
   "cell_type": "markdown",
   "metadata": {},
   "source": [
    "We can now evaluate the trained model on the test set and use it to generate predictions for new data."
   ]
  },
  {
   "cell_type": "code",
   "execution_count": 86,
   "metadata": {},
   "outputs": [
    {
     "name": "stdout",
     "output_type": "stream",
     "text": [
      "10000/10000 [==============================] - 3s 258us/sample - loss: 0.1494 - accuracy: 0.9559\n",
      "\n",
      "Test Loss:\t 0.14937702343314885\n",
      "Test Accuracy:\t 0.9559\n"
     ]
    }
   ],
   "source": [
    "#evaluate model on the test set\n",
    "test_loss, test_acc = lenet5.evaluate(X_test, y_test_cat)\n",
    "\n",
    "print()\n",
    "print('Test Loss:\\t', test_loss)\n",
    "print('Test Accuracy:\\t', test_acc)"
   ]
  },
  {
   "cell_type": "markdown",
   "metadata": {},
   "source": [
    "Using the data contained in the history dictionary we can construct the **learning curves** associated with the training of our model."
   ]
  },
  {
   "cell_type": "code",
   "execution_count": 87,
   "metadata": {},
   "outputs": [
    {
     "data": {
      "image/png": "[encoded data removed]",
      "text/plain": [
       "<Figure size 576x432 with 1 Axes>"
      ]
     },
     "metadata": {
      "needs_background": "light"
     },
     "output_type": "display_data"
    }
   ],
   "source": [
    "#plot learning curves\n",
    "\n",
    "fig, ax = plt.subplots(figsize=(8,6))\n",
    "\n",
    "for metric in history.history:\n",
    "    \n",
    "    #subtract half epoch from training data\n",
    "    if len(metric.split('_')) < 2:\n",
    "        ax.plot(np.array(history.epoch)-.5, history.history[metric], label=metric)\n",
    "    else:\n",
    "        ax.plot(history.epoch, history.history[metric], label=metric)\n",
    "    \n",
    "ax.grid()    \n",
    "\n",
    "ax.legend(fontsize=15);"
   ]
  },
  {
   "cell_type": "markdown",
   "metadata": {},
   "source": [
    "We can also visualize the wrong predictions, in order to understand where the model fails."
   ]
  },
  {
   "cell_type": "code",
   "execution_count": 88,
   "metadata": {},
   "outputs": [],
   "source": [
    "#identify wrong predictions in the training set\n",
    "\n",
    "y_train_pred = lenet5.predict(X_train).argmax(axis=1)\n",
    "\n",
    "idx_wrong = np.where(y_train_pred != y_train)[0] #positions of the wrongly classified data"
   ]
  },
  {
   "cell_type": "code",
   "execution_count": 89,
   "metadata": {},
   "outputs": [
    {
     "data": {
      "image/png": "[encoded data removed]",
      "text/plain": [
       "<Figure size 864x288 with 10 Axes>"
      ]
     },
     "metadata": {
      "needs_background": "light"
     },
     "output_type": "display_data"
    }
   ],
   "source": [
    "# show the first 10 wrong predictions the training set\n",
    "\n",
    "fig, axs = plt.subplots(2,5,figsize=(12,4))\n",
    "\n",
    "for i in range(10):\n",
    "    \n",
    "    ax = axs.ravel()[i]\n",
    "    \n",
    "    idx = idx_wrong[i]\n",
    "    \n",
    "    ax.imshow(X_train[idx], cmap='gray')\n",
    "    ax.set_title('TRUE: {}, PRED {}'.format(y_train[idx], y_train_pred[idx]), fontsize=13)\n",
    "    ax.axis('off')"
   ]
  },
  {
   "cell_type": "markdown",
   "metadata": {},
   "source": [
    "## <center> **The Inception Module** </center>"
   ]
  },
  {
   "cell_type": "markdown",
   "metadata": {},
   "source": [
    "The core idea behind the Inception module is that we dont really need to choose which is the right dimension of the convolutional filter to apply at a given depth. We can try a bunch of filters with different dimensions and concatenate the results, so that the next step in the network will choose on its own the ones that are most useful. In order to reduce the computational effort, 1x1 convolutions are added before the 3x3 and 5x5 convolutions and after the max pooling. The main effect of 1x1 convolutions is to collapse all the channels into a single one, thus limiting the number of operations to be carried out with larger and heavier filters.\n",
    "\n",
    "Below you can find a representation of the Inception module:"
   ]
  },
  {
   "cell_type": "markdown",
   "metadata": {},
   "source": [
    "![The Inception Module](img/inception_module.png)"
   ]
  },
  {
   "cell_type": "markdown",
   "metadata": {},
   "source": [
    "As you can see there are different computations to be done in parallel, processing the same input. This is clearly not implementable with the Sequential API and it is where the additional flexibility given by the Functional API comes in handy."
   ]
  },
  {
   "cell_type": "code",
   "execution_count": 20,
   "metadata": {},
   "outputs": [],
   "source": [
    "from tensorflow.keras.layers import concatenate\n",
    "\n",
    "#this function accepts as input the output of a preceding layer (or the original data) and\n",
    "#returns the output of the inception module\n",
    "#as we have seen, this is all the Functional API needs to know to build a model\n",
    "\n",
    "#the names of variables are to be interpreted as, for example:\n",
    "#c3_1 = number of channels for the 3x3 column, 1x1 convolution block\n",
    "def inception_block(inputs, c1, c3_1, c3_3, c5_1, c5_5, cMP_1):\n",
    "    \n",
    "    #1x1\n",
    "    conv1 = Conv2D(c1, kernel_size=(1,1), padding='same', activation='relu')(inputs)\n",
    "\n",
    "    #3x3\n",
    "    conv3 = Conv2D(c3_1, kernel_size=(1,1), padding='same', activation='relu')(inputs)\n",
    "    conv3 = Conv2D(c3_3, kernel_size=(3,3), padding='same', activation='relu')(conv3)\n",
    "    \n",
    "    #5x5\n",
    "    conv5 = Conv2D(c5_1, kernel_size=(1,1), padding='same', activation='relu')(inputs)\n",
    "    conv5 = Conv2D(c5_5, kernel_size=(5,5), padding='same', activation='relu')(conv5)\n",
    "    \n",
    "    #max pooling\n",
    "    max_pool = MaxPool2D(pool_size=(3,3), strides=(1,1), padding='same')(inputs)\n",
    "    max_pool = Conv2D(cMP_1, kernel_size=(1,1), padding='same', activation='relu')(max_pool)\n",
    "    \n",
    "    #concatenate all the output feature maps\n",
    "    out = concatenate([conv1,conv3,conv5,max_pool])\n",
    "    \n",
    "    return out"
   ]
  },
  {
   "cell_type": "markdown",
   "metadata": {},
   "source": [
    "We build a network with a couple of inception modules only to show how this should work."
   ]
  },
  {
   "cell_type": "code",
   "execution_count": 133,
   "metadata": {},
   "outputs": [],
   "source": [
    "#very important! do it before you instantiate a brand new model\n",
    "#cleares the backend of all the previous instances of the models \n",
    "#which might interfere with the new instance\n",
    "keras.backend.clear_session()\n",
    "\n",
    "#inputs\n",
    "inputs = Input(shape=(28,28)) \n",
    "x = Reshape(target_shape=(28,28,1))(inputs)\n",
    "\n",
    "# small inception block (random numbers of channels)\n",
    "x = inception_block(x, 16, 8, 32, 4, 8, 8)\n",
    "\n",
    "# 1x1 convolution to collapse channels\n",
    "x = Conv2D(3, kernel_size=(1,1), padding='same', activation='relu')(x)\n",
    "\n",
    "#flatten feature maps\n",
    "x = Flatten()(x)\n",
    "\n",
    "#output layer\n",
    "out = Dense(n_classes, activation='softmax')(x)\n",
    "\n",
    "inception_model = Model(inputs=inputs, outputs=out, name='inception_model')"
   ]
  },
  {
   "cell_type": "code",
   "execution_count": 134,
   "metadata": {},
   "outputs": [
    {
     "name": "stdout",
     "output_type": "stream",
     "text": [
      "Model: \"inception_model\"\n",
      "__________________________________________________________________________________________________\n",
      "Layer (type)                    Output Shape         Param #     Connected to                     \n",
      "==================================================================================================\n",
      "input_1 (InputLayer)            [(None, 28, 28)]     0                                            \n",
      "__________________________________________________________________________________________________\n",
      "reshape (Reshape)               (None, 28, 28, 1)    0           input_1[0][0]                    \n",
      "__________________________________________________________________________________________________\n",
      "conv2d_1 (Conv2D)               (None, 28, 28, 8)    16          reshape[0][0]                    \n",
      "__________________________________________________________________________________________________\n",
      "conv2d_3 (Conv2D)               (None, 28, 28, 4)    8           reshape[0][0]                    \n",
      "__________________________________________________________________________________________________\n",
      "max_pooling2d (MaxPooling2D)    (None, 28, 28, 1)    0           reshape[0][0]                    \n",
      "__________________________________________________________________________________________________\n",
      "conv2d (Conv2D)                 (None, 28, 28, 16)   32          reshape[0][0]                    \n",
      "__________________________________________________________________________________________________\n",
      "conv2d_2 (Conv2D)               (None, 28, 28, 32)   2336        conv2d_1[0][0]                   \n",
      "__________________________________________________________________________________________________\n",
      "conv2d_4 (Conv2D)               (None, 28, 28, 8)    808         conv2d_3[0][0]                   \n",
      "__________________________________________________________________________________________________\n",
      "conv2d_5 (Conv2D)               (None, 28, 28, 8)    16          max_pooling2d[0][0]              \n",
      "__________________________________________________________________________________________________\n",
      "concatenate (Concatenate)       (None, 28, 28, 64)   0           conv2d[0][0]                     \n",
      "                                                                 conv2d_2[0][0]                   \n",
      "                                                                 conv2d_4[0][0]                   \n",
      "                                                                 conv2d_5[0][0]                   \n",
      "__________________________________________________________________________________________________\n",
      "conv2d_6 (Conv2D)               (None, 28, 28, 3)    195         concatenate[0][0]                \n",
      "__________________________________________________________________________________________________\n",
      "flatten (Flatten)               (None, 2352)         0           conv2d_6[0][0]                   \n",
      "__________________________________________________________________________________________________\n",
      "dense (Dense)                   (None, 10)           23530       flatten[0][0]                    \n",
      "==================================================================================================\n",
      "Total params: 26,941\n",
      "Trainable params: 26,941\n",
      "Non-trainable params: 0\n",
      "__________________________________________________________________________________________________\n"
     ]
    }
   ],
   "source": [
    "inception_model.summary()"
   ]
  },
  {
   "cell_type": "code",
   "execution_count": 135,
   "metadata": {},
   "outputs": [],
   "source": [
    "inception_model.compile(\n",
    "    loss='categorical_crossentropy',\n",
    "    optimizer='sgd',\n",
    "    metrics=['accuracy']\n",
    ")"
   ]
  },
  {
   "cell_type": "markdown",
   "metadata": {},
   "source": [
    "Now we are ready to train the network on the MNIST dataset:"
   ]
  },
  {
   "cell_type": "code",
   "execution_count": 136,
   "metadata": {},
   "outputs": [],
   "source": [
    "#define some hyperparameters\n",
    "\n",
    "epochs = 3 #train only for few epochs, as a demonstration\n",
    "batch_size = 128"
   ]
  },
  {
   "cell_type": "code",
   "execution_count": 137,
   "metadata": {},
   "outputs": [
    {
     "name": "stdout",
     "output_type": "stream",
     "text": [
      "Train on 54000 samples, validate on 6000 samples\n",
      "Epoch 1/3\n",
      "54000/54000 [==============================] - 131s 2ms/sample - loss: 1.7615 - accuracy: 0.4071 - val_loss: 0.4409 - val_accuracy: 0.8748\n",
      "Epoch 2/3\n",
      "54000/54000 [==============================] - 132s 2ms/sample - loss: 0.3804 - accuracy: 0.8903 - val_loss: 0.3312 - val_accuracy: 0.9043\n",
      "Epoch 3/3\n",
      "54000/54000 [==============================] - 129s 2ms/sample - loss: 0.3377 - accuracy: 0.9024 - val_loss: 0.3145 - val_accuracy: 0.9118\n"
     ]
    }
   ],
   "source": [
    "history = inception_model.fit(\n",
    "    X_train,\n",
    "    y_train_cat,\n",
    "    epochs=epochs,\n",
    "    batch_size=batch_size,\n",
    "    validation_data=(X_val,y_val_cat),\n",
    "    verbose=1 #default, show progress bar\n",
    ")"
   ]
  },
  {
   "cell_type": "markdown",
   "metadata": {},
   "source": [
    "We can now evaluate the trained model on the test set and use it to generate predictions for new data."
   ]
  },
  {
   "cell_type": "code",
   "execution_count": 138,
   "metadata": {},
   "outputs": [
    {
     "name": "stdout",
     "output_type": "stream",
     "text": [
      "10000/10000 [==============================] - 6s 642us/sample - loss: 0.3099 - accuracy: 0.9129\n",
      "\n",
      "Test Loss:\t 0.30988716877698896\n",
      "Test Accuracy:\t 0.9129\n"
     ]
    }
   ],
   "source": [
    "#evaluate model on the test set\n",
    "test_loss, test_acc = inception_model.evaluate(X_test, y_test_cat)\n",
    "\n",
    "print()\n",
    "print('Test Loss:\\t', test_loss)\n",
    "print('Test Accuracy:\\t', test_acc)"
   ]
  },
  {
   "cell_type": "markdown",
   "metadata": {},
   "source": [
    "## <center> **Transfer Learning & Fine-tuning** </center>"
   ]
  },
  {
   "cell_type": "markdown",
   "metadata": {},
   "source": [
    "Training a DL model is usually a time and resource consuming activity, so one does not usually want to start all over again every time. Keras provide a very easy way to save and load complete models (and/or their weights). This is also a useful feature if one wants to use big pre-trained models which would be infeasible to train from scratch (like AlexNet, VGG etc.).\n",
    "\n",
    "We can adapt big pre-trained models to our needs by re-using their weights. This technique is called **Transfer Learning** and the idea at the base of it is that features learned on one task can be useful to accomplish another task which is similar enough. In practice this means that we keep the feature extraction part of the trained model and we strip off the classifier (usually the last dense layer), substituting it with a classifier more adapt for our new purpose. Then we train our new classifier using the features extracted by the **frozen** pre-trained model. Optionally, at the end of this part we may also un-freeze the pre-trained feature extractor and train the whole new network for some time on the new data with a very small learining rate. This procedure is called **fine-tuning**.\n",
    "\n",
    "This technique is usually employed when training a new big model from scratch is unfeasible for some reason, most often because of lack of adequate amounts of data and/or computational power."
   ]
  },
  {
   "cell_type": "markdown",
   "metadata": {},
   "source": [
    "For the sole purpose of explaining the workflow, we will now load [MobileNetv2](https://keras.io/api/applications/mobilenet/#mobilenetv2-function) and use it to recognize digits in MNIST. MobileNetv2 is a pretty deep convolutional architecture (it is composed of 88 layers) and makes quite a heavy use of [Depthwise Separable Convolutions](https://towardsdatascience.com/a-basic-introduction-to-separable-convolutions-b99ec3102728), which were introduced in the *Xception* architecture. It also incorporates Residual Connections and many other bells and whistles that makes the training more efficient. We chose this model, even though it is clearly an overkill for MNIST (and probably not well suited either, classifying dogs' races and handwritten digits are arguably two pretty different things), mainly because it is one of the smallest models that can be dowloaded directly from Keras Applications. The version we will load was trained on the ImageNet dataset, so we can expect that the feature extractor is well suited (even too much) for our purpose.\n",
    "\n",
    "A longer guide to transfer learning in keras can be found [here](https://keras.io/guides/transfer_learning/)."
   ]
  },
  {
   "cell_type": "markdown",
   "metadata": {},
   "source": [
    "### Transfer Learning"
   ]
  },
  {
   "cell_type": "code",
   "execution_count": 58,
   "metadata": {},
   "outputs": [],
   "source": [
    "from tensorflow.keras.layers import ZeroPadding2D, GlobalAveragePooling2D"
   ]
  },
  {
   "cell_type": "code",
   "execution_count": 84,
   "metadata": {},
   "outputs": [
    {
     "name": "stdout",
     "output_type": "stream",
     "text": [
      "Downloading data from https://github.com/JonathanCMitchell/mobilenet_v2_keras/releases/download/v1.1/mobilenet_v2_weights_tf_dim_ordering_tf_kernels_1.0_128_no_top.h5\n",
      "9412608/9406464 [==============================] - 3s 0us/step\n"
     ]
    }
   ],
   "source": [
    "# load model from keras\n",
    "mobnet = keras.applications.MobileNetV2(\n",
    "    weights='imagenet', #pre-trained weights on imagenet\n",
    "    include_top=False, #strip off dense classifier\n",
    "    input_shape=(128,128,3) #28x28 images are too small, see next cell\n",
    ")"
   ]
  },
  {
   "cell_type": "code",
   "execution_count": 90,
   "metadata": {
    "collapsed": true,
    "jupyter": {
     "outputs_hidden": true
    }
   },
   "outputs": [
    {
     "name": "stdout",
     "output_type": "stream",
     "text": [
      "Model: \"mobilenetv2_1.00_128\"\n",
      "__________________________________________________________________________________________________\n",
      "Layer (type)                    Output Shape         Param #     Connected to                     \n",
      "==================================================================================================\n",
      "input_2 (InputLayer)            [(None, 128, 128, 3) 0                                            \n",
      "__________________________________________________________________________________________________\n",
      "Conv1_pad (ZeroPadding2D)       (None, 129, 129, 3)  0           input_2[0][0]                    \n",
      "__________________________________________________________________________________________________\n",
      "Conv1 (Conv2D)                  (None, 64, 64, 32)   864         Conv1_pad[0][0]                  \n",
      "__________________________________________________________________________________________________\n",
      "bn_Conv1 (BatchNormalization)   (None, 64, 64, 32)   128         Conv1[0][0]                      \n",
      "__________________________________________________________________________________________________\n",
      "Conv1_relu (ReLU)               (None, 64, 64, 32)   0           bn_Conv1[0][0]                   \n",
      "__________________________________________________________________________________________________\n",
      "expanded_conv_depthwise (Depthw (None, 64, 64, 32)   288         Conv1_relu[0][0]                 \n",
      "__________________________________________________________________________________________________\n",
      "expanded_conv_depthwise_BN (Bat (None, 64, 64, 32)   128         expanded_conv_depthwise[0][0]    \n",
      "__________________________________________________________________________________________________\n",
      "expanded_conv_depthwise_relu (R (None, 64, 64, 32)   0           expanded_conv_depthwise_BN[0][0] \n",
      "__________________________________________________________________________________________________\n",
      "expanded_conv_project (Conv2D)  (None, 64, 64, 16)   512         expanded_conv_depthwise_relu[0][0\n",
      "__________________________________________________________________________________________________\n",
      "expanded_conv_project_BN (Batch (None, 64, 64, 16)   64          expanded_conv_project[0][0]      \n",
      "__________________________________________________________________________________________________\n",
      "block_1_expand (Conv2D)         (None, 64, 64, 96)   1536        expanded_conv_project_BN[0][0]   \n",
      "__________________________________________________________________________________________________\n",
      "block_1_expand_BN (BatchNormali (None, 64, 64, 96)   384         block_1_expand[0][0]             \n",
      "__________________________________________________________________________________________________\n",
      "block_1_expand_relu (ReLU)      (None, 64, 64, 96)   0           block_1_expand_BN[0][0]          \n",
      "__________________________________________________________________________________________________\n",
      "block_1_pad (ZeroPadding2D)     (None, 65, 65, 96)   0           block_1_expand_relu[0][0]        \n",
      "__________________________________________________________________________________________________\n",
      "block_1_depthwise (DepthwiseCon (None, 32, 32, 96)   864         block_1_pad[0][0]                \n",
      "__________________________________________________________________________________________________\n",
      "block_1_depthwise_BN (BatchNorm (None, 32, 32, 96)   384         block_1_depthwise[0][0]          \n",
      "__________________________________________________________________________________________________\n",
      "block_1_depthwise_relu (ReLU)   (None, 32, 32, 96)   0           block_1_depthwise_BN[0][0]       \n",
      "__________________________________________________________________________________________________\n",
      "block_1_project (Conv2D)        (None, 32, 32, 24)   2304        block_1_depthwise_relu[0][0]     \n",
      "__________________________________________________________________________________________________\n",
      "block_1_project_BN (BatchNormal (None, 32, 32, 24)   96          block_1_project[0][0]            \n",
      "__________________________________________________________________________________________________\n",
      "block_2_expand (Conv2D)         (None, 32, 32, 144)  3456        block_1_project_BN[0][0]         \n",
      "__________________________________________________________________________________________________\n",
      "block_2_expand_BN (BatchNormali (None, 32, 32, 144)  576         block_2_expand[0][0]             \n",
      "__________________________________________________________________________________________________\n",
      "block_2_expand_relu (ReLU)      (None, 32, 32, 144)  0           block_2_expand_BN[0][0]          \n",
      "__________________________________________________________________________________________________\n",
      "block_2_depthwise (DepthwiseCon (None, 32, 32, 144)  1296        block_2_expand_relu[0][0]        \n",
      "__________________________________________________________________________________________________\n",
      "block_2_depthwise_BN (BatchNorm (None, 32, 32, 144)  576         block_2_depthwise[0][0]          \n",
      "__________________________________________________________________________________________________\n",
      "block_2_depthwise_relu (ReLU)   (None, 32, 32, 144)  0           block_2_depthwise_BN[0][0]       \n",
      "__________________________________________________________________________________________________\n",
      "block_2_project (Conv2D)        (None, 32, 32, 24)   3456        block_2_depthwise_relu[0][0]     \n",
      "__________________________________________________________________________________________________\n",
      "block_2_project_BN (BatchNormal (None, 32, 32, 24)   96          block_2_project[0][0]            \n",
      "__________________________________________________________________________________________________\n",
      "block_2_add (Add)               (None, 32, 32, 24)   0           block_1_project_BN[0][0]         \n",
      "                                                                 block_2_project_BN[0][0]         \n",
      "__________________________________________________________________________________________________\n",
      "block_3_expand (Conv2D)         (None, 32, 32, 144)  3456        block_2_add[0][0]                \n",
      "__________________________________________________________________________________________________\n",
      "block_3_expand_BN (BatchNormali (None, 32, 32, 144)  576         block_3_expand[0][0]             \n",
      "__________________________________________________________________________________________________\n",
      "block_3_expand_relu (ReLU)      (None, 32, 32, 144)  0           block_3_expand_BN[0][0]          \n",
      "__________________________________________________________________________________________________\n",
      "block_3_pad (ZeroPadding2D)     (None, 33, 33, 144)  0           block_3_expand_relu[0][0]        \n",
      "__________________________________________________________________________________________________\n",
      "block_3_depthwise (DepthwiseCon (None, 16, 16, 144)  1296        block_3_pad[0][0]                \n",
      "__________________________________________________________________________________________________\n",
      "block_3_depthwise_BN (BatchNorm (None, 16, 16, 144)  576         block_3_depthwise[0][0]          \n",
      "__________________________________________________________________________________________________\n",
      "block_3_depthwise_relu (ReLU)   (None, 16, 16, 144)  0           block_3_depthwise_BN[0][0]       \n",
      "__________________________________________________________________________________________________\n",
      "block_3_project (Conv2D)        (None, 16, 16, 32)   4608        block_3_depthwise_relu[0][0]     \n",
      "__________________________________________________________________________________________________\n",
      "block_3_project_BN (BatchNormal (None, 16, 16, 32)   128         block_3_project[0][0]            \n",
      "__________________________________________________________________________________________________\n",
      "block_4_expand (Conv2D)         (None, 16, 16, 192)  6144        block_3_project_BN[0][0]         \n",
      "__________________________________________________________________________________________________\n",
      "block_4_expand_BN (BatchNormali (None, 16, 16, 192)  768         block_4_expand[0][0]             \n",
      "__________________________________________________________________________________________________\n",
      "block_4_expand_relu (ReLU)      (None, 16, 16, 192)  0           block_4_expand_BN[0][0]          \n",
      "__________________________________________________________________________________________________\n",
      "block_4_depthwise (DepthwiseCon (None, 16, 16, 192)  1728        block_4_expand_relu[0][0]        \n",
      "__________________________________________________________________________________________________\n",
      "block_4_depthwise_BN (BatchNorm (None, 16, 16, 192)  768         block_4_depthwise[0][0]          \n",
      "__________________________________________________________________________________________________\n",
      "block_4_depthwise_relu (ReLU)   (None, 16, 16, 192)  0           block_4_depthwise_BN[0][0]       \n",
      "__________________________________________________________________________________________________\n",
      "block_4_project (Conv2D)        (None, 16, 16, 32)   6144        block_4_depthwise_relu[0][0]     \n",
      "__________________________________________________________________________________________________\n",
      "block_4_project_BN (BatchNormal (None, 16, 16, 32)   128         block_4_project[0][0]            \n",
      "__________________________________________________________________________________________________\n",
      "block_4_add (Add)               (None, 16, 16, 32)   0           block_3_project_BN[0][0]         \n",
      "                                                                 block_4_project_BN[0][0]         \n",
      "__________________________________________________________________________________________________\n",
      "block_5_expand (Conv2D)         (None, 16, 16, 192)  6144        block_4_add[0][0]                \n",
      "__________________________________________________________________________________________________\n",
      "block_5_expand_BN (BatchNormali (None, 16, 16, 192)  768         block_5_expand[0][0]             \n",
      "__________________________________________________________________________________________________\n",
      "block_5_expand_relu (ReLU)      (None, 16, 16, 192)  0           block_5_expand_BN[0][0]          \n",
      "__________________________________________________________________________________________________\n",
      "block_5_depthwise (DepthwiseCon (None, 16, 16, 192)  1728        block_5_expand_relu[0][0]        \n",
      "__________________________________________________________________________________________________\n",
      "block_5_depthwise_BN (BatchNorm (None, 16, 16, 192)  768         block_5_depthwise[0][0]          \n",
      "__________________________________________________________________________________________________\n",
      "block_5_depthwise_relu (ReLU)   (None, 16, 16, 192)  0           block_5_depthwise_BN[0][0]       \n",
      "__________________________________________________________________________________________________\n",
      "block_5_project (Conv2D)        (None, 16, 16, 32)   6144        block_5_depthwise_relu[0][0]     \n",
      "__________________________________________________________________________________________________\n",
      "block_5_project_BN (BatchNormal (None, 16, 16, 32)   128         block_5_project[0][0]            \n",
      "__________________________________________________________________________________________________\n",
      "block_5_add (Add)               (None, 16, 16, 32)   0           block_4_add[0][0]                \n",
      "                                                                 block_5_project_BN[0][0]         \n",
      "__________________________________________________________________________________________________\n",
      "block_6_expand (Conv2D)         (None, 16, 16, 192)  6144        block_5_add[0][0]                \n",
      "__________________________________________________________________________________________________\n",
      "block_6_expand_BN (BatchNormali (None, 16, 16, 192)  768         block_6_expand[0][0]             \n",
      "__________________________________________________________________________________________________\n",
      "block_6_expand_relu (ReLU)      (None, 16, 16, 192)  0           block_6_expand_BN[0][0]          \n",
      "__________________________________________________________________________________________________\n",
      "block_6_pad (ZeroPadding2D)     (None, 17, 17, 192)  0           block_6_expand_relu[0][0]        \n",
      "__________________________________________________________________________________________________\n",
      "block_6_depthwise (DepthwiseCon (None, 8, 8, 192)    1728        block_6_pad[0][0]                \n",
      "__________________________________________________________________________________________________\n",
      "block_6_depthwise_BN (BatchNorm (None, 8, 8, 192)    768         block_6_depthwise[0][0]          \n",
      "__________________________________________________________________________________________________\n",
      "block_6_depthwise_relu (ReLU)   (None, 8, 8, 192)    0           block_6_depthwise_BN[0][0]       \n",
      "__________________________________________________________________________________________________\n",
      "block_6_project (Conv2D)        (None, 8, 8, 64)     12288       block_6_depthwise_relu[0][0]     \n",
      "__________________________________________________________________________________________________\n",
      "block_6_project_BN (BatchNormal (None, 8, 8, 64)     256         block_6_project[0][0]            \n",
      "__________________________________________________________________________________________________\n",
      "block_7_expand (Conv2D)         (None, 8, 8, 384)    24576       block_6_project_BN[0][0]         \n",
      "__________________________________________________________________________________________________\n",
      "block_7_expand_BN (BatchNormali (None, 8, 8, 384)    1536        block_7_expand[0][0]             \n",
      "__________________________________________________________________________________________________\n",
      "block_7_expand_relu (ReLU)      (None, 8, 8, 384)    0           block_7_expand_BN[0][0]          \n",
      "__________________________________________________________________________________________________\n",
      "block_7_depthwise (DepthwiseCon (None, 8, 8, 384)    3456        block_7_expand_relu[0][0]        \n",
      "__________________________________________________________________________________________________\n",
      "block_7_depthwise_BN (BatchNorm (None, 8, 8, 384)    1536        block_7_depthwise[0][0]          \n",
      "__________________________________________________________________________________________________\n",
      "block_7_depthwise_relu (ReLU)   (None, 8, 8, 384)    0           block_7_depthwise_BN[0][0]       \n",
      "__________________________________________________________________________________________________\n",
      "block_7_project (Conv2D)        (None, 8, 8, 64)     24576       block_7_depthwise_relu[0][0]     \n",
      "__________________________________________________________________________________________________\n",
      "block_7_project_BN (BatchNormal (None, 8, 8, 64)     256         block_7_project[0][0]            \n",
      "__________________________________________________________________________________________________\n",
      "block_7_add (Add)               (None, 8, 8, 64)     0           block_6_project_BN[0][0]         \n",
      "                                                                 block_7_project_BN[0][0]         \n",
      "__________________________________________________________________________________________________\n",
      "block_8_expand (Conv2D)         (None, 8, 8, 384)    24576       block_7_add[0][0]                \n",
      "__________________________________________________________________________________________________\n",
      "block_8_expand_BN (BatchNormali (None, 8, 8, 384)    1536        block_8_expand[0][0]             \n",
      "__________________________________________________________________________________________________\n",
      "block_8_expand_relu (ReLU)      (None, 8, 8, 384)    0           block_8_expand_BN[0][0]          \n",
      "__________________________________________________________________________________________________\n",
      "block_8_depthwise (DepthwiseCon (None, 8, 8, 384)    3456        block_8_expand_relu[0][0]        \n",
      "__________________________________________________________________________________________________\n",
      "block_8_depthwise_BN (BatchNorm (None, 8, 8, 384)    1536        block_8_depthwise[0][0]          \n",
      "__________________________________________________________________________________________________\n",
      "block_8_depthwise_relu (ReLU)   (None, 8, 8, 384)    0           block_8_depthwise_BN[0][0]       \n",
      "__________________________________________________________________________________________________\n",
      "block_8_project (Conv2D)        (None, 8, 8, 64)     24576       block_8_depthwise_relu[0][0]     \n",
      "__________________________________________________________________________________________________\n",
      "block_8_project_BN (BatchNormal (None, 8, 8, 64)     256         block_8_project[0][0]            \n",
      "__________________________________________________________________________________________________\n",
      "block_8_add (Add)               (None, 8, 8, 64)     0           block_7_add[0][0]                \n",
      "                                                                 block_8_project_BN[0][0]         \n",
      "__________________________________________________________________________________________________\n",
      "block_9_expand (Conv2D)         (None, 8, 8, 384)    24576       block_8_add[0][0]                \n",
      "__________________________________________________________________________________________________\n",
      "block_9_expand_BN (BatchNormali (None, 8, 8, 384)    1536        block_9_expand[0][0]             \n",
      "__________________________________________________________________________________________________\n",
      "block_9_expand_relu (ReLU)      (None, 8, 8, 384)    0           block_9_expand_BN[0][0]          \n",
      "__________________________________________________________________________________________________\n",
      "block_9_depthwise (DepthwiseCon (None, 8, 8, 384)    3456        block_9_expand_relu[0][0]        \n",
      "__________________________________________________________________________________________________\n",
      "block_9_depthwise_BN (BatchNorm (None, 8, 8, 384)    1536        block_9_depthwise[0][0]          \n",
      "__________________________________________________________________________________________________\n",
      "block_9_depthwise_relu (ReLU)   (None, 8, 8, 384)    0           block_9_depthwise_BN[0][0]       \n",
      "__________________________________________________________________________________________________\n",
      "block_9_project (Conv2D)        (None, 8, 8, 64)     24576       block_9_depthwise_relu[0][0]     \n",
      "__________________________________________________________________________________________________\n",
      "block_9_project_BN (BatchNormal (None, 8, 8, 64)     256         block_9_project[0][0]            \n",
      "__________________________________________________________________________________________________\n",
      "block_9_add (Add)               (None, 8, 8, 64)     0           block_8_add[0][0]                \n",
      "                                                                 block_9_project_BN[0][0]         \n",
      "__________________________________________________________________________________________________\n",
      "block_10_expand (Conv2D)        (None, 8, 8, 384)    24576       block_9_add[0][0]                \n",
      "__________________________________________________________________________________________________\n",
      "block_10_expand_BN (BatchNormal (None, 8, 8, 384)    1536        block_10_expand[0][0]            \n",
      "__________________________________________________________________________________________________\n",
      "block_10_expand_relu (ReLU)     (None, 8, 8, 384)    0           block_10_expand_BN[0][0]         \n",
      "__________________________________________________________________________________________________\n",
      "block_10_depthwise (DepthwiseCo (None, 8, 8, 384)    3456        block_10_expand_relu[0][0]       \n",
      "__________________________________________________________________________________________________\n",
      "block_10_depthwise_BN (BatchNor (None, 8, 8, 384)    1536        block_10_depthwise[0][0]         \n",
      "__________________________________________________________________________________________________\n",
      "block_10_depthwise_relu (ReLU)  (None, 8, 8, 384)    0           block_10_depthwise_BN[0][0]      \n",
      "__________________________________________________________________________________________________\n",
      "block_10_project (Conv2D)       (None, 8, 8, 96)     36864       block_10_depthwise_relu[0][0]    \n",
      "__________________________________________________________________________________________________\n",
      "block_10_project_BN (BatchNorma (None, 8, 8, 96)     384         block_10_project[0][0]           \n",
      "__________________________________________________________________________________________________\n",
      "block_11_expand (Conv2D)        (None, 8, 8, 576)    55296       block_10_project_BN[0][0]        \n",
      "__________________________________________________________________________________________________\n",
      "block_11_expand_BN (BatchNormal (None, 8, 8, 576)    2304        block_11_expand[0][0]            \n",
      "__________________________________________________________________________________________________\n",
      "block_11_expand_relu (ReLU)     (None, 8, 8, 576)    0           block_11_expand_BN[0][0]         \n",
      "__________________________________________________________________________________________________\n",
      "block_11_depthwise (DepthwiseCo (None, 8, 8, 576)    5184        block_11_expand_relu[0][0]       \n",
      "__________________________________________________________________________________________________\n",
      "block_11_depthwise_BN (BatchNor (None, 8, 8, 576)    2304        block_11_depthwise[0][0]         \n",
      "__________________________________________________________________________________________________\n",
      "block_11_depthwise_relu (ReLU)  (None, 8, 8, 576)    0           block_11_depthwise_BN[0][0]      \n",
      "__________________________________________________________________________________________________\n",
      "block_11_project (Conv2D)       (None, 8, 8, 96)     55296       block_11_depthwise_relu[0][0]    \n",
      "__________________________________________________________________________________________________\n",
      "block_11_project_BN (BatchNorma (None, 8, 8, 96)     384         block_11_project[0][0]           \n",
      "__________________________________________________________________________________________________\n",
      "block_11_add (Add)              (None, 8, 8, 96)     0           block_10_project_BN[0][0]        \n",
      "                                                                 block_11_project_BN[0][0]        \n",
      "__________________________________________________________________________________________________\n",
      "block_12_expand (Conv2D)        (None, 8, 8, 576)    55296       block_11_add[0][0]               \n",
      "__________________________________________________________________________________________________\n",
      "block_12_expand_BN (BatchNormal (None, 8, 8, 576)    2304        block_12_expand[0][0]            \n",
      "__________________________________________________________________________________________________\n",
      "block_12_expand_relu (ReLU)     (None, 8, 8, 576)    0           block_12_expand_BN[0][0]         \n",
      "__________________________________________________________________________________________________\n",
      "block_12_depthwise (DepthwiseCo (None, 8, 8, 576)    5184        block_12_expand_relu[0][0]       \n",
      "__________________________________________________________________________________________________\n",
      "block_12_depthwise_BN (BatchNor (None, 8, 8, 576)    2304        block_12_depthwise[0][0]         \n",
      "__________________________________________________________________________________________________\n",
      "block_12_depthwise_relu (ReLU)  (None, 8, 8, 576)    0           block_12_depthwise_BN[0][0]      \n",
      "__________________________________________________________________________________________________\n",
      "block_12_project (Conv2D)       (None, 8, 8, 96)     55296       block_12_depthwise_relu[0][0]    \n",
      "__________________________________________________________________________________________________\n",
      "block_12_project_BN (BatchNorma (None, 8, 8, 96)     384         block_12_project[0][0]           \n",
      "__________________________________________________________________________________________________\n",
      "block_12_add (Add)              (None, 8, 8, 96)     0           block_11_add[0][0]               \n",
      "                                                                 block_12_project_BN[0][0]        \n",
      "__________________________________________________________________________________________________\n",
      "block_13_expand (Conv2D)        (None, 8, 8, 576)    55296       block_12_add[0][0]               \n",
      "__________________________________________________________________________________________________\n",
      "block_13_expand_BN (BatchNormal (None, 8, 8, 576)    2304        block_13_expand[0][0]            \n",
      "__________________________________________________________________________________________________\n",
      "block_13_expand_relu (ReLU)     (None, 8, 8, 576)    0           block_13_expand_BN[0][0]         \n",
      "__________________________________________________________________________________________________\n",
      "block_13_pad (ZeroPadding2D)    (None, 9, 9, 576)    0           block_13_expand_relu[0][0]       \n",
      "__________________________________________________________________________________________________\n",
      "block_13_depthwise (DepthwiseCo (None, 4, 4, 576)    5184        block_13_pad[0][0]               \n",
      "__________________________________________________________________________________________________\n",
      "block_13_depthwise_BN (BatchNor (None, 4, 4, 576)    2304        block_13_depthwise[0][0]         \n",
      "__________________________________________________________________________________________________\n",
      "block_13_depthwise_relu (ReLU)  (None, 4, 4, 576)    0           block_13_depthwise_BN[0][0]      \n",
      "__________________________________________________________________________________________________\n",
      "block_13_project (Conv2D)       (None, 4, 4, 160)    92160       block_13_depthwise_relu[0][0]    \n",
      "__________________________________________________________________________________________________\n",
      "block_13_project_BN (BatchNorma (None, 4, 4, 160)    640         block_13_project[0][0]           \n",
      "__________________________________________________________________________________________________\n",
      "block_14_expand (Conv2D)        (None, 4, 4, 960)    153600      block_13_project_BN[0][0]        \n",
      "__________________________________________________________________________________________________\n",
      "block_14_expand_BN (BatchNormal (None, 4, 4, 960)    3840        block_14_expand[0][0]            \n",
      "__________________________________________________________________________________________________\n",
      "block_14_expand_relu (ReLU)     (None, 4, 4, 960)    0           block_14_expand_BN[0][0]         \n",
      "__________________________________________________________________________________________________\n",
      "block_14_depthwise (DepthwiseCo (None, 4, 4, 960)    8640        block_14_expand_relu[0][0]       \n",
      "__________________________________________________________________________________________________\n",
      "block_14_depthwise_BN (BatchNor (None, 4, 4, 960)    3840        block_14_depthwise[0][0]         \n",
      "__________________________________________________________________________________________________\n",
      "block_14_depthwise_relu (ReLU)  (None, 4, 4, 960)    0           block_14_depthwise_BN[0][0]      \n",
      "__________________________________________________________________________________________________\n",
      "block_14_project (Conv2D)       (None, 4, 4, 160)    153600      block_14_depthwise_relu[0][0]    \n",
      "__________________________________________________________________________________________________\n",
      "block_14_project_BN (BatchNorma (None, 4, 4, 160)    640         block_14_project[0][0]           \n",
      "__________________________________________________________________________________________________\n",
      "block_14_add (Add)              (None, 4, 4, 160)    0           block_13_project_BN[0][0]        \n",
      "                                                                 block_14_project_BN[0][0]        \n",
      "__________________________________________________________________________________________________\n",
      "block_15_expand (Conv2D)        (None, 4, 4, 960)    153600      block_14_add[0][0]               \n",
      "__________________________________________________________________________________________________\n",
      "block_15_expand_BN (BatchNormal (None, 4, 4, 960)    3840        block_15_expand[0][0]            \n",
      "__________________________________________________________________________________________________\n",
      "block_15_expand_relu (ReLU)     (None, 4, 4, 960)    0           block_15_expand_BN[0][0]         \n",
      "__________________________________________________________________________________________________\n",
      "block_15_depthwise (DepthwiseCo (None, 4, 4, 960)    8640        block_15_expand_relu[0][0]       \n",
      "__________________________________________________________________________________________________\n",
      "block_15_depthwise_BN (BatchNor (None, 4, 4, 960)    3840        block_15_depthwise[0][0]         \n",
      "__________________________________________________________________________________________________\n",
      "block_15_depthwise_relu (ReLU)  (None, 4, 4, 960)    0           block_15_depthwise_BN[0][0]      \n",
      "__________________________________________________________________________________________________\n",
      "block_15_project (Conv2D)       (None, 4, 4, 160)    153600      block_15_depthwise_relu[0][0]    \n",
      "__________________________________________________________________________________________________\n",
      "block_15_project_BN (BatchNorma (None, 4, 4, 160)    640         block_15_project[0][0]           \n",
      "__________________________________________________________________________________________________\n",
      "block_15_add (Add)              (None, 4, 4, 160)    0           block_14_add[0][0]               \n",
      "                                                                 block_15_project_BN[0][0]        \n",
      "__________________________________________________________________________________________________\n",
      "block_16_expand (Conv2D)        (None, 4, 4, 960)    153600      block_15_add[0][0]               \n",
      "__________________________________________________________________________________________________\n",
      "block_16_expand_BN (BatchNormal (None, 4, 4, 960)    3840        block_16_expand[0][0]            \n",
      "__________________________________________________________________________________________________\n",
      "block_16_expand_relu (ReLU)     (None, 4, 4, 960)    0           block_16_expand_BN[0][0]         \n",
      "__________________________________________________________________________________________________\n",
      "block_16_depthwise (DepthwiseCo (None, 4, 4, 960)    8640        block_16_expand_relu[0][0]       \n",
      "__________________________________________________________________________________________________\n",
      "block_16_depthwise_BN (BatchNor (None, 4, 4, 960)    3840        block_16_depthwise[0][0]         \n",
      "__________________________________________________________________________________________________\n",
      "block_16_depthwise_relu (ReLU)  (None, 4, 4, 960)    0           block_16_depthwise_BN[0][0]      \n",
      "__________________________________________________________________________________________________\n",
      "block_16_project (Conv2D)       (None, 4, 4, 320)    307200      block_16_depthwise_relu[0][0]    \n",
      "__________________________________________________________________________________________________\n",
      "block_16_project_BN (BatchNorma (None, 4, 4, 320)    1280        block_16_project[0][0]           \n",
      "__________________________________________________________________________________________________\n",
      "Conv_1 (Conv2D)                 (None, 4, 4, 1280)   409600      block_16_project_BN[0][0]        \n",
      "__________________________________________________________________________________________________\n",
      "Conv_1_bn (BatchNormalization)  (None, 4, 4, 1280)   5120        Conv_1[0][0]                     \n",
      "__________________________________________________________________________________________________\n",
      "out_relu (ReLU)                 (None, 4, 4, 1280)   0           Conv_1_bn[0][0]                  \n",
      "==================================================================================================\n",
      "Total params: 2,257,984\n",
      "Trainable params: 0\n",
      "Non-trainable params: 2,257,984\n",
      "__________________________________________________________________________________________________\n"
     ]
    }
   ],
   "source": [
    "mobnet.summary()"
   ]
  },
  {
   "cell_type": "code",
   "execution_count": 91,
   "metadata": {},
   "outputs": [],
   "source": [
    "keras.backend.clear_session()\n",
    "\n",
    "#BUILD THE NEW MODEL:\n",
    "\n",
    "### INPUTS\n",
    "inputs = Input(shape=(28,28)) \n",
    "x = Reshape(target_shape=(28,28,1))(inputs)\n",
    "\n",
    "#the network expects images with 3 channels and dimension at least 32x32\n",
    "x = ZeroPadding2D(padding=50)(x)\n",
    "x = concatenate([x,x,x])\n",
    "\n",
    "### PRE-TRAINED FEATURE EXTRACTOR\n",
    "\n",
    "#freeze mobilenet weights\n",
    "mobnet.trainable = False\n",
    "\n",
    "#add mobnet to the network only in inference mode (SEE LATER)\n",
    "x = mobnet(x, training=False)\n",
    "\n",
    "### CLASSIFIER\n",
    "\n",
    "#transform feature maps to vector in a smarter way than flattening\n",
    "x = GlobalAveragePooling2D()(x)\n",
    "\n",
    "#last dense layer with softmax\n",
    "outputs = Dense(n_classes, activation='softmax')(x)\n",
    "\n",
    "\n",
    "### BUILD MODEL\n",
    "mnist_mobnet = Model(inputs=inputs, outputs=outputs, name='mnist_mobnet')"
   ]
  },
  {
   "cell_type": "markdown",
   "metadata": {},
   "source": [
    "**NOTE:** There is a subtle difference between the effects of the \"trainable\" parameter and the \"training\" vs. \"inference\" mode in which one model might act. If you are interested, you can find a more detailed description of this difference [here](https://keras.io/getting_started/faq/#whats-the-difference-between-the-training-argument-in-call-and-the-trainable-attribute)."
   ]
  },
  {
   "cell_type": "code",
   "execution_count": 92,
   "metadata": {},
   "outputs": [
    {
     "name": "stdout",
     "output_type": "stream",
     "text": [
      "Model: \"mnist_mobnet\"\n",
      "__________________________________________________________________________________________________\n",
      "Layer (type)                    Output Shape         Param #     Connected to                     \n",
      "==================================================================================================\n",
      "input_1 (InputLayer)            [(None, 28, 28)]     0                                            \n",
      "__________________________________________________________________________________________________\n",
      "reshape (Reshape)               (None, 28, 28, 1)    0           input_1[0][0]                    \n",
      "__________________________________________________________________________________________________\n",
      "zero_padding2d (ZeroPadding2D)  (None, 128, 128, 1)  0           reshape[0][0]                    \n",
      "__________________________________________________________________________________________________\n",
      "concatenate (Concatenate)       (None, 128, 128, 3)  0           zero_padding2d[0][0]             \n",
      "                                                                 zero_padding2d[0][0]             \n",
      "                                                                 zero_padding2d[0][0]             \n",
      "__________________________________________________________________________________________________\n",
      "mobilenetv2_1.00_128 (Model)    (None, 4, 4, 1280)   2257984     concatenate[0][0]                \n",
      "__________________________________________________________________________________________________\n",
      "global_average_pooling2d (Globa (None, 1280)         0           mobilenetv2_1.00_128[2][0]       \n",
      "__________________________________________________________________________________________________\n",
      "dense (Dense)                   (None, 10)           12810       global_average_pooling2d[0][0]   \n",
      "==================================================================================================\n",
      "Total params: 2,270,794\n",
      "Trainable params: 12,810\n",
      "Non-trainable params: 2,257,984\n",
      "__________________________________________________________________________________________________\n"
     ]
    }
   ],
   "source": [
    "mnist_mobnet.summary()"
   ]
  },
  {
   "cell_type": "code",
   "execution_count": 93,
   "metadata": {},
   "outputs": [],
   "source": [
    "mnist_mobnet.compile(\n",
    "    loss='categorical_crossentropy',\n",
    "    optimizer='adam', #smarter optimizer than vanilla SGD\n",
    "    metrics=['accuracy']\n",
    ")"
   ]
  },
  {
   "cell_type": "markdown",
   "metadata": {},
   "source": [
    "Now we are ready to train the network on the MNIST dataset:"
   ]
  },
  {
   "cell_type": "code",
   "execution_count": 94,
   "metadata": {},
   "outputs": [],
   "source": [
    "#define some hyperparameters\n",
    "\n",
    "epochs = 1 #train only for one epoch, as a demonstration\n",
    "batch_size = 128"
   ]
  },
  {
   "cell_type": "code",
   "execution_count": 95,
   "metadata": {},
   "outputs": [
    {
     "name": "stdout",
     "output_type": "stream",
     "text": [
      "Train on 54000 samples, validate on 6000 samples\n",
      "54000/54000 [==============================] - 503s 9ms/sample - loss: 0.5482 - accuracy: 0.8427 - val_loss: 0.3056 - val_accuracy: 0.9125\n"
     ]
    }
   ],
   "source": [
    "history = mnist_mobnet.fit(\n",
    "    X_train,\n",
    "    y_train_cat,\n",
    "    epochs=epochs,\n",
    "    batch_size=batch_size,\n",
    "    validation_data=(X_val,y_val_cat),\n",
    "    verbose=1 #default, show progress bar\n",
    ")"
   ]
  },
  {
   "cell_type": "code",
   "execution_count": 96,
   "metadata": {},
   "outputs": [
    {
     "name": "stdout",
     "output_type": "stream",
     "text": [
      "10000/10000 [==============================] - 89s 9ms/sample - loss: 0.2961 - accuracy: 0.9163\n",
      "\n",
      "Test Loss:\t 0.29611287813186643\n",
      "Test Accuracy:\t 0.9163\n"
     ]
    }
   ],
   "source": [
    "#evaluate loaded model on the test set\n",
    "test_loss, test_acc = mnist_mobnet.evaluate(X_test, y_test_cat)\n",
    "\n",
    "print()\n",
    "print('Test Loss:\\t', test_loss)\n",
    "print('Test Accuracy:\\t', test_acc)"
   ]
  },
  {
   "cell_type": "markdown",
   "metadata": {},
   "source": [
    "So this model can reach a nice accuracy in only one epoch of training, but evidently can be replaced with much simpler models which will train in a shorter amount of time on this pretty simple task."
   ]
  },
  {
   "cell_type": "markdown",
   "metadata": {},
   "source": [
    "### Fine Tuning"
   ]
  },
  {
   "cell_type": "markdown",
   "metadata": {},
   "source": [
    "For the sake of showing the procedure, we can also take this thing a step further and add a **fine tuning** step to the training. This is done by un-freezing the mnist_mobnet weights and lowering considerably the learning rate to avoid destroying precious information encoded in the feature extractor and also avoid overfitting.\n",
    "\n",
    "You can find the code you would need to do this, the actual training will not be carried out even for one single epoch sisnce it would take way too much time on a normal laptop."
   ]
  },
  {
   "cell_type": "code",
   "execution_count": null,
   "metadata": {},
   "outputs": [],
   "source": [
    "#unfreeze the mobnet model's weights\n",
    "mobnet.trainable = True\n",
    "\n",
    "#recompile your model after you make any changes to the `trainable` attribute of any inner layer\n",
    "#your changes will not be taken into account otherwise\n",
    "mnist_mobnet.compile(\n",
    "    loss='categorical_crossentropy',\n",
    "    optimizer=keras.optimizers.Adam(1e-5),  # Very low learning rate\n",
    "    metrics=['accuracy']\n",
    ")\n",
    "\n",
    "\n",
    "history = mnist_mobnet.fit(\n",
    "    X_train,\n",
    "    y_train_cat,\n",
    "    epochs=epochs,\n",
    "    batch_size=batch_size,\n",
    "    validation_data=(X_val,y_val_cat),\n",
    ")"
   ]
  },
  {
   "cell_type": "markdown",
   "metadata": {},
   "source": [
    "## <center> **Exercises** </center>"
   ]
  },
  {
   "cell_type": "markdown",
   "metadata": {},
   "source": [
    "### Play with the code \n",
    "\n",
    "As always, the best way to understand is to change things and try to understand what happens. In neural networks there surely is not shortage of things you can change and get very different results: activations, loss function, epochs of training, batch size, optimizer, number of layers, number of neurons per layer, ..."
   ]
  },
  {
   "cell_type": "code",
   "execution_count": null,
   "metadata": {},
   "outputs": [],
   "source": []
  },
  {
   "cell_type": "markdown",
   "metadata": {},
   "source": [
    "### F-MNIST Dataset\n",
    "\n",
    "You have already encountered the Fashion-MNIST dataset. It has the advantage of being more difficult to learn for a neural network, while retaining the feature that made MNIST so widespread, like small size, abundance of data both for training and testing and being easy to handle. The ten classes in this case are categories of fashion items and clothes, images are 28x28 b/w as is for MNIST.\n",
    "\n",
    "Classification of this dataset is a task even better suited for a convolutional neural network, since there are more complex features to be learned than the simple ones you can find in digits. \n",
    "\n",
    "**Note:** You will need to apply also here the preprocessing steps!"
   ]
  },
  {
   "cell_type": "code",
   "execution_count": 33,
   "metadata": {},
   "outputs": [
    {
     "name": "stdout",
     "output_type": "stream",
     "text": [
      "(60000, 28, 28)\n",
      "(10000, 28, 28)\n"
     ]
    }
   ],
   "source": [
    "# load FMINST data\n",
    "\n",
    "from keras.datasets import fashion_mnist\n",
    "\n",
    "#load actual data\n",
    "(X_train, y_train), (X_test, y_test) = fashion_mnist.load_data()\n",
    "\n",
    "print(X_train.shape)\n",
    "print(X_test.shape)"
   ]
  },
  {
   "cell_type": "code",
   "execution_count": 34,
   "metadata": {},
   "outputs": [],
   "source": [
    "#class names are not provided with the data\n",
    "class_names = ['T-shirt/top', 'Trouser', 'Pullover', 'Dress', 'Coat',\n",
    "               'Sandal', 'Shirt', 'Sneaker', 'Bag', 'Ankle boot']\n",
    "\n",
    "d_class_name = dict(zip(range(10),class_names))"
   ]
  },
  {
   "cell_type": "code",
   "execution_count": 35,
   "metadata": {},
   "outputs": [
    {
     "data": {
      "image/png": "[encoded data removed]",
      "text/plain": [
       "<Figure size 864x288 with 10 Axes>"
      ]
     },
     "metadata": {
      "needs_background": "light"
     },
     "output_type": "display_data"
    }
   ],
   "source": [
    "# show the first 10 images in the training set\n",
    "\n",
    "fig, axs = plt.subplots(2,5,figsize=(12,4))\n",
    "\n",
    "for i in range(10):\n",
    "    \n",
    "    ax = axs.ravel()[i]\n",
    "    \n",
    "    ax.imshow(X_train[i], cmap='gray')\n",
    "    ax.set_title('{}'.format(d_class_name[y_train[i]]), fontsize=13)\n",
    "    ax.axis('off')"
   ]
  },
  {
   "cell_type": "code",
   "execution_count": 36,
   "metadata": {},
   "outputs": [
    {
     "data": {
      "image/png": "[encoded data removed]",
      "text/plain": [
       "<Figure size 432x288 with 1 Axes>"
      ]
     },
     "metadata": {
      "needs_background": "light"
     },
     "output_type": "display_data"
    }
   ],
   "source": [
    "plt.hlines(6000, -1, 10, linestyles='--')\n",
    "\n",
    "plt.hist(y_train, bins=np.linspace(-.5,9.5,11), rwidth=.8)\n",
    "plt.xticks(range(10), labels=class_names, rotation=90);"
   ]
  },
  {
   "cell_type": "code",
   "execution_count": null,
   "metadata": {},
   "outputs": [],
   "source": []
  },
  {
   "cell_type": "markdown",
   "metadata": {},
   "source": [
    "### CIFAR-10 Dataset\n",
    "\n",
    "The CIFAR-10 dataset takes all of this another step further, featuring 50,000 color images for training and 10,000 for testing. The ten classes in this case are categories of animals or transport means, images are 32x32 RGB, so with three input channels. The size of the images is still manageable, but the extra difficulties of color and more complex features are added. You can find more details [here](https://www.cs.toronto.edu/~kriz/cifar.html).\n",
    "\n",
    "**Note:** You will need to apply also here the preprocessing steps!"
   ]
  },
  {
   "cell_type": "code",
   "execution_count": 98,
   "metadata": {},
   "outputs": [
    {
     "name": "stdout",
     "output_type": "stream",
     "text": [
      "Downloading data from https://www.cs.toronto.edu/~kriz/cifar-10-python.tar.gz\n",
      "170500096/170498071 [==============================] - 47s 0us/step\n",
      "(50000, 32, 32, 3)\n",
      "(10000, 32, 32, 3)\n"
     ]
    }
   ],
   "source": [
    "# load CIFAR data\n",
    "\n",
    "from tensorflow.keras.datasets import cifar10\n",
    "\n",
    "#load actual data\n",
    "(X_train, y_train), (X_test, y_test) = cifar10.load_data()\n",
    "\n",
    "print(X_train.shape)\n",
    "print(X_test.shape)"
   ]
  },
  {
   "cell_type": "code",
   "execution_count": 106,
   "metadata": {},
   "outputs": [],
   "source": [
    "y_train = y_train.T[0]\n",
    "y_test = y_test.T[0]"
   ]
  },
  {
   "cell_type": "code",
   "execution_count": 118,
   "metadata": {},
   "outputs": [],
   "source": [
    "#class names are not provided with the data\n",
    "class_names = ['airplane', 'car', 'bird', 'cat', 'deer', 'dog', 'frog', 'horse', 'ship', 'truck']\n",
    "\n",
    "d_class_name = dict(zip(range(10),class_names))"
   ]
  },
  {
   "cell_type": "code",
   "execution_count": 119,
   "metadata": {},
   "outputs": [
    {
     "data": {
      "image/png": "[encoded data removed]",
      "text/plain": [
       "<Figure size 864x288 with 10 Axes>"
      ]
     },
     "metadata": {
      "needs_background": "light"
     },
     "output_type": "display_data"
    }
   ],
   "source": [
    "# show the first 10 images in the training set\n",
    "\n",
    "fig, axs = plt.subplots(2,5,figsize=(12,4))\n",
    "\n",
    "for i in range(10):\n",
    "    \n",
    "    ax = axs.ravel()[i]\n",
    "    \n",
    "    ax.imshow(X_train[i], cmap='gray')\n",
    "    ax.set_title('{}'.format(d_class_name[y_train[i]]), fontsize=13)\n",
    "    ax.axis('off')"
   ]
  },
  {
   "cell_type": "code",
   "execution_count": 120,
   "metadata": {},
   "outputs": [
    {
     "data": {
      "image/png": "[encoded data removed]",
      "text/plain": [
       "<Figure size 432x288 with 1 Axes>"
      ]
     },
     "metadata": {
      "needs_background": "light"
     },
     "output_type": "display_data"
    }
   ],
   "source": [
    "plt.hlines(5000, -1, 10, linestyles='--')\n",
    "\n",
    "plt.hist(y_train, bins=np.linspace(-.5,9.5,11), rwidth=.8)\n",
    "plt.xticks(range(10), labels=class_names, rotation=90);"
   ]
  },
  {
   "cell_type": "code",
   "execution_count": null,
   "metadata": {},
   "outputs": [],
   "source": []
  }
 ],
 "metadata": {
  "kernelspec": {
   "display_name": "Python 3",
   "language": "python",
   "name": "python3"
  },
  "language_info": {
   "codemirror_mode": {
    "name": "ipython",
    "version": 3
   },
   "file_extension": ".py",
   "mimetype": "text/x-python",
   "name": "python",
   "nbconvert_exporter": "python",
   "pygments_lexer": "ipython3",
   "version": "3.7.7"
  }
 },
 "nbformat": 4,
 "nbformat_minor": 4
}
