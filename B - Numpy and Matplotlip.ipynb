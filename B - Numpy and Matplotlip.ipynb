{
 "cells": [
  {
   "cell_type": "markdown",
   "metadata": {},
   "source": [
    "<table align=\"left\">\n",
    "  <td>\n",
    "    <a href=\"https://colab.research.google.com/github/fmottes/unito-neural-networks/blob/master/B%20-%20Numpy%20and%20Matplotlip.ipynb\">\n",
    "      <img src=\"https://colab.research.google.com/assets/colab-badge.svg\" alt=\"Open In Colab\" style=\"width:175px;\"/>\n",
    "    </a>\n",
    "  </td>\n",
    "</table>"
   ]
  },
  {
   "cell_type": "markdown",
   "metadata": {},
   "source": [
    "# <center> **Neural Networks** (MFN0824) </center>"
   ]
  },
  {
   "cell_type": "markdown",
   "metadata": {},
   "source": [
    "### Lectures: _Dr. Matteo Osella_\n",
    "### Notebooks: _Francesco Mottes_\n",
    "<br>\n",
    "\n",
    "---"
   ]
  },
  {
   "cell_type": "markdown",
   "metadata": {},
   "source": [
    "The material presented in the following is not meant to be a complete introduction to the Python programming language or to programming in general. The purpose of this notebook is to review some basic functionalities of the Python3 language, as well as some of the libraries that are most often used in Machine Learning and scientific applications in general. In particular, we will try to show many of the functionalities that will be needed for the practicals of the Neural Networks course.\n",
    "\n",
    "Further in-depth information, as well as more comprehensive introductions, can be found online quite easily. Below is a (short and incomplete) list of references that can guide further research into the presented topics. Other relevant references will be given when needed."
   ]
  },
  {
   "cell_type": "markdown",
   "metadata": {},
   "source": [
    "### Python references:\n",
    "- Python programming introductory book: Think Python (FREE: https://greenteapress.com/wp/think-python-2e/)\n",
    "- Python3 Docs: https://docs.python.org/3/\n",
    "- Python stilistic guide: https://www.python.org/dev/peps/pep-0008/\n",
    "\n",
    "### Python modules references:\n",
    "- Numpy Docs: https://numpy.org/\n",
    "- Matplotlib Docs: https://matplotlib.org/\n",
    "- Scikit-learn Docs: https://scikit-learn.org/"
   ]
  },
  {
   "cell_type": "markdown",
   "metadata": {},
   "source": [
    "# <center> **B - Numpy and Matplotlib Review** </center>"
   ]
  },
  {
   "cell_type": "markdown",
   "metadata": {},
   "source": [
    "Numpy is a library that provides many pre-implemented high-performance data types (for us mainly 1D and 2D **arrays**) and algorithms for numerical computation. Many other libraries, included those used for deep learning, use numpy arrays and algorithms extensively, so it is of paramount importance to understand the basics of it.\n",
    "\n",
    "Matplotlib is one of the most used plotting libraries for python. It is based on numpy, is very powerful and flexible but it is also very simple to learn its basic usage. We will use this library for all the plots you will find in course notebooks. "
   ]
  },
  {
   "cell_type": "markdown",
   "metadata": {},
   "source": [
    "## <center> **Numpy** </center>"
   ]
  },
  {
   "cell_type": "code",
   "execution_count": 1,
   "metadata": {},
   "outputs": [],
   "source": [
    "import numpy as np #this is the standard name given to numpy on import"
   ]
  },
  {
   "cell_type": "markdown",
   "metadata": {},
   "source": [
    "The fundamental data type of numpy is the **array**, which is basically a python list \"on steroids\". Arrays behave pretty much like lists in python, but have many additional features and methods. They support indexing in exactly the same way as lists, but all the elements of a numpy array must be of the same type, differently from a list. You can iterate over a numpy array, you can have a numpy array containing other numpy arrays (2D arrays). Let's see some examples."
   ]
  },
  {
   "cell_type": "markdown",
   "metadata": {},
   "source": [
    "## **Creation**"
   ]
  },
  {
   "cell_type": "code",
   "execution_count": 4,
   "metadata": {},
   "outputs": [
    {
     "data": {
      "text/plain": [
       "array([], dtype=float64)"
      ]
     },
     "execution_count": 4,
     "metadata": {},
     "output_type": "execute_result"
    }
   ],
   "source": [
    "#array from empty list\n",
    "a = np.array([])\n",
    "a"
   ]
  },
  {
   "cell_type": "code",
   "execution_count": 5,
   "metadata": {},
   "outputs": [
    {
     "data": {
      "text/plain": [
       "array([1, 2, 3])"
      ]
     },
     "execution_count": 5,
     "metadata": {},
     "output_type": "execute_result"
    }
   ],
   "source": [
    "#array from list\n",
    "a = np.array([1,2,3])\n",
    "a"
   ]
  },
  {
   "cell_type": "code",
   "execution_count": 6,
   "metadata": {},
   "outputs": [
    {
     "name": "stdout",
     "output_type": "stream",
     "text": [
      "(3,)\n",
      "3\n"
     ]
    }
   ],
   "source": [
    "#check the shape of the array\n",
    "print(a.shape)\n",
    "print(len(a))"
   ]
  },
  {
   "cell_type": "code",
   "execution_count": 9,
   "metadata": {},
   "outputs": [
    {
     "name": "stdout",
     "output_type": "stream",
     "text": [
      "[[1 2 3]\n",
      " [4 5 6]]\n",
      "\n",
      "(2, 3)\n"
     ]
    }
   ],
   "source": [
    "#2D array from list\n",
    "a = np.array([[1,2,3],[4,5,6]])\n",
    "\n",
    "print(a)\n",
    "print()\n",
    "print(a.shape)"
   ]
  },
  {
   "cell_type": "code",
   "execution_count": 10,
   "metadata": {},
   "outputs": [
    {
     "data": {
      "text/plain": [
       "array([0., 0., 0., 0., 0., 0., 0., 0., 0., 0.])"
      ]
     },
     "execution_count": 10,
     "metadata": {},
     "output_type": "execute_result"
    }
   ],
   "source": [
    "#1d array of zeros\n",
    "a = np.zeros(10)\n",
    "a"
   ]
  },
  {
   "cell_type": "code",
   "execution_count": 11,
   "metadata": {},
   "outputs": [
    {
     "data": {
      "text/plain": [
       "array([[1., 1., 1., 1.],\n",
       "       [1., 1., 1., 1.]])"
      ]
     },
     "execution_count": 11,
     "metadata": {},
     "output_type": "execute_result"
    }
   ],
   "source": [
    "#2d array of ones\n",
    "a = np.ones((2,4))\n",
    "a"
   ]
  },
  {
   "cell_type": "code",
   "execution_count": 13,
   "metadata": {},
   "outputs": [
    {
     "data": {
      "text/plain": [
       "array([2, 4, 6, 8])"
      ]
     },
     "execution_count": 13,
     "metadata": {},
     "output_type": "execute_result"
    }
   ],
   "source": [
    "#range with fixed step size - same syntax as range()\n",
    "a = np.arange(2,10,2)\n",
    "a"
   ]
  },
  {
   "cell_type": "code",
   "execution_count": 14,
   "metadata": {},
   "outputs": [
    {
     "data": {
      "text/plain": [
       "array([ 2.        ,  2.57142857,  3.14285714,  3.71428571,  4.28571429,\n",
       "        4.85714286,  5.42857143,  6.        ,  6.57142857,  7.14285714,\n",
       "        7.71428571,  8.28571429,  8.85714286,  9.42857143, 10.        ])"
      ]
     },
     "execution_count": 14,
     "metadata": {},
     "output_type": "execute_result"
    }
   ],
   "source": [
    "#range with fixed equally (linearly) spaced number of points\n",
    "a = np.linspace(2,10,num=15)\n",
    "a"
   ]
  },
  {
   "cell_type": "code",
   "execution_count": 15,
   "metadata": {},
   "outputs": [
    {
     "data": {
      "text/plain": [
       "array([  1.        ,   1.27427499,   1.62377674,   2.06913808,\n",
       "         2.6366509 ,   3.35981829,   4.2813324 ,   5.45559478,\n",
       "         6.95192796,   8.8586679 ,  11.28837892,  14.38449888,\n",
       "        18.32980711,  23.35721469,  29.76351442,  37.92690191,\n",
       "        48.32930239,  61.58482111,  78.47599704, 100.        ])"
      ]
     },
     "execution_count": 15,
     "metadata": {},
     "output_type": "execute_result"
    }
   ],
   "source": [
    "#range with fixed equally (logarithmically) spaced number of points\n",
    "a = np.logspace(0,2,num=20) #20 logarithmically spaced points from 10**0=1 to 10**2=100\n",
    "a"
   ]
  },
  {
   "cell_type": "code",
   "execution_count": 19,
   "metadata": {},
   "outputs": [
    {
     "name": "stdout",
     "output_type": "stream",
     "text": [
      "int64 [0 1 2 3 4 5 6 7 8 9]\n",
      "float64 [0. 1. 2. 3. 4. 5. 6. 7. 8. 9.]\n"
     ]
    }
   ],
   "source": [
    "#change data type of array\n",
    "a = np.arange(10)\n",
    "\n",
    "print(a.dtype, a)\n",
    "\n",
    "a = a.astype(float)\n",
    "print(a.dtype, a)\n",
    "\n",
    "#NOTE: we did NOT write a.dtype = int !!!"
   ]
  },
  {
   "cell_type": "markdown",
   "metadata": {},
   "source": [
    "## **Indexing, Transposing, Reshaping**"
   ]
  },
  {
   "cell_type": "code",
   "execution_count": 22,
   "metadata": {},
   "outputs": [
    {
     "data": {
      "text/plain": [
       "array([[0, 1, 2, 3, 4],\n",
       "       [5, 6, 7, 8, 9]])"
      ]
     },
     "execution_count": 22,
     "metadata": {},
     "output_type": "execute_result"
    }
   ],
   "source": [
    "# reshape a 1d array into a 2d one\n",
    "a = np.arange(10)\n",
    "\n",
    "a = a.reshape(2,5) #note that reshape returns a COPY of the original array\n",
    "\n",
    "a"
   ]
  },
  {
   "cell_type": "code",
   "execution_count": 23,
   "metadata": {},
   "outputs": [
    {
     "data": {
      "text/plain": [
       "array([0, 1, 2, 3, 4, 5, 6, 7, 8, 9])"
      ]
     },
     "execution_count": 23,
     "metadata": {},
     "output_type": "execute_result"
    }
   ],
   "source": [
    "#flatten a 2d array\n",
    "a.flatten()"
   ]
  },
  {
   "cell_type": "code",
   "execution_count": 27,
   "metadata": {},
   "outputs": [
    {
     "data": {
      "text/plain": [
       "array([[0, 5],\n",
       "       [1, 6],\n",
       "       [2, 7],\n",
       "       [3, 8],\n",
       "       [4, 9]])"
      ]
     },
     "execution_count": 27,
     "metadata": {},
     "output_type": "execute_result"
    }
   ],
   "source": [
    "#transpose a 2d array\n",
    "a.T\n",
    "\n",
    "#equivalent to:\n",
    "# a.transpose()\n",
    "# np.transpose(a)"
   ]
  },
  {
   "cell_type": "code",
   "execution_count": 31,
   "metadata": {},
   "outputs": [
    {
     "name": "stdout",
     "output_type": "stream",
     "text": [
      "[0 1 2 3 4]\n"
     ]
    }
   ],
   "source": [
    "#INDEXING\n",
    "#very similar to list indexing, but indexing can be composed in case of 2d arrays\n",
    "\n",
    "#get first row of a\n",
    "print(a[0])"
   ]
  },
  {
   "cell_type": "code",
   "execution_count": 32,
   "metadata": {},
   "outputs": [
    {
     "name": "stdout",
     "output_type": "stream",
     "text": [
      "1 1\n"
     ]
    }
   ],
   "source": [
    "#get second element of first row\n",
    "print(a[0][1], a[0,1]) #the second way is faster"
   ]
  },
  {
   "cell_type": "code",
   "execution_count": 33,
   "metadata": {},
   "outputs": [
    {
     "name": "stdout",
     "output_type": "stream",
     "text": [
      "[0 5]\n"
     ]
    }
   ],
   "source": [
    "#get first column of a\n",
    "print(a[:,0])"
   ]
  },
  {
   "cell_type": "code",
   "execution_count": 35,
   "metadata": {},
   "outputs": [
    {
     "name": "stdout",
     "output_type": "stream",
     "text": [
      "[[0 1 2]\n",
      " [5 6 7]]\n"
     ]
    }
   ],
   "source": [
    "#drop the last two columns of a\n",
    "print(a[:,:-2])"
   ]
  },
  {
   "cell_type": "markdown",
   "metadata": {},
   "source": [
    "## **Array methods**"
   ]
  },
  {
   "cell_type": "markdown",
   "metadata": {},
   "source": [
    "**NOTE:** the dimensions of the arrays are called *axis*. *axis=0* moves through the rows of the array, so if something is done *along axis=0* means it is done column by column, on the contrary, operations carried on *along axis=1* are done row by row. It can be pretty counter-intuitive in the beginning, but we will see some examples."
   ]
  },
  {
   "cell_type": "code",
   "execution_count": 38,
   "metadata": {},
   "outputs": [
    {
     "data": {
      "text/plain": [
       "array([[0, 1, 2, 3, 4],\n",
       "       [5, 6, 7, 8, 9]])"
      ]
     },
     "execution_count": 38,
     "metadata": {},
     "output_type": "execute_result"
    }
   ],
   "source": [
    "a = np.arange(10)\n",
    "a = a.reshape(2,5) #note that reshape returns a COPY of the original array\n",
    "\n",
    "a"
   ]
  },
  {
   "cell_type": "code",
   "execution_count": 39,
   "metadata": {},
   "outputs": [
    {
     "name": "stdout",
     "output_type": "stream",
     "text": [
      "4.5\n",
      "[2.5 3.5 4.5 5.5 6.5]\n",
      "[2. 7.]\n"
     ]
    }
   ],
   "source": [
    "#calculate the mean along the two axes\n",
    "print(a.mean()) #flattened array\n",
    "print(a.mean(axis=0)) #column mean\n",
    "print(a.mean(axis=1)) #row mean"
   ]
  },
  {
   "cell_type": "code",
   "execution_count": 41,
   "metadata": {},
   "outputs": [
    {
     "name": "stdout",
     "output_type": "stream",
     "text": [
      "2.8722813232690143\n",
      "9\n",
      "0\n",
      "45\n"
     ]
    }
   ],
   "source": [
    "# other functions - same rules for axes\n",
    "print(a.std()) #standard deviation\n",
    "print(a.max())\n",
    "print(a.min())\n",
    "print(a.sum())"
   ]
  },
  {
   "cell_type": "code",
   "execution_count": 47,
   "metadata": {},
   "outputs": [
    {
     "name": "stdout",
     "output_type": "stream",
     "text": [
      "6\n",
      "[0 6]\n",
      "[[0 5]\n",
      " [1 6]\n",
      " [2 7]\n",
      " [3 8]\n",
      " [4 9]]\n",
      "[10. 35.]\n"
     ]
    }
   ],
   "source": [
    "#since a is a 2d array we can use some functionalities related to matrices as well\n",
    "print(a.trace())\n",
    "print(a.diagonal())\n",
    "print(a.T)\n",
    "\n",
    "b = np.ones(5)\n",
    "print(a.dot(b)) #matrix product: 2x5 dot 5x1 = 2x1"
   ]
  },
  {
   "cell_type": "markdown",
   "metadata": {},
   "source": [
    "**NOTE:** numpy also provides a \"matrix\" data type to deal more specifically with matrix operations, but the array data type will be well suited and sufficient to address the topics of thi course."
   ]
  },
  {
   "cell_type": "markdown",
   "metadata": {},
   "source": [
    "## **Vectorized Operations**"
   ]
  },
  {
   "cell_type": "markdown",
   "metadata": {},
   "source": [
    "Numpy provides a fast way to carry out element-wise operations on arrays. Almost all normal operations are interpreted to be element-wise operations when a numpy array is involved, if this makes sense. Also all functions provided by numpy are able to perform such a trick, which makes calculations faster both to write and to run."
   ]
  },
  {
   "cell_type": "code",
   "execution_count": 48,
   "metadata": {},
   "outputs": [
    {
     "data": {
      "text/plain": [
       "array([[0, 1, 2, 3, 4],\n",
       "       [5, 6, 7, 8, 9]])"
      ]
     },
     "execution_count": 48,
     "metadata": {},
     "output_type": "execute_result"
    }
   ],
   "source": [
    "a"
   ]
  },
  {
   "cell_type": "code",
   "execution_count": 49,
   "metadata": {},
   "outputs": [
    {
     "data": {
      "text/plain": [
       "array([[ 1,  2,  3,  4,  5],\n",
       "       [ 6,  7,  8,  9, 10]])"
      ]
     },
     "execution_count": 49,
     "metadata": {},
     "output_type": "execute_result"
    }
   ],
   "source": [
    "#vectorized sum/subtraction\n",
    "a+1"
   ]
  },
  {
   "cell_type": "code",
   "execution_count": 50,
   "metadata": {},
   "outputs": [
    {
     "data": {
      "text/plain": [
       "array([[ 0,  3,  6,  9, 12],\n",
       "       [15, 18, 21, 24, 27]])"
      ]
     },
     "execution_count": 50,
     "metadata": {},
     "output_type": "execute_result"
    }
   ],
   "source": [
    "#vectorized multiplication/division\n",
    "a*3"
   ]
  },
  {
   "cell_type": "code",
   "execution_count": 54,
   "metadata": {},
   "outputs": [
    {
     "data": {
      "text/plain": [
       "array([[0.        , 0.16666667, 0.28571429, 0.375     , 0.44444444],\n",
       "       [0.5       , 0.54545455, 0.58333333, 0.61538462, 0.64285714]])"
      ]
     },
     "execution_count": 54,
     "metadata": {},
     "output_type": "execute_result"
    }
   ],
   "source": [
    "# sum/subtract/mult/divide arrays with same shape\n",
    "b = a+5\n",
    "a/b"
   ]
  },
  {
   "cell_type": "code",
   "execution_count": 55,
   "metadata": {},
   "outputs": [
    {
     "data": {
      "text/plain": [
       "array([[0.        , 1.        , 1.41421356, 1.73205081, 2.        ],\n",
       "       [2.23606798, 2.44948974, 2.64575131, 2.82842712, 3.        ]])"
      ]
     },
     "execution_count": 55,
     "metadata": {},
     "output_type": "execute_result"
    }
   ],
   "source": [
    "#square root\n",
    "np.sqrt(a)"
   ]
  },
  {
   "cell_type": "markdown",
   "metadata": {},
   "source": [
    "## **Random Generators**"
   ]
  },
  {
   "cell_type": "markdown",
   "metadata": {},
   "source": [
    "The numpy.random module provides many useful functions based on random number generation."
   ]
  },
  {
   "cell_type": "code",
   "execution_count": 58,
   "metadata": {},
   "outputs": [
    {
     "data": {
      "text/plain": [
       "array([0.1087501 , 0.29837419, 0.68346114, 0.16857647, 0.88307322])"
      ]
     },
     "execution_count": 58,
     "metadata": {},
     "output_type": "execute_result"
    }
   ],
   "source": [
    "#uniformly distributed random array\n",
    "a = np.random.uniform(size=5)\n",
    "a"
   ]
  },
  {
   "cell_type": "code",
   "execution_count": 59,
   "metadata": {},
   "outputs": [
    {
     "data": {
      "text/plain": [
       "array([ 0.74537663,  0.35084188,  0.19156066, -1.4429529 ,  0.0982341 ])"
      ]
     },
     "execution_count": 59,
     "metadata": {},
     "output_type": "execute_result"
    }
   ],
   "source": [
    "#gaussian distributed random array\n",
    "a = np.random.normal(size=5)\n",
    "a"
   ]
  },
  {
   "cell_type": "code",
   "execution_count": 61,
   "metadata": {},
   "outputs": [
    {
     "name": "stdout",
     "output_type": "stream",
     "text": [
      "[0 1 2 3 4 5 6 7 8 9]\n",
      "[3 0 6 4 5 8 1 2 7 9]\n"
     ]
    }
   ],
   "source": [
    "#shuffle array elements\n",
    "a = np.arange(10)\n",
    "print(a)\n",
    "\n",
    "np.random.shuffle(a)\n",
    "print(a)"
   ]
  },
  {
   "cell_type": "code",
   "execution_count": 66,
   "metadata": {},
   "outputs": [
    {
     "name": "stdout",
     "output_type": "stream",
     "text": [
      "[[ 0  1  2  3  4]\n",
      " [ 5  6  7  8  9]\n",
      " [10 11 12 13 14]]\n",
      "\n",
      "[[ 5  6  7  8  9]\n",
      " [10 11 12 13 14]\n",
      " [ 0  1  2  3  4]]\n"
     ]
    }
   ],
   "source": [
    "#shuffle rows of an array\n",
    "a = np.arange(15).reshape(3,5)\n",
    "print(a)\n",
    "print()\n",
    "\n",
    "np.random.shuffle(a)\n",
    "print(a)\n",
    "\n",
    "# NOTE: shuffle() acts ONLY on axis=0"
   ]
  },
  {
   "cell_type": "code",
   "execution_count": 64,
   "metadata": {},
   "outputs": [
    {
     "name": "stdout",
     "output_type": "stream",
     "text": [
      "[1 6 7 8 8 2 0 7 5 7 4 9 1 4 6]\n",
      "[7 6 2 9 0]\n"
     ]
    }
   ],
   "source": [
    "#draw samples from array elements\n",
    "a = np.arange(10)\n",
    "\n",
    "#with replacement\n",
    "print(np.random.choice(a,15))\n",
    "\n",
    "#without replacement\n",
    "print(np.random.choice(a,5,replace=False))"
   ]
  },
  {
   "cell_type": "markdown",
   "metadata": {},
   "source": [
    "## <center> **Matplotlib** </center>"
   ]
  },
  {
   "cell_type": "markdown",
   "metadata": {},
   "source": [
    "As you can see in the following examples, matplotlib is pretty straightforward to use for standard plots. At the same time it is nearly impossible to make a complete tour of all the possible settings, as things can get much more messy than this when you try to get more fancy on the details. On the other hand, matplotlib has an excellent documentation and you can find any sort of graphic trick on Google to make your plots look unique. You are highly encouraged to dig deeper into the details if you feel like doing so, but the following basics are pretty much everything we will need during this course. More advanced details will be used and explained if needed."
   ]
  },
  {
   "cell_type": "code",
   "execution_count": 68,
   "metadata": {},
   "outputs": [],
   "source": [
    "import matplotlib.pyplot as plt #standard way to import matplotlib basic functionalities"
   ]
  },
  {
   "cell_type": "markdown",
   "metadata": {},
   "source": [
    "## **Functions**"
   ]
  },
  {
   "cell_type": "code",
   "execution_count": 97,
   "metadata": {},
   "outputs": [
    {
     "data": {
      "text/plain": [
       "Text(0.5, 1.0, 'Straight Lines')"
      ]
     },
     "execution_count": 97,
     "metadata": {},
     "output_type": "execute_result"
    },
    {
     "data": {
      "image/png": "[encoded data removed]",
      "text/plain": [
       "<Figure size 432x288 with 1 Axes>"
      ]
     },
     "metadata": {
      "needs_background": "light"
     },
     "output_type": "display_data"
    }
   ],
   "source": [
    "#plot a line\n",
    "\n",
    "x = np.linspace(-5,5, 10) #create x values\n",
    "\n",
    "y = 3*x\n",
    "plt.plot(x,y) #plot a simple line with default params\n",
    "\n",
    "y = 2*x\n",
    "plt.plot(x,y,'--') #another dashed line\n",
    "\n",
    "y = x\n",
    "plt.plot(x,y,'g^:') #green dotted line with triangles on data points\n",
    "\n",
    "y = 4*x+5\n",
    "plt.plot(x,y,'ko') #only round data points, black\n",
    "\n",
    "plt.grid() #show grid\n",
    "\n",
    "plt.xlabel('x')\n",
    "plt.ylabel('y')\n",
    "plt.title('Straight Lines')"
   ]
  },
  {
   "cell_type": "code",
   "execution_count": 107,
   "metadata": {},
   "outputs": [
    {
     "data": {
      "text/plain": [
       "<matplotlib.legend.Legend at 0x7f17146c0b70>"
      ]
     },
     "execution_count": 107,
     "metadata": {},
     "output_type": "execute_result"
    },
    {
     "data": {
      "image/png": "[encoded data removed]",
      "text/plain": [
       "<Figure size 576x432 with 1 Axes>"
      ]
     },
     "metadata": {
      "needs_background": "light"
     },
     "output_type": "display_data"
    }
   ],
   "source": [
    "#create figure explicitly\n",
    "fig, ax = plt.subplots(figsize=(8,6))\n",
    "\n",
    "x = np.linspace(-5,5, 30) #create x values\n",
    "\n",
    "\n",
    "y = x**2\n",
    "ax.plot(x,y,'rs', label='Quadratic')\n",
    "\n",
    "y=.5*x**3\n",
    "ax.plot(x,y,'b', label='Cubic')\n",
    "\n",
    "ax.set_title('Polynomials', fontsize=20)\n",
    "\n",
    "ax.set_xlabel('x', fontsize=15)\n",
    "ax.set_ylabel('y', fontsize=15)\n",
    "\n",
    "ax.grid()\n",
    "\n",
    "ax.legend(fontsize=15)"
   ]
  },
  {
   "cell_type": "markdown",
   "metadata": {},
   "source": [
    "## **Scatterplots**"
   ]
  },
  {
   "cell_type": "code",
   "execution_count": 118,
   "metadata": {},
   "outputs": [
    {
     "data": {
      "text/plain": [
       "<matplotlib.legend.Legend at 0x7f17139f31d0>"
      ]
     },
     "execution_count": 118,
     "metadata": {},
     "output_type": "execute_result"
    },
    {
     "data": {
      "image/png": "[encoded data removed]",
      "text/plain": [
       "<Figure size 576x432 with 1 Axes>"
      ]
     },
     "metadata": {
      "needs_background": "light"
     },
     "output_type": "display_data"
    }
   ],
   "source": [
    "#generate bunch of random but correlated data\n",
    "x = np.linspace(-5,5,70) #create x values\n",
    "y = 2*x+np.random.normal(0,2,size=x.shape[0])\n",
    "\n",
    "#create figure explicitly\n",
    "fig, ax = plt.subplots(figsize=(8,6))\n",
    "\n",
    "ax.plot(x,y,'o', label='Random data')\n",
    "\n",
    "\n",
    "ax.set_title('Scatterplot', fontsize=20)\n",
    "\n",
    "ax.set_xlabel('x', fontsize=15)\n",
    "ax.set_ylabel('y', fontsize=15)\n",
    "\n",
    "ax.grid()\n",
    "\n",
    "ax.legend(fontsize=15)"
   ]
  },
  {
   "cell_type": "markdown",
   "metadata": {},
   "source": [
    "## **Histograms**"
   ]
  },
  {
   "cell_type": "code",
   "execution_count": 119,
   "metadata": {},
   "outputs": [
    {
     "data": {
      "text/plain": [
       "<matplotlib.legend.Legend at 0x7f17139be400>"
      ]
     },
     "execution_count": 119,
     "metadata": {},
     "output_type": "execute_result"
    },
    {
     "data": {
      "image/png": "[encoded data removed]",
      "text/plain": [
       "<Figure size 576x432 with 1 Axes>"
      ]
     },
     "metadata": {
      "needs_background": "light"
     },
     "output_type": "display_data"
    }
   ],
   "source": [
    "#generate bunch of random normal data\n",
    "data = np.random.normal(size=10000)\n",
    "\n",
    "#create figure explicitly\n",
    "fig, ax = plt.subplots(figsize=(8,6))\n",
    "\n",
    "\n",
    "ax.hist(data, bins=25, density=True, label='Random normal data') #density keyword takes care of normalizing the histogram\n",
    "\n",
    "\n",
    "ax.set_title('Histogram', fontsize=20)\n",
    "\n",
    "ax.set_xlabel('x', fontsize=15)\n",
    "ax.set_ylabel('y', fontsize=15)\n",
    "\n",
    "\n",
    "ax.legend(fontsize=15)"
   ]
  },
  {
   "cell_type": "markdown",
   "metadata": {},
   "source": [
    "## **Multiple plots**"
   ]
  },
  {
   "cell_type": "code",
   "execution_count": 126,
   "metadata": {},
   "outputs": [
    {
     "data": {
      "image/png": "[encoded data removed]",
      "text/plain": [
       "<Figure size 864x360 with 2 Axes>"
      ]
     },
     "metadata": {
      "needs_background": "light"
     },
     "output_type": "display_data"
    }
   ],
   "source": [
    "#create figure explicitly\n",
    "fig, axs = plt.subplots(nrows=1, ncols=2, figsize=(12,5))\n",
    "\n",
    "### FIRST FIGURE\n",
    "\n",
    "#generate bunch of random but correlated data\n",
    "x = np.linspace(-5,5,70) #create x values\n",
    "y = 2*x+np.random.normal(0,2,size=x.shape[0])\n",
    "\n",
    "axs[0].plot(x,y,'o', label='Random data')\n",
    "\n",
    "axs[0].set_title('Scatterplot', fontsize=20)\n",
    "\n",
    "\n",
    "### SECOND FIGURE\n",
    "\n",
    "#generate bunch of random normal data\n",
    "data = np.random.normal(size=10000)\n",
    "\n",
    "axs[1].hist(data, bins=25, density=True, label='Random normal data')\n",
    "\n",
    "axs[1].set_title('Histogram', fontsize=20)\n",
    "\n",
    "\n",
    "# plot labels for each plot\n",
    "for ax in axs:\n",
    "    ax.set_xlabel('x', fontsize=15)\n",
    "    ax.set_ylabel('y', fontsize=15)"
   ]
  },
  {
   "cell_type": "markdown",
   "metadata": {},
   "source": [
    "## **Images**"
   ]
  },
  {
   "cell_type": "markdown",
   "metadata": {},
   "source": [
    "2d numpy arrays can be seen as images, where each entry is the color value of a single pixel in the image. We can show images encoded in this way with an appropriate plotting function."
   ]
  },
  {
   "cell_type": "code",
   "execution_count": 135,
   "metadata": {},
   "outputs": [
    {
     "data": {
      "text/plain": [
       "<matplotlib.colorbar.Colorbar at 0x7f1712edeeb8>"
      ]
     },
     "execution_count": 135,
     "metadata": {},
     "output_type": "execute_result"
    },
    {
     "data": {
      "image/png": "[encoded data removed]",
      "text/plain": [
       "<Figure size 432x432 with 2 Axes>"
      ]
     },
     "metadata": {
      "needs_background": "light"
     },
     "output_type": "display_data"
    }
   ],
   "source": [
    "#plot a gaussian noise image\n",
    "fig, ax = plt.subplots(figsize=(6,6))\n",
    "\n",
    "data = np.random.normal(0,1,size=(50,50))\n",
    "\n",
    "img = ax.imshow(data, cmap='Greys')\n",
    "\n",
    "plt.colorbar(img)"
   ]
  }
 ],
 "metadata": {
  "kernelspec": {
   "display_name": "Python 3",
   "language": "python",
   "name": "python3"
  },
  "language_info": {
   "codemirror_mode": {
    "name": "ipython",
    "version": 3
   },
   "file_extension": ".py",
   "mimetype": "text/x-python",
   "name": "python",
   "nbconvert_exporter": "python",
   "pygments_lexer": "ipython3",
   "version": "3.6.10"
  }
 },
 "nbformat": 4,
 "nbformat_minor": 4
}
