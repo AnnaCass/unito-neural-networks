{
 "cells": [
  {
   "cell_type": "markdown",
   "metadata": {},
   "source": [
    "# Gridworld\n",
    "\n",
    "*Andrea Mazzolini*, andrea.mazzolini.90@gmail.com.\n",
    "\n",
    "\n",
    "Here we want to find the optimal strategy of a 2d grid-world problem having no information about the environment. The\n",
    "**Q-learning** algorithm will be used."
   ]
  },
  {
   "cell_type": "markdown",
   "metadata": {},
   "source": [
    "## Gridworld as a Markov Decision Process\n",
    "\n",
    "### States\n",
    "The state space corresponds to the physical space of the gridworld. Therefore each state is identified by the two coordinates, and the whole space is composed of $d^2$ states:\n",
    "\n",
    "$$\n",
    "\\mathcal{S} = \\{ 0, 1, \\ldots, d-1 \\} \\times \\{ 0, 1, \\ldots, d-1 \\}\n",
    "$$\n",
    "\n",
    "### Actions\n",
    "The actions of the agent are five: he can move to nearest neighbours or stay in the cell without moving:\n",
    "\n",
    "$$\n",
    "\\mathcal{A} = \\{ \\text{up}, \\text{left}, \\text{down}, \\text{right}, \\text{stay} \\} = \\{ (0,1), (-1,0), (0,-1), (1,0), (0,0)\\}\n",
    "$$\n",
    "\n",
    "which can be expressed also translation vectors.\n",
    "Actually, these actions are not always possible in each state: the agent cannot cross boundaries. This makes actions state dependent, for example if the agent is located on the left boundary: $\\mathcal{A}(0,y) = \\{ \\text{up}, \\text{down}, \\text{right}, \\text{stay} \\}$, or in a corner: $\\mathcal{A}(d-1,d-1) = \\{ \\text{left}, \\text{down}, \\text{stay} \\}$.\n",
    "\n",
    "### Transition probabilities\n",
    "\n",
    "The transition probabilities between states are deterministic: the next state is just the old state plus the translation action chosen by the agent:\n",
    "\n",
    "$$\n",
    "p(s_{t+1} | a_t, s_t) = \\delta (s_{t+1} = a_t + s_t)\n",
    "$$\n",
    "\n",
    "### Rewards\n",
    "\n",
    "The rewards depends only on the arrival states, $r(s_{t+1})$, and are zero for all the states with the exception of some special ones chosen to contain some resource."
   ]
  },
  {
   "cell_type": "markdown",
   "metadata": {},
   "source": [
    "## Q-learning\n",
    "\n",
    "Q-learning is a reinforcement learning algorithm for any finite Markov decision processes (state and action space must be discrete and finite), which can converge to an optimal policy for maximizing an exponentially discounted return.\n",
    "It does not require a model (hence the connotation \"model-free\") of the environment.\n",
    "For a \"model\" we mean the knowledge of the transition probabilities and reward function of the MDP. Differently value iteration or dynamic programming rely on this information.\n",
    "\n",
    "### Table for the state-action qualitites\n",
    "\n",
    "The general idea of the algorithm is to build a table of estimates of \"goodness\" of each state and action pairs. This object is called Quality matrix: ${Q}(s, a)$. It can be proven that, when the algorithm converge, the Qualitiy becomes the best quality function:\n",
    "\n",
    "$$\n",
    "Q(s,a) \\rightarrow Q^*(s,a) = \\max_{\\pi} \\left[ \\mathbb{E}_\\pi\\left[ \\sum_{t=0}^\\infty \\gamma^t\\,r_t \\Big| s_0 = s, a_0 = a \\right] \\right]\n",
    "$$\n",
    "\n",
    "which is the best possible return starting from the state $s$ and taking the action $a$.\n",
    "By assuming that $Q$ are good estimates of $Q^*$, the best policy is deterministic and, for each state $s$, consists in choosing the action that leads to the best possible return:\n",
    "\n",
    "$$\n",
    "\\pi^*(s) = \\delta (a - \\text{argmax}_b Q(s,b))\n",
    "$$\n",
    "\n",
    "### Finding the quality matrix\n",
    "\n",
    "The core of the algorithm is a simple online quality update. At time $t$ the learning agent is in the state $s_t$ and take the action $a_t$ (later we specify how to choose the action). As a consequence it moves to a new state $s_{t+1}$ taking the reward $r_t$. Note that $s_{t+1}$ and $r_t$ are stochastic outcomes of the MDP, that the agent can just sample (it doesn't have a model and then a prediction of what they are).\n",
    "The Q-learning update rule for the Quality is:\n",
    "\n",
    "$$\n",
    "Q(s_t, a_t) \\leftarrow Q(s_t, a_t) + \\alpha \\left(r_t + \\gamma \\max_b Q(s_{t+1}, b) - Q(s_t, a_t)\\right)\n",
    "$$\n",
    "\n",
    "$$\n",
    "Q(s_t, a_t)^* = \\mathbb{E} \\left[ r_t + \\gamma \\max_b Q^*(s_{t+1}, b) \\right] \n",
    "$$\n",
    "\n",
    "where $\\gamma$ is the discount factor defined in the return that one aims to maximize, and $\\alpha$ is a learning rate.\n",
    "Note that the Bellman equation for the quality reads $Q(s_t, a_t)^* = \\mathbb{E} \\left[ r_t + \\gamma \\max_b Q(s_{t+1}, b) \\right] $, and the error appearing in the learning rule above says exactly how much I am far away from satisfying the equation with my sample. \n",
    "\n",
    "### Pseudocode for Q-learning\n",
    "\n",
    "Therefore, the algorithm consists simply in starting from an initial configuration fo the Quality table, and then \"play the game\"\n",
    "$$\n",
    "s_0, a_0 \\rightarrow r_0, s_1, a_1 \\rightarrow r_1, s_2, a_2 \\rightarrow \\ldots\n",
    "$$\n",
    "and update the Quality as specified above after each transition.\n",
    "\n",
    "We still have to specify how to choose actions. Here we consider an epsilon-greeedy strategy. Let us define two way of choosing the action:\n",
    "- **Exploration** move, where the action is choosen uniformely at random among the possible action from the state in which the aget is.\n",
    "- **Exploitation** move, where the action is taken as the one that maximize my current Qualitites, which is the best action that I can take according to my estimates of the returns, $a_t = \\text{argmax}_b Q(s_t, b)$.\n",
    "\n",
    "An epsilon-greeedy strategy says that the exploration move is chosen with probability $\\epsilon$, and the exploitation one otherwise.\n",
    "\n",
    "Putting everything together, the pseudocode for an epsilon-greedy Q-learning algorithm is the following:\n",
    "\n",
    " - Initialize the Q-matrix and choose the algorithm parameters $\\gamma$, $\\alpha$, $\\epsilon$.\n",
    " - Set the agent in the starting state $s_0$.\n",
    " - For $t = 1, \\ldots$ until convergence:\n",
    "> - With probability $\\epsilon$ choose $a_t$ at random from the possible actions, otherwise choose the action that maximizes the Qualities $a_t = \\text{argmax}_b Q(s_t, b)$.\n",
    "> - Play a step in the game and get the new state and the reward $s_t, a_t \\rightarrow s_{t+1}, r_t$\n",
    "> - Update the quality matrix using the obtained sample\n",
    "> $$\n",
    "Q(s_t, a_t) \\leftarrow Q(s_t, a_t) + \\alpha \\left(r_t + \\gamma \\max_b Q(s_{t+1}, b) - Q(s_t, a_t)\\right)\n",
    "$$\n",
    "\n",
    "### Episodic game and exploration scheduling\n",
    "\n",
    "Actually one usually introduces two tricks to speed up the covergence of the quality table.\n",
    "\n",
    "The first is to restart the game after a given number of steps (the state is forced to be $s_0$ again). Each of these runs is called episode. This is natural if there are terminal states and, at some point, the game finishes. However, it can be useful to rerestart the game when I'm interested in a particular initial condition. In this way, I force the algorithm to explore more and have better estimates around this initial condition.\n",
    "\n",
    "A second trick is to schedule the exporation parameter $\\epsilon$. Usually, I want the exploration to be large at the beginning, to have an approximate idea of all the possible qualities. L\n",
    "ater I want instead to focus on the best moves to have more fine-tuned estimates of them, forgetting about the bad actions.\n",
    "\n",
    "Rewriting the pseudocode following these two observations we have:\n",
    "\n",
    " - Initialize the Q-matrix and choose the algorithm parameters $\\gamma$, $\\alpha$, $\\epsilon_0$, $T_{episode}$.\n",
    "> For episodes $e = 1, \\ldots$ until convergence:\n",
    "> - Set the agent in the starting state $s_0$.\n",
    "> - For steps in the episode $t = 1, \\ldots, T_{episode}$:\n",
    ">> - With probability $\\epsilon_e$ choose $a_t$ at random from the possible actions, otherwise choose the action that maximizes the Qualities $a_t = \\text{argmax}_b Q(s_t, b)$.\n",
    ">> - Play a step in the game and get the new state and the reward $s_t, a_t \\rightarrow s_{t+1}, r_t$\n",
    ">> - Update the quality matrix using the obtained sample\n",
    ">> $$\n",
    "Q(s_t, a_t) \\leftarrow Q(s_t, a_t) + \\alpha \\left(r_t + \\gamma \\max_b Q(s_{t+1}, b) - Q(s_t, a_t)\\right)\n",
    "$$\n",
    "> - Decrease the exploration rate $\\epsilon_e$."
   ]
  },
  {
   "cell_type": "markdown",
   "metadata": {},
   "source": [
    "## Implementation\n",
    "\n",
    "### Environment class: the gridworld\n",
    "\n",
    "The Gridworld class contains all the information about the environment:\n",
    "- The info about the state space, the current state of the game and the initial state.\n",
    "- The set of possible actions.\n",
    "- The reward table: which reward the agent take in each cell (0 if none).\n",
    "\n",
    "The methods are:\n",
    "- `reset()`: the game is initialized. Here the only initialization is to put the agent in the starting cell. \n",
    "- `step(action)`: update the agent state according to the `action` passed and compute reward. Returns the state after the transition (the movement) and the reward."
   ]
  },
  {
   "cell_type": "code",
   "execution_count": 1,
   "metadata": {},
   "outputs": [],
   "source": [
    "import numpy as np\n",
    "from copy import copy\n",
    "import operator\n",
    "import sys\n",
    "import seaborn as sns\n",
    "import matplotlib.pyplot as plt\n",
    "from matplotlib import cm\n",
    "\n",
    "\n",
    "class Gridworld:\n",
    "\n",
    "    def __init__(self, grid_size, init_cell, rewards, obstacles=[]):\n",
    "        \"\"\"\n",
    "        Training environment for reinforcement learning: gridworld.\n",
    "        Args:\n",
    "        - grid_size, (int, int): defining the size of the 2d lattice\n",
    "        - init_cell, (int, int): coordinates from 0 to size-1 from which the agent starts to play\n",
    "        - rewards, list((int, int), float): list of the coordinates and values of the rewards\n",
    "        - obstacles, lits((int, int)): list of the coordinates of the obstacles\n",
    "        \"\"\"\n",
    "\n",
    "        # Define state space\n",
    "        self.state = None  # current state of the game\n",
    "        self.state_dim = grid_size\n",
    "        self.init_state = init_cell\n",
    "        self.obstacles = obstacles\n",
    "        # Cells that are not obstacles\n",
    "        self.states = [(i,j) for i in range(self.state_dim[0]) for j in range(self.state_dim[1]) if (i,j) not in self.obstacles] \n",
    "\n",
    "        # Define action space\n",
    "        self.action_dim = (5,)  # up, right, down, left, stay\n",
    "        self.action_dict = {\"up\": 0, \"right\": 1, \"down\": 2, \"left\": 3, \"stay\": 4}\n",
    "        self.action_coords = [(0, 1), (1, 0), (0, -1), (-1, 0), (0, 0)]  # translations\n",
    "        self.actions_allowed = self._build_allowed_actions(obstacles)\n",
    "\n",
    "        # Define rewards table\n",
    "        self.R = self._build_rewards(rewards)\n",
    "\n",
    "\n",
    "    def reset(self):\n",
    "        \"\"\"Reset agent state to its initial cell\"\"\" \n",
    "        self.state = self.init_state\n",
    "        return self.state\n",
    "\n",
    "\n",
    "    def step(self, action):\n",
    "        \"\"\"Update agent state\"\"\"\n",
    "        state_next = (self.state[0] + self.action_coords[action][0],\n",
    "                      self.state[1] + self.action_coords[action][1])\n",
    "        # Collect reward\n",
    "        reward = self.R[state_next]\n",
    "        # Update state\n",
    "        self.state = state_next\n",
    "        return state_next, reward\n",
    "\n",
    "\n",
    "    def _build_allowed_actions(self, obstacles):\n",
    "        actions_allowed = dict()\n",
    "        Nx, Ny = self.state_dim\n",
    "        for x in range(Nx):\n",
    "            for y in range(Ny):\n",
    "                # Actions not allowed at the boundaries\n",
    "                actions_allowed[(x,y)] = [self.action_dict[\"stay\"]] # The stay action is always allowed\n",
    "                if (y > 0):  \n",
    "                    actions_allowed[(x,y)].append(self.action_dict[\"down\"])\n",
    "                if (y < Ny - 1):  \n",
    "                    actions_allowed[(x,y)].append(self.action_dict[\"up\"])\n",
    "                if (x > 0):  \n",
    "                    actions_allowed[(x,y)].append(self.action_dict[\"left\"])\n",
    "                if (x < Nx - 1):  \n",
    "                    actions_allowed[(x,y)].append(self.action_dict[\"right\"])\n",
    "                actions_allowed[(x,y)] = np.array(actions_allowed[(x,y)], dtype=int)\n",
    "\n",
    "                # Actions not allowed because of obstacles\n",
    "                for o in obstacles:\n",
    "                    if (x+1,y) == o:\n",
    "                        actions_allowed[(x,y)] = actions_allowed[(x,y)][actions_allowed[(x,y)] != self.action_dict[\"right\"]]\n",
    "                    if (x-1,y) == o:\n",
    "                        actions_allowed[(x,y)] = actions_allowed[(x,y)][actions_allowed[(x,y)] != self.action_dict[\"left\"]]\n",
    "                    if (x,y+1) == o:\n",
    "                        actions_allowed[(x,y)] = actions_allowed[(x,y)][actions_allowed[(x,y)] != self.action_dict[\"up\"]]\n",
    "                    if (x,y-1) == o:\n",
    "                        actions_allowed[(x,y)] = actions_allowed[(x,y)][actions_allowed[(x,y)] != self.action_dict[\"down\"]]\n",
    "        return actions_allowed\n",
    "\n",
    "\n",
    "    def _build_rewards(self, rewards):\n",
    "        R = np.zeros(self.state_dim, dtype=float)\n",
    "        for rew in rewards:\n",
    "            R[rew[0]] = rew[1]\n",
    "        return R\n",
    "\n",
    "    def display(self, values=np.array([]), cmap=sns.dark_palette(\"red\", as_cmap=True), figsize=(7,6)):\n",
    "        fig = plt.figure(figsize=figsize)\n",
    "        obstacle_mask = np.zeros(self.state_dim, dtype=bool)\n",
    "        for obs in obstacles:\n",
    "            obstacle_mask[obs[0], obs[1]] = True\n",
    "\n",
    "        if len(values)==0:\n",
    "            ax = sns.heatmap(obstacle_mask.T, cmap=cm.get_cmap(\"Greys\"), cbar=False, \n",
    "                       linewidths=0.1, linecolor='#222222')\n",
    "        else:\n",
    "            ax = sns.heatmap(values.T, mask=obstacle_mask.T, cmap=cmap, \n",
    "                       linewidths=0.1, linecolor='#222222', vmin=np.min(values[values != 0]))\n",
    "            ax.collections[0].colorbar.set_label(\"Value\", fontsize=14)\n",
    "\n",
    "        ax.invert_yaxis()\n",
    "        ax.set_xlabel('x', fontsize=14)\n",
    "        ax.set_ylabel('y', fontsize=14)\n",
    "        ax.scatter([start_cell[0]+0.5],[start_cell[1]+0.5], s=100, c='grey', label='Start')\n",
    "        \n",
    "        for rew in rewards:\n",
    "            ax.scatter([rew[0][0]+0.5],[rew[0][1]+0.5], s=200*rew[1], c='red', label='Reward:{}'.format(rew[1]), marker='*')\n",
    "        plt.tight_layout()\n",
    "\n",
    "        return fig, ax\n",
    "\n",
    "\n",
    "    def display_best_path(self, Q, start_coord, lcolor='black', values=np.array([]), cmap=sns.dark_palette(\"red\", as_cmap=True), figsize=(7,6)):\n",
    "        fig, ax = self.display(values, cmap, figsize)\n",
    "        obstacle_mask = np.zeros(self.state_dim, dtype=bool)\n",
    "\n",
    "        s, count, best_action = start_coord, 0, 0\n",
    "        while best_action != 4 or count < self.state_dim[0]*self.state_dim[1]:\n",
    "            count += 1\n",
    "            best_action = np.argmax(Q[s[0], s[1], :])\n",
    "            new_s = s[0] + self.action_coords[best_action][0], s[1] + self.action_coords[best_action][1]\n",
    "            ax.plot([s[0]+0.5, new_s[0]+0.5], [s[1]+0.5, new_s[1]+0.5], c='black', lw=3)\n",
    "            s = new_s\n",
    "\n",
    "        plt.tight_layout()\n",
    "\n",
    "        return fig, ax"
   ]
  },
  {
   "cell_type": "markdown",
   "metadata": {},
   "source": [
    "### Agent class: the Q-learning algorithm\n",
    "\n",
    "This class defines how the agent chooses the action from each state and how improve its strategy while playing.\n",
    "It emplys a Q-learning algorithm with epsilon-greedy policy.\n",
    "In particular:\n",
    "- `get_action()` returns an action using the epsilon greedy rule.\n",
    "- `train()` performs one step of the Q-learning update."
   ]
  },
  {
   "cell_type": "code",
   "execution_count": 2,
   "metadata": {},
   "outputs": [],
   "source": [
    "class QL_agent:\n",
    "\n",
    "    def __init__(self, env, gamma, learning_rate=0.1, eps_decay=0.995):\n",
    "\n",
    "        # Store the environment\n",
    "        self.env = env\n",
    "\n",
    "        # Agent learning parameters\n",
    "        self.epsilon = 1.0  # initial exploration probability\n",
    "        self.epsilon_decay = eps_decay  # epsilon decay after each episode\n",
    "        self.alpha = learning_rate\n",
    "        self.gamma = gamma  # reward discount factor\n",
    "\n",
    "        # Initialize Quality matrix\n",
    "        self.Q = np.zeros(env.state_dim + env.action_dim, dtype=float)\n",
    "\n",
    "\n",
    "    def get_action(self):\n",
    "        \"\"\"\n",
    "        Choose an action using an epsilon greedy policy: random with probability\n",
    "        epsilon, greedy otherwise.\n",
    "        \"\"\"\n",
    "        state = self.env.state\n",
    "        actions_allowed = self.env.actions_allowed[state]\n",
    "        if np.random.rand() < self.epsilon:  # explore\n",
    "            return np.random.choice(actions_allowed)\n",
    "        else:  # exploit\n",
    "            Q_s = self.Q[state[0], state[1], actions_allowed]\n",
    "            actions_greedy = actions_allowed[np.flatnonzero(Q_s == np.max(Q_s))]\n",
    "            return np.random.choice(actions_greedy)\n",
    "\n",
    "\n",
    "    def train(self, transition):\n",
    "        \"\"\"\n",
    "        Q-learning update\n",
    "        \"\"\"\n",
    "        (state, action, state_next, reward) = transition\n",
    "        sa = state + (action,)\n",
    "        td_error = reward + gamma * np.max(self.Q[state_next]) - self.Q[sa]\n",
    "        self.Q[sa] += self.alpha * td_error\n",
    "\n",
    "    @property\n",
    "    def values(self):\n",
    "        vals = np.zeros(self.env.state_dim)\n",
    "        for i in range(len(self.Q)):\n",
    "            for j in range(len(self.Q[0])):\n",
    "                vals[i,j] = np.max(self.Q[i,j])\n",
    "        return vals"
   ]
  },
  {
   "cell_type": "code",
   "execution_count": 8,
   "metadata": {},
   "outputs": [
    {
     "data": {
      "text/plain": [
       "(<Figure size 360x360 with 1 Axes>,\n",
       " <matplotlib.axes._subplots.AxesSubplot at 0x2101afdcda0>)"
      ]
     },
     "execution_count": 8,
     "metadata": {},
     "output_type": "execute_result"
    },
    {
     "data": {
      "image/png": "[encoded data removed]",
      "text/plain": [
       "<Figure size 360x360 with 1 Axes>"
      ]
     },
     "metadata": {
      "needs_background": "light"
     },
     "output_type": "display_data"
    }
   ],
   "source": [
    "world_size = (10,12) # dimension of the gridworld\n",
    "\n",
    "start_cell = (2,3)\n",
    "obstacles = [(2,5), (3,5), (4,5), (5,5), (5,4), (5,3), (5,2), (5,1), (5,0),\n",
    "             (7,4), (7,5), (7,6), (7,7)]\n",
    "rewards = [((8,6), 2), ((3,9), 0.5)]\n",
    "\n",
    "gridworld = Gridworld(world_size, start_cell, rewards, obstacles) # Building the world\n",
    "gridworld.display(figsize=(5,5)) # And showing it"
   ]
  },
  {
   "cell_type": "markdown",
   "metadata": {},
   "source": [
    "### Main learning cycle\n",
    "\n",
    "It follows the second pseudocode written before."
   ]
  },
  {
   "cell_type": "code",
   "execution_count": 9,
   "metadata": {},
   "outputs": [
    {
     "name": "stdout",
     "output_type": "stream",
     "text": [
      "Episode: 2000/2000 epsilon: 0.02044857891939702"
     ]
    }
   ],
   "source": [
    "n_episodes = 2000\n",
    "n_steps_in_episode = 200 \n",
    "eps_decay = 0.995 # Multiplicative decay factor for the exploration rate\n",
    "gamma = 0.95\n",
    "learning_rate=0.1\n",
    "\n",
    "agent = QL_agent(gridworld, gamma, learning_rate, eps_decay)\n",
    "\n",
    "# Iteration over all the episodes\n",
    "for episode in range(n_episodes):\n",
    "\n",
    "    state = gridworld.reset() # Setting the agent in the initial cell\n",
    "\n",
    "    for _ in range(n_steps_in_episode):\n",
    "        action = agent.get_action()  # get action\n",
    "        state_next, reward = gridworld.step(action)  # evolve state by action\n",
    "        agent.train((state, action, state_next, reward)) # train agent\n",
    "        state = state_next  # transition to next state\n",
    "\n",
    "    agent.epsilon = max(agent.epsilon * agent.epsilon_decay, 0.02) # Decrease the exploration\n",
    "    # Show training info\n",
    "    sys.stdout.write(\"\\rEpisode: \" + str(episode+1) + \"/\" + str(n_episodes) + \" epsilon: \" + str(agent.epsilon))\n",
    "    sys.stdout.flush()\n",
    "    "
   ]
  },
  {
   "cell_type": "code",
   "execution_count": 10,
   "metadata": {},
   "outputs": [
    {
     "data": {
      "text/plain": [
       "(<Figure size 360x360 with 2 Axes>,\n",
       " <matplotlib.axes._subplots.AxesSubplot at 0x2101b067358>)"
      ]
     },
     "execution_count": 10,
     "metadata": {},
     "output_type": "execute_result"
    },
    {
     "data": {
      "image/png": "[encoded data removed]",
      "text/plain": [
       "<Figure size 360x360 with 2 Axes>"
      ]
     },
     "metadata": {
      "needs_background": "light"
     },
     "output_type": "display_data"
    }
   ],
   "source": [
    "gridworld.display(agent.values, cmap=cm.get_cmap('inferno'), figsize=(5,5))"
   ]
  },
  {
   "cell_type": "code",
   "execution_count": 11,
   "metadata": {},
   "outputs": [
    {
     "data": {
      "text/plain": [
       "(<Figure size 360x360 with 1 Axes>,\n",
       " <matplotlib.axes._subplots.AxesSubplot at 0x2101b037550>)"
      ]
     },
     "execution_count": 11,
     "metadata": {},
     "output_type": "execute_result"
    },
    {
     "data": {
      "image/png": "[encoded data removed]",
      "text/plain": [
       "<Figure size 360x360 with 1 Axes>"
      ]
     },
     "metadata": {
      "needs_background": "light"
     },
     "output_type": "display_data"
    }
   ],
   "source": [
    "gridworld.display_best_path(agent.Q, start_cell, cmap=cm.get_cmap('inferno'), figsize=(5,5))"
   ]
  },
  {
   "cell_type": "code",
   "execution_count": null,
   "metadata": {},
   "outputs": [],
   "source": []
  }
 ],
 "metadata": {
  "kernelspec": {
   "display_name": "Python 3",
   "language": "python",
   "name": "python3"
  },
  "language_info": {
   "codemirror_mode": {
    "name": "ipython",
    "version": 3
   },
   "file_extension": ".py",
   "mimetype": "text/x-python",
   "name": "python",
   "nbconvert_exporter": "python",
   "pygments_lexer": "ipython3",
   "version": "3.7.7"
  }
 },
 "nbformat": 4,
 "nbformat_minor": 4
}
