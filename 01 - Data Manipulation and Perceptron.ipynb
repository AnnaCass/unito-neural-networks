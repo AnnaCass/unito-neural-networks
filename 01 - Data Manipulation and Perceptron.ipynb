{
 "cells": [
  {
   "cell_type": "markdown",
   "metadata": {},
   "source": [
    "<table align=\"left\">\n",
    "  <td>\n",
    "    <a href=\"https://colab.research.google.com/github/fmottes/unito-neural-networks/blob/master/01%20-%20Data%20Manipulation%20and%20Perceptron.ipynb\">\n",
    "      <img src=\"https://colab.research.google.com/assets/colab-badge.svg\" alt=\"Open In Colab\" style=\"width:175px;\"/>\n",
    "    </a>\n",
    "  </td>\n",
    "</table>"
   ]
  },
  {
   "cell_type": "markdown",
   "metadata": {},
   "source": [
    "# <center> **Neural Networks** (MFN0824) </center>"
   ]
  },
  {
   "cell_type": "markdown",
   "metadata": {},
   "source": [
    "### Lectures: _Dr. Matteo Osella_\n",
    "### Notebooks: _Francesco Mottes_\n",
    "<br>\n",
    "\n",
    "---"
   ]
  },
  {
   "cell_type": "markdown",
   "metadata": {},
   "source": [
    "From this point on we dive deeper into the topics that are specific of the Neural Networks course. It is recommended to build a bit of confidence with the Python language and the Jupyter notebook environment before going through the following material. Reviewing the some fundamental concepts of machine learning is also advised, although we will try to give (brief) explanations of some basics.\n",
    "\n",
    "The reference book for the practical part of this course is:\n",
    "- *Hands-on Machine Learning with Scikit-Learn, Keras and Tensorflow - A. Géron*\n",
    "\n",
    "The whole first half of the book is dedicated to an introduction to classical Machine Learning, using the python scikit-learn library. It is an excellent place for reviewing basic concepts and to be introduced to the Jupyter notebook environment and the scikit-learn library. There is also a [free github page](https://github.com/ageron/handson-ml2) where you can find some notebooks with the code from the book, a good place to start if you want to look into more advanced topics.\n",
    "\n",
    "**NOTE:** You can easily (and legally) find online a raw and unedited version of the second edition of the book, released by the author before the book was finished. Be advised that, besides not being the revised version, **it is not even the whole book**."
   ]
  },
  {
   "cell_type": "markdown",
   "metadata": {},
   "source": [
    "### Python modules references:\n",
    "- Numpy Docs: https://numpy.org/\n",
    "- Matplotlib Docs: https://matplotlib.org/\n",
    "- Scikit-learn Docs: https://scikit-learn.org/"
   ]
  },
  {
   "cell_type": "markdown",
   "metadata": {},
   "source": [
    "# <center> **01 - Data Manipulation and Perceptron** </center>"
   ]
  },
  {
   "cell_type": "markdown",
   "metadata": {},
   "source": [
    "In this notebook we will show in which format data usually come in when facing machine learning problems. We will the implement from scratch the perceptron algorithm and a fully-connected feed-forward neural network with back-propagation and mini-batch Stochastic Gradient Descent (SGD). We will apply the algorithms to two simple mock datasets, in order to better understand the limits of the Perceptron."
   ]
  },
  {
   "cell_type": "markdown",
   "metadata": {},
   "source": [
    "## <center> **Data Manipulation** </center>"
   ]
  },
  {
   "cell_type": "markdown",
   "metadata": {},
   "source": [
    "In supervised learning tasks, we give to the chosen algorithm a set of *N* observations with an associated label (class to which the given observation belongs). In order to be manipulated in a mathematically convenient way, observations are represented as **feature vectors**: we take the set of *D* measured features associated with one observation and we put it into a vector, such that two different observations are represented as two points in a D-dimensional space.\n",
    "\n",
    "$$\n",
    "{\\rm feature~vector:~~~} {\\bf x}~=~ [x_1, x_2, x_3, \\cdots, x_D]\n",
    "$$\n",
    "\n",
    "Taking a step further, we can then stack all the N vectors of our observations horizontally, one on top of the other. What we get is a NxD matrix that summarizes all of our data: each row corresponds to a different observation, each column corresponds to a different feature of the observations. Such a matrix is generally called **data matrix** or **feature matrix** and is indicated with **X**.\n",
    "\n",
    "$$\n",
    "{\\rm feature~matrix:~~~} {\\bf X}~=~\\left[\n",
    "\\begin{matrix}\n",
    "x_{11} & x_{12} & \\cdots & x_{1D}\\\\\n",
    "x_{21} & x_{22} & \\cdots & x_{2D}\\\\\n",
    "x_{31} & x_{32} & \\cdots & x_{3D}\\\\\n",
    "\\vdots & \\vdots & \\ddots & \\vdots\\\\\n",
    "\\vdots & \\vdots & \\ddots & \\vdots\\\\\n",
    "x_{N1} & x_{N2} & \\cdots & x_{ND}\\\\\n",
    "\\end{matrix}\n",
    "\\right] ~=~\\left[\n",
    "\\begin{matrix}\n",
    "{\\bf x_{1}}\\\\\n",
    "{\\bf x_{2}}\\\\\n",
    "{\\bf x_{3}}\\\\\n",
    "\\vdots\\\\\n",
    "\\vdots\\\\\n",
    "{\\bf x_{N}}\\\\\n",
    "\\end{matrix}\n",
    "\\right]\n",
    "$$\n",
    "\n",
    "Lastly, we can organize also the labels of the observations in a convenient N-dimensional vector, called **label vector** and generally indicated with the **y** letter. In such a vector, the number at the n-th position represents the class to which the n-th row of the data matrix belongs.\n",
    "\n",
    "$$\n",
    "{\\rm label~vector:~~~} {\\bf y}~=~ [y_1, y_2, y_3, \\cdots, y_N]\n",
    "$$\n",
    "\n",
    "When dealing with neural networks and data with more than two classes, another notation is preferred for expressing the label of one observation, the so-called [one-hot encoding](https://www.kaggle.com/dansbecker/using-categorical-data-with-one-hot-encoding). If data come in *K* different categories, to each observation is associated a K-dimensional vector where all entries are zero, except for the one representing the class of the oservation, which is set to one.\n",
    "\n",
    "Suppose to have K=3 different classes in your data, and that the chosen sample belongs to the third class. The one-hot encoding of the class label \"3\" would be:\n",
    "\n",
    "$$\n",
    "\\left[\n",
    "\\begin{matrix}\n",
    "{0}\\\\\n",
    "{0}\\\\\n",
    "{1}\\\\\n",
    "\\end{matrix}\n",
    "\\right]\n",
    "$$"
   ]
  },
  {
   "cell_type": "code",
   "execution_count": 1,
   "metadata": {},
   "outputs": [],
   "source": [
    "#standard imports\n",
    "import numpy as np\n",
    "import matplotlib.pyplot as plt\n",
    "\n",
    "\n",
    "#function for fast generation of training and test set from data\n",
    "from sklearn.model_selection import train_test_split"
   ]
  },
  {
   "cell_type": "markdown",
   "metadata": {},
   "source": [
    "## <center> Synthetic Data </center>"
   ]
  },
  {
   "cell_type": "markdown",
   "metadata": {},
   "source": [
    "We now create two simple synthetic 2-dimensional datasets, that we will use in the following to visualize the performances of our hand-made Perceptron and feed-forward neural network."
   ]
  },
  {
   "cell_type": "code",
   "execution_count": 2,
   "metadata": {},
   "outputs": [],
   "source": [
    "#generators of very simple 2d datasets we will use in the following\n",
    "from sklearn.datasets import make_blobs, make_moons"
   ]
  },
  {
   "cell_type": "code",
   "execution_count": 3,
   "metadata": {},
   "outputs": [],
   "source": [
    "#fix parameters\n",
    "N = 200 #number of observations\n",
    "D = 2 # features per sample\n",
    "test_size = .25 #test data are 25% of all data\n",
    "\n",
    "rnd_state = 42 #random numbers genereator initial state, fixed for reproducibility\n",
    "np.random.seed(rnd_state)"
   ]
  },
  {
   "cell_type": "markdown",
   "metadata": {},
   "source": [
    "### GENERATE BLOBS"
   ]
  },
  {
   "cell_type": "code",
   "execution_count": 4,
   "metadata": {},
   "outputs": [],
   "source": [
    "#generate two blobs, one for each class, of 2D data\n",
    "X_blob, y_blob = make_blobs(n_samples=N, n_features=D, centers=2)\n",
    "\n",
    "#generate training and test set\n",
    "X_blob_train, X_blob_test, y_blob_train, y_blob_test = train_test_split(X_blob, y_blob, test_size=test_size)"
   ]
  },
  {
   "cell_type": "code",
   "execution_count": 5,
   "metadata": {},
   "outputs": [
    {
     "data": {
      "image/png": "[encoded data removed]",
      "text/plain": [
       "<Figure size 432x432 with 1 Axes>"
      ]
     },
     "metadata": {
      "needs_background": "light"
     },
     "output_type": "display_data"
    }
   ],
   "source": [
    "#plot the blob dataset\n",
    "\n",
    "fig, ax = plt.subplots(figsize=(6,6))\n",
    "\n",
    "fontsize = 15\n",
    "\n",
    "#plot the points of the first class:\n",
    "mask = y_blob_train == 0\n",
    "\n",
    "ax.plot(X_blob_train[mask][:,0], X_blob_train[mask][:,1], 'o', label='class 0') #plot first feature on x-axis and second feature on y-axis\n",
    "\n",
    "\n",
    "#plot the points of the second class:\n",
    "mask = y_blob_train == 1\n",
    "\n",
    "ax.plot(X_blob_train[mask][:,0], X_blob_train[mask][:,1], 'o', label='class 1') #plot first feature on x-axis and second feature on y-axis\n",
    "\n",
    "\n",
    "\n",
    "ax.legend(fontsize=fontsize)\n",
    "\n",
    "ax.set_xlabel('Feature 1', fontsize=fontsize)\n",
    "ax.set_ylabel('Feature 2', fontsize=fontsize)\n",
    "\n",
    "ax.set_title('Blobs', fontsize=fontsize);"
   ]
  },
  {
   "cell_type": "markdown",
   "metadata": {},
   "source": [
    "### GENERATE SEMI-CIRCLES"
   ]
  },
  {
   "cell_type": "code",
   "execution_count": 6,
   "metadata": {},
   "outputs": [],
   "source": [
    "#generate two semi-circles, one for each class, of 2D data\n",
    "#(we don't get to choose the data dimension here, it's always 2D)\n",
    "X_moon, y_moon = make_moons(n_samples=N, noise=.1)\n",
    "\n",
    "#generate training and test set\n",
    "X_moon_train, X_moon_test, y_moon_train, y_moon_test = train_test_split(X_moon, y_moon, test_size=test_size)"
   ]
  },
  {
   "cell_type": "code",
   "execution_count": 7,
   "metadata": {},
   "outputs": [
    {
     "data": {
      "image/png": "[encoded data removed]",
      "text/plain": [
       "<Figure size 432x432 with 1 Axes>"
      ]
     },
     "metadata": {
      "needs_background": "light"
     },
     "output_type": "display_data"
    }
   ],
   "source": [
    "#plot the blob dataset\n",
    "\n",
    "fig, ax = plt.subplots(figsize=(6,6))\n",
    "\n",
    "fontsize = 15\n",
    "\n",
    "#plot both classes as above, but all at once\n",
    "for cat in np.unique(y_moon_train): #loop over unique class IDs\n",
    "    \n",
    "    mask = y_moon_train == cat\n",
    "    \n",
    "    ax.plot(X_moon_train[mask][:,0], X_moon_train[mask][:,1], 'o', label='class {}'.format(cat))\n",
    "\n",
    "\n",
    "\n",
    "ax.legend(fontsize=fontsize)\n",
    "\n",
    "ax.set_xlabel('Feature 1', fontsize=fontsize)\n",
    "ax.set_ylabel('Feature 2', fontsize=fontsize)\n",
    "\n",
    "ax.set_title('Moons', fontsize=fontsize);"
   ]
  },
  {
   "cell_type": "markdown",
   "metadata": {},
   "source": [
    "## <center> \"Real\" Data </center>"
   ]
  },
  {
   "cell_type": "markdown",
   "metadata": {},
   "source": [
    "Data can come in many different formats and data manipulation and pre-processing is, most of the times, data-specific. Here we see two very simple cases, that are loading \"classic\" datasets that come shipped with many libraries (in this case scikit-learn) and loading datasets from an external file. There are a lot of different ways to do such things, especially loading data from a file, and many times we have to use different ways for different data. What's more, many libraries come with their own utilities to load data in a conveninet way, so feel free to research different methods and adopt the one you feel most comfortable with."
   ]
  },
  {
   "cell_type": "markdown",
   "metadata": {},
   "source": [
    "### Datasets coming with a library"
   ]
  },
  {
   "cell_type": "code",
   "execution_count": 8,
   "metadata": {},
   "outputs": [],
   "source": [
    "#load utility for the simple Iris dataset\n",
    "from sklearn.datasets import load_iris"
   ]
  },
  {
   "cell_type": "code",
   "execution_count": 9,
   "metadata": {},
   "outputs": [],
   "source": [
    "#load the iris dataset\n",
    "iris_data = load_iris()\n",
    "\n",
    "#scikit-learn loading methods return a Bunch object (defined inside scikit-learn)\n",
    "#It beahaves essentially like a python dictionary and contains some useful meta-information on the dataset"
   ]
  },
  {
   "cell_type": "code",
   "execution_count": 10,
   "metadata": {},
   "outputs": [
    {
     "name": "stdout",
     "output_type": "stream",
     "text": [
      ".. _iris_dataset:\n",
      "\n",
      "Iris plants dataset\n",
      "--------------------\n",
      "\n",
      "**Data Set Characteristics:**\n",
      "\n",
      "    :Number of Instances: 150 (50 in each of three classes)\n",
      "    :Number of Attributes: 4 numeric, predictive attributes and the class\n",
      "    :Attribute Information:\n",
      "        - sepal length in cm\n",
      "        - sepal width in cm\n",
      "        - petal length in cm\n",
      "        - petal width in cm\n",
      "        - class:\n",
      "                - Iris-Setosa\n",
      "                - Iris-Versicolour\n",
      "                - Iris-Virginica\n",
      "                \n",
      "    :Summary Statistics:\n",
      "\n",
      "    ============== ==== ==== ======= ===== ====================\n",
      "                    Min  Max   Mean    SD   Class Correlation\n",
      "    ============== ==== ==== ======= ===== ====================\n",
      "    sepal length:   4.3  7.9   5.84   0.83    0.7826\n",
      "    sepal width:    2.0  4.4   3.05   0.43   -0.4194\n",
      "    petal length:   1.0  6.9   3.76   1.76    0.9490  (high!)\n",
      "    petal width:    0.1  2.5   1.20   0.76    0.9565  (high!)\n",
      "    ============== ==== ==== ======= ===== ====================\n",
      "\n",
      "    :Missing Attribute Values: None\n",
      "    :Class Distribution: 33.3% for each of 3 classes.\n",
      "    :Creator: R.A. Fisher\n",
      "    :Donor: Michael Marshall (MARSHALL%PLU@io.arc.nasa.gov)\n",
      "    :Date: July, 1988\n",
      "\n",
      "The famous Iris database, first used by Sir R.A. Fisher. The dataset is taken\n",
      "from Fisher's paper. Note that it's the same as in R, but not as in the UCI\n",
      "Machine Learning Repository, which has two wrong data points.\n",
      "\n",
      "This is perhaps the best known database to be found in the\n",
      "pattern recognition literature.  Fisher's paper is a classic in the field and\n",
      "is referenced frequently to this day.  (See Duda & Hart, for example.)  The\n",
      "data set contains 3 classes of 50 instances each, where each class refers to a\n",
      "type of iris plant.  One class is linearly separable from the other 2; the\n",
      "latter are NOT linearly separable from each other.\n",
      "\n",
      ".. topic:: References\n",
      "\n",
      "   - Fisher, R.A. \"The use of multiple measurements in taxonomic problems\"\n",
      "     Annual Eugenics, 7, Part II, 179-188 (1936); also in \"Contributions to\n",
      "     Mathematical Statistics\" (John Wiley, NY, 1950).\n",
      "   - Duda, R.O., & Hart, P.E. (1973) Pattern Classification and Scene Analysis.\n",
      "     (Q327.D83) John Wiley & Sons.  ISBN 0-471-22361-1.  See page 218.\n",
      "   - Dasarathy, B.V. (1980) \"Nosing Around the Neighborhood: A New System\n",
      "     Structure and Classification Rule for Recognition in Partially Exposed\n",
      "     Environments\".  IEEE Transactions on Pattern Analysis and Machine\n",
      "     Intelligence, Vol. PAMI-2, No. 1, 67-71.\n",
      "   - Gates, G.W. (1972) \"The Reduced Nearest Neighbor Rule\".  IEEE Transactions\n",
      "     on Information Theory, May 1972, 431-433.\n",
      "   - See also: 1988 MLC Proceedings, 54-64.  Cheeseman et al\"s AUTOCLASS II\n",
      "     conceptual clustering system finds 3 classes in the data.\n",
      "   - Many, many more ...\n"
     ]
    }
   ],
   "source": [
    "#dataset description\n",
    "print(iris_data['DESCR'])"
   ]
  },
  {
   "cell_type": "code",
   "execution_count": 11,
   "metadata": {},
   "outputs": [],
   "source": [
    "#extract data matrix\n",
    "X = iris_data['data']\n",
    "\n",
    "#extract categories\n",
    "y = iris_data['target']"
   ]
  },
  {
   "cell_type": "code",
   "execution_count": 12,
   "metadata": {},
   "outputs": [
    {
     "name": "stdout",
     "output_type": "stream",
     "text": [
      "['sepal length (cm)', 'sepal width (cm)', 'petal length (cm)', 'petal width (cm)']\n",
      "[[5.1 3.5 1.4 0.2]\n",
      " [4.9 3.  1.4 0.2]\n",
      " [4.7 3.2 1.3 0.2]]\n"
     ]
    }
   ],
   "source": [
    "#print features names\n",
    "print(iris_data.feature_names) #another way in which you can access fields of a Bunch object\n",
    "\n",
    "#show first 3 samples\n",
    "print(X[:3])"
   ]
  },
  {
   "cell_type": "code",
   "execution_count": 13,
   "metadata": {},
   "outputs": [
    {
     "name": "stdout",
     "output_type": "stream",
     "text": [
      "['setosa' 'versicolor' 'virginica']\n"
     ]
    }
   ],
   "source": [
    "#print the meaning of the categories\n",
    "print(iris_data.target_names)"
   ]
  },
  {
   "cell_type": "markdown",
   "metadata": {},
   "source": [
    "### Datasets coming from an external file"
   ]
  },
  {
   "cell_type": "markdown",
   "metadata": {},
   "source": [
    "We will now load the same iris dataset directly from the .csv in which the data are stored, without relying on the scikit-learn utility function. You can find the .csv file in the 'datasets/' folder. "
   ]
  },
  {
   "cell_type": "code",
   "execution_count": 14,
   "metadata": {},
   "outputs": [],
   "source": [
    "#open the file in reading mode\n",
    "with open('datasets/iris.csv', 'r') as fh:\n",
    "    \n",
    "    #read first line (header)\n",
    "    features = fh.readline()\n",
    "    \n",
    "    #split the line, make list of names of features\n",
    "    features = features.split(',')\n",
    "    \n",
    "    #remove spaces before and after feature names\n",
    "    features = [f.strip() for f in features]\n",
    "    \n",
    "    #now load the rest of the dataset - feature vectors - into a data matrix\n",
    "    X = np.loadtxt(fh, dtype=float, delimiter=',')\n",
    "    \n",
    "    #file stream gets automatically closed at the end of the 'with' statement "
   ]
  },
  {
   "cell_type": "code",
   "execution_count": 15,
   "metadata": {},
   "outputs": [],
   "source": [
    "#remember that the last column contains the labels, we want them into a separate vector\n",
    "y = X[:,-1]\n",
    "\n",
    "#drop last column from data matrix\n",
    "X = X[:,:-1]"
   ]
  },
  {
   "cell_type": "code",
   "execution_count": 16,
   "metadata": {},
   "outputs": [
    {
     "name": "stdout",
     "output_type": "stream",
     "text": [
      "['sepal length (cm)', 'sepal width (cm)', 'petal length (cm)', 'petal width (cm)', 'target']\n"
     ]
    }
   ],
   "source": [
    "print(features)"
   ]
  },
  {
   "cell_type": "code",
   "execution_count": 17,
   "metadata": {},
   "outputs": [
    {
     "name": "stdout",
     "output_type": "stream",
     "text": [
      "Shape of data matrix: (150, 4)\n",
      "Shape of target vector: (150,)\n"
     ]
    }
   ],
   "source": [
    "print('Shape of data matrix:', X.shape)\n",
    "print('Shape of target vector:', y.shape)"
   ]
  },
  {
   "cell_type": "markdown",
   "metadata": {},
   "source": [
    "## <center> **The Perceptron** </center>"
   ]
  },
  {
   "cell_type": "markdown",
   "metadata": {},
   "source": [
    "Now that we have our data we can start looking into the simplest possible neural network: the **perceptron**. At its core, the perceptron is just a non-linear activation function (the Heaviside theta) applied to a (linear) weighted sum of the data features, coupled with a rough version of SGD for tuning the weights. The schema of the computation is summarized in the figure below (in the figure, the dimensionality of the input vector is called _n_ istead of _D_)"
   ]
  },
  {
   "cell_type": "markdown",
   "metadata": {},
   "source": [
    "![The Perceptron](img/perceptron.png)"
   ]
  },
  {
   "cell_type": "markdown",
   "metadata": {},
   "source": [
    "What this means, practically, is that all it takes to build a perceptron in python is a numpy array holding the lalues of the weights (+1 float variable for the bias, which can be embedded into the weight vector as an extra dimension). Then we will need an algorithm that tells us how to update the weights, the Perceptron Learning Algorithm (PLA).\n",
    "\n",
    "The PLA works in two steps, repeated for each sample in the training set. Every time the PLA goes through a complete scan of all the samples and needs to start again, we say it has trained for one **epoch**. The two steps of the algorithm are the following:\n",
    "\n",
    "> Repeat the two steps for a predefined number of epochs or until convergence (when all samples are correctly classified):\n",
    ">\n",
    "> * Predict the label of the sample based on current weights **w**:\n",
    "$$\n",
    "\\hat{y} = \\theta ( \\textbf{x} \\cdot \\textbf{w} + b) = \\theta (\\displaystyle\\sum_{i=0}^{D} x_i w_i + b)\n",
    "$$\n",
    ">\n",
    "> * Update the weights **w** with the following expression:\n",
    "$$\n",
    "w_i \\leftarrow w_i + \\eta (y-\\hat{y}) x_i\\\\\n",
    "b \\leftarrow b + \\eta (y-\\hat{y}) b\n",
    "$$\n",
    "\n",
    "**NOTE:** if the sample is correctly classified there is no update of the weights (the difference between the predicted and actual label is zero). If the sample is incorrectly classified the update step pushes the weights towards a correct classification. The parameter ${\\bf \\eta}$ tunes how strong each update should be and it is called **learning rate**."
   ]
  },
  {
   "cell_type": "markdown",
   "metadata": {},
   "source": [
    "### Perceptron Implementation"
   ]
  },
  {
   "cell_type": "code",
   "execution_count": 18,
   "metadata": {},
   "outputs": [],
   "source": [
    "# we now implement the perceptron model with a bunch of separate functions\n",
    "# the implementation as a class is left as a guided exercise\n",
    "\n",
    "\n",
    "def pla_step(weights, bias, x, y, eta=1):\n",
    "    '''\n",
    "    Performs PLA on a single sample.\n",
    "    \n",
    "    Parameters:\n",
    "    -----------\n",
    "    \n",
    "    weights : array\n",
    "        Current weights of the perceptron.\n",
    "        \n",
    "    bias : float\n",
    "        Current bias term of the perceptron.\n",
    "\n",
    "    x : array\n",
    "        Incoming observation.\n",
    "        \n",
    "    y : int or float\n",
    "        True label of the observation.\n",
    "        \n",
    "    eta : float (default: 1)\n",
    "        Learning rate.\n",
    "        \n",
    "\n",
    "    Returns:\n",
    "    --------\n",
    "        \n",
    "    weights : array\n",
    "        Updated weights.\n",
    "        \n",
    "    bias : float\n",
    "        Updated bias.\n",
    "    \n",
    "    w_updated : bool\n",
    "        Whether the weights were updated or not.\n",
    "    '''\n",
    "    \n",
    "    z_pred = x.dot(weights)+bias  # calculate weighted sum\n",
    "    \n",
    "    y_pred = np.heaviside(z_pred,0) #returns 0 if the argument is exactly 0\n",
    "    \n",
    "    \n",
    "    # if prediction is wrong update weights and bias\n",
    "    if y != y_pred:\n",
    "        \n",
    "        weights += eta*(y-y_pred)*x\n",
    "        bias += eta*(y-y_pred)*1\n",
    "            \n",
    "        w_updated = True\n",
    "        \n",
    "    else:\n",
    "        #right classification, do nothing\n",
    "        w_updated = False\n",
    "        \n",
    "        \n",
    "    return weights, bias, w_updated"
   ]
  },
  {
   "cell_type": "code",
   "execution_count": 19,
   "metadata": {},
   "outputs": [],
   "source": [
    "def perceptron_train(X, y, eta=1, max_epochs=10, error_history=True):\n",
    "    '''\n",
    "    Performs full PLA on new perceptron, stops on specified number of epochs or upon convergence (no errors).\n",
    "    Returns weights and bias term of the trained perceptron, plus the number of errors at each epoch (optional).\n",
    "    \n",
    "    Parameters:\n",
    "    -----------\n",
    "\n",
    "    X : 2d array\n",
    "        Data matrix (training set).\n",
    "        \n",
    "    y : array\n",
    "        Label vector for the training set.\n",
    "        \n",
    "    eta : float (default: 1)\n",
    "        Learning rate.\n",
    "        \n",
    "    max_epochs : int (default: 10)\n",
    "        Maximum number of epochs for learning.\n",
    "        \n",
    "    error_history : bool (default: True)\n",
    "        If True also returns number of errors of the perceptron at each training epoch.\n",
    "        \n",
    "\n",
    "    Returns:\n",
    "    --------\n",
    "        \n",
    "    weights : array\n",
    "        Trained weights.\n",
    "        \n",
    "    bias : float\n",
    "        Trained bias.\n",
    "        \n",
    "    history : array (optional)\n",
    "        Number of errors of the perceptron at each trining epoch.\n",
    "    \n",
    "    '''\n",
    "    \n",
    "    \n",
    "    #initialize weights and bias\n",
    "    w = np.zeros(X.shape[1]) #dimension of input data, in our case 2d\n",
    "    b = 0.\n",
    "    \n",
    "    \n",
    "    errors = []\n",
    "    \n",
    "    #create an array with the index of every sample\n",
    "    #we will need it to loop through samples in random order\n",
    "    index = np.arange(X.shape[0]).astype(int)\n",
    "\n",
    "    converged = False\n",
    "    epoch = 0\n",
    "    \n",
    "    #repeat training for given epochs or until convergence\n",
    "    while not converged and epoch < max_epochs:\n",
    "        \n",
    "        #shuffle ordering in which we will get the samples\n",
    "        np.random.shuffle(index)\n",
    "\n",
    "        #keep track of number of updates in this epoch\n",
    "        n_updates = 0\n",
    "\n",
    "        #loop through each sample in the new ordering and train\n",
    "        for idx in index:\n",
    "\n",
    "            w, b, updated = pla_step(w, b, X[idx], y[idx], eta) #training step\n",
    "\n",
    "            n_updates += int(updated)\n",
    "\n",
    "            \n",
    "            \n",
    "        errors.append(n_updates) #update only happen if the prediction was wrong\n",
    "\n",
    "        \n",
    "        #check for convergence\n",
    "        if 0 == n_updates:\n",
    "            converged = True\n",
    "            print('Perceptron converged on epoch {}!'.format(epoch))\n",
    "            \n",
    "        epoch += 1\n",
    "        \n",
    "        \n",
    "    if error_history:        \n",
    "        return w, b, errors\n",
    "    else:\n",
    "        return w, b"
   ]
  },
  {
   "cell_type": "code",
   "execution_count": 20,
   "metadata": {},
   "outputs": [],
   "source": [
    "def perceptron_predict(weights, bias, X):\n",
    "    '''\n",
    "    Predicts the labels of the given data using parameters from a trained perceptron.\n",
    "    \n",
    "    Parameters:\n",
    "    -----------\n",
    "    \n",
    "    weights : array\n",
    "        Trained weights.\n",
    "        \n",
    "    bias : float\n",
    "        Trained bias.\n",
    "        \n",
    "    X : 2d array\n",
    "        Data matrix (test set).\n",
    "        \n",
    "        \n",
    "    Returns:\n",
    "    --------\n",
    "    y_pred : array\n",
    "        Predicted label vector for X.\n",
    "        \n",
    "    '''\n",
    "    \n",
    "    #fully vectorized code\n",
    "    z_pred = X.dot(w)+b\n",
    "    y_pred = np.heaviside(z_pred,0)\n",
    "    \n",
    "    return y_pred"
   ]
  },
  {
   "cell_type": "markdown",
   "metadata": {},
   "source": [
    "### Perceptron on BLOBS"
   ]
  },
  {
   "cell_type": "code",
   "execution_count": 27,
   "metadata": {},
   "outputs": [
    {
     "name": "stdout",
     "output_type": "stream",
     "text": [
      "Perceptron converged on epoch 1!\n",
      "Number of training errors:\t0 (0.0 %)\n"
     ]
    }
   ],
   "source": [
    "#Train the perceptron on the blobs dataset, with default parameters\n",
    "w, b, training_errors = perceptron_train(X_blob_train, y_blob_train)\n",
    "\n",
    "#number of training errors in last epoch\n",
    "print('Number of training errors:\\t{} ({} %)'.format(training_errors[-1], training_errors[-1]/X_blob_train.shape[0]*100))"
   ]
  },
  {
   "cell_type": "code",
   "execution_count": 28,
   "metadata": {},
   "outputs": [
    {
     "name": "stdout",
     "output_type": "stream",
     "text": [
      "Number of testing errors:\t0 (0.0 %)\n"
     ]
    }
   ],
   "source": [
    "#evaluate performance of trained perceptron on test set\n",
    "y_pred = perceptron_predict(w, b, X_blob_test)\n",
    "\n",
    "test_errors = np.sum(y_pred != y_blob_test)\n",
    "\n",
    "print('Number of testing errors:\\t{} ({} %)'.format(test_errors, test_errors/X_blob_test.shape[0]*100))"
   ]
  },
  {
   "cell_type": "code",
   "execution_count": 29,
   "metadata": {},
   "outputs": [
    {
     "data": {
      "image/png": "[encoded data removed]",
      "text/plain": [
       "<Figure size 432x432 with 1 Axes>"
      ]
     },
     "metadata": {
      "needs_background": "light"
     },
     "output_type": "display_data"
    }
   ],
   "source": [
    "#visualize prediction boundary on blobs dataset\n",
    "\n",
    "fig, ax = plt.subplots(figsize=(6,6))\n",
    "\n",
    "fontsize = 15\n",
    "\n",
    "#----------------------------------------------------------------\n",
    "### VISUALIZE BLOBS TRAINIG DATASET (with correct classification)\n",
    "\n",
    "\n",
    "#plot the points of the first class:\n",
    "mask = y_blob_train == 0\n",
    "\n",
    "ax.plot(X_blob_train[mask][:,0], X_blob_train[mask][:,1], 'o', label='class 0') #plot first feature on x-axis and second feature on y-axis\n",
    "\n",
    "\n",
    "#plot the points of the second class:\n",
    "mask = y_blob_train == 1\n",
    "\n",
    "ax.plot(X_blob_train[mask][:,0], X_blob_train[mask][:,1], 'o', label='class 1') #plot first feature on x-axis and second feature on y-axis\n",
    "\n",
    "#----------------------------------------------------------------\n",
    "### Visualize perceptron's prediction field\n",
    "\n",
    "# generate square mesh of points to evaluate, with \"n_pts_side\" ponits per side\n",
    "n_pts_side = 500\n",
    "pad = 1\n",
    "\n",
    "#extrema change based on generated points\n",
    "xx_min = X_blob[:,0].min()-pad\n",
    "xx_max = X_blob[:,0].max()+pad\n",
    "\n",
    "yy_min = X_blob[:,1].min()-pad\n",
    "yy_max = X_blob[:,1].max()+pad\n",
    "\n",
    "xx = np.linspace(xx_min, xx_max, n_pts_side)  \n",
    "yy = np.linspace(yy_min, yy_max, n_pts_side)\n",
    "\n",
    "#plot decision line\n",
    "ax.plot(xx, (-b-w[0]*xx)/w[1], 'k--', linewidth=3)\n",
    "\n",
    "\n",
    "# plot decision field\n",
    "xx, yy = np.meshgrid(xx, yy)\n",
    "\n",
    "zz = perceptron_predict(w, b, np.vstack([xx.ravel(),yy.ravel()]).T) #generate predictions for each point in field\n",
    "zz = zz.reshape(xx.shape)\n",
    "\n",
    "ax.contourf(xx, yy, zz, levels=2, colors=('deepskyblue','k','orangered'), alpha=.1)\n",
    "\n",
    "#----------------------------------------------------------------\n",
    "\n",
    "ax.set_xlim(xx_min, xx_max)\n",
    "ax.set_ylim(yy_min, yy_max)\n",
    "\n",
    "\n",
    "ax.legend(fontsize=fontsize)\n",
    "\n",
    "ax.set_xlabel('Feature 1', fontsize=fontsize)\n",
    "ax.set_ylabel('Feature 2', fontsize=fontsize)\n",
    "\n",
    "ax.set_title('Blobs', fontsize=fontsize);"
   ]
  },
  {
   "cell_type": "markdown",
   "metadata": {},
   "source": [
    "### Perceptron on MOONS"
   ]
  },
  {
   "cell_type": "code",
   "execution_count": 30,
   "metadata": {},
   "outputs": [
    {
     "name": "stdout",
     "output_type": "stream",
     "text": [
      "Number of training errors:\t24 (16.0 %)\n"
     ]
    }
   ],
   "source": [
    "#Train the perceptron on the moons dataset, with default parameters\n",
    "w, b, training_errors = perceptron_train(X_moon_train, y_moon_train)\n",
    "\n",
    "#number of training errors in last epoch\n",
    "print('Number of training errors:\\t{} ({} %)'.format(training_errors[-1], training_errors[-1]/X_moon_train.shape[0]*100))"
   ]
  },
  {
   "cell_type": "code",
   "execution_count": 31,
   "metadata": {},
   "outputs": [
    {
     "name": "stdout",
     "output_type": "stream",
     "text": [
      "Number of testing errors:\t14 (28.000000000000004 %)\n"
     ]
    }
   ],
   "source": [
    "#evaluate performance of trained perceptron on test set\n",
    "y_pred = perceptron_predict(w, b, X_moon_test)\n",
    "\n",
    "test_errors = np.sum(y_pred != y_moon_test)\n",
    "\n",
    "print('Number of testing errors:\\t{} ({} %)'.format(test_errors, test_errors/X_moon_test.shape[0]*100))"
   ]
  },
  {
   "cell_type": "code",
   "execution_count": 32,
   "metadata": {},
   "outputs": [
    {
     "data": {
      "image/png": "[encoded data removed]",
      "text/plain": [
       "<Figure size 432x432 with 1 Axes>"
      ]
     },
     "metadata": {
      "needs_background": "light"
     },
     "output_type": "display_data"
    }
   ],
   "source": [
    "#visualize prediction boundary on moons dataset\n",
    "\n",
    "fig, ax = plt.subplots(figsize=(6,6))\n",
    "\n",
    "fontsize = 15\n",
    "\n",
    "#----------------------------------------------------------------\n",
    "### VISUALIZE BLOBS TRAINIG DATASET (with correct classification)\n",
    "\n",
    "\n",
    "#plot the points of the first class:\n",
    "mask = y_moon_train == 0\n",
    "\n",
    "ax.plot(X_moon_train[mask][:,0], X_moon_train[mask][:,1], 'o', label='class 0') #plot first feature on x-axis and second feature on y-axis\n",
    "\n",
    "\n",
    "#plot the points of the second class:\n",
    "mask = y_moon_train == 1\n",
    "\n",
    "ax.plot(X_moon_train[mask][:,0], X_moon_train[mask][:,1], 'o', label='class 1') #plot first feature on x-axis and second feature on y-axis\n",
    "\n",
    "#----------------------------------------------------------------\n",
    "### Visualize perceptron's prediction field\n",
    "\n",
    "# generate square mesh of points to evaluate, with \"n_pts_side\" ponits per side\n",
    "n_pts_side = 500\n",
    "pad = .5\n",
    "\n",
    "#extrema change based on generated points\n",
    "xx_min = X_moon[:,0].min()-pad\n",
    "xx_max = X_moon[:,0].max()+pad\n",
    "\n",
    "yy_min = X_moon[:,1].min()-pad\n",
    "yy_max = X_moon[:,1].max()+pad\n",
    "\n",
    "xx = np.linspace(xx_min, xx_max, n_pts_side)  \n",
    "yy = np.linspace(yy_min, yy_max, n_pts_side)\n",
    "\n",
    "#plot decision line\n",
    "ax.plot(xx, (-b-w[0]*xx)/w[1], 'k--', linewidth=3)\n",
    "ax.set_ylim(yy_min, yy_max)\n",
    "\n",
    "\n",
    "# plot decision field\n",
    "xx, yy = np.meshgrid(xx, yy)\n",
    "\n",
    "zz = perceptron_predict(w, b, np.vstack([xx.ravel(),yy.ravel()]).T) #generate predictions for each point in field\n",
    "zz = zz.reshape(xx.shape)\n",
    "\n",
    "ax.contourf(xx, yy, zz, levels=2, colors=('deepskyblue','k','orangered'), alpha=.1)\n",
    "\n",
    "#----------------------------------------------------------------\n",
    "\n",
    "ax.set_xlim(xx_min, xx_max)\n",
    "ax.set_ylim(yy_min, yy_max)\n",
    "\n",
    "ax.legend(fontsize=fontsize)\n",
    "\n",
    "ax.set_xlabel('Feature 1', fontsize=fontsize)\n",
    "ax.set_ylabel('Feature 2', fontsize=fontsize)\n",
    "\n",
    "ax.set_title('Blobs', fontsize=fontsize);"
   ]
  },
  {
   "cell_type": "markdown",
   "metadata": {},
   "source": [
    "## <center> **Exercises** </center>"
   ]
  },
  {
   "cell_type": "markdown",
   "metadata": {},
   "source": [
    "### Play with the code \n",
    "\n",
    "In order to gain a deeper understandig of what is happening in the code, try play a bit with it. \n",
    "\n",
    "* Re-run the perceptron algorithm on the given datasets for a number of times. Does it always find the same solution? \n",
    "* Change the parameters of the learning algorithm: does anything change? Can you reach a higher accuracy an the moons dataset? If so, in which way? If not, why? \n",
    "* Change the parameters in the functions that generate the synthetic datasets, how do they change? How do the results change? \n",
    "\n",
    "Make sure you understand what is happening in every line of the code, including the plotting code. Look into the matplotlib and numpy docs to understand the exact functioning of the functions you may have not seen before. Try to guess what are the values of the variables, then use Jupyter to look at what's inside them."
   ]
  },
  {
   "cell_type": "markdown",
   "metadata": {},
   "source": [
    "### Prediction boundaries with test data\n",
    "\n",
    "In the prediction boundary plots only the training data are shown. Replicate the plots showing the test data instead. Show the samples that are correctly classified with the standard 'o' marker and samples classified incorrectly with an 'X' marker."
   ]
  },
  {
   "cell_type": "code",
   "execution_count": null,
   "metadata": {},
   "outputs": [],
   "source": []
  },
  {
   "cell_type": "markdown",
   "metadata": {},
   "source": [
    "### Perceptron class\n",
    "\n",
    "We implemented the perceptron algorithm with three separate functions. A more elegant and functional way to do this is to create a \"Perceptron\" class that contains both the parameters and the functions that should handle them. Try to implement a working Perceptron class, by following the provided blueprint and reusing the code of the previously implemented functions, with the due modifications."
   ]
  },
  {
   "cell_type": "code",
   "execution_count": 174,
   "metadata": {},
   "outputs": [],
   "source": [
    "class Perceptron():\n",
    "    \n",
    "    def __init__(self):\n",
    "        \n",
    "        #initialize and store perceptron parameters\n",
    "        self.weights = None  #we don't know the dimension of the incoming data yet\n",
    "        self.bias = 0.\n",
    "        \n",
    "        \n",
    "    def _pla_step(self, x, y): #initial underscore is a standard way to signal \"private\" functions in python\n",
    "        \n",
    "        #use the code from the pla_step function\n",
    "        \n",
    "        #remember now you don't need to pass or return copies of w and b:\n",
    "        #you can access and modify them directly from the function, using the self keyword!\n",
    "        \n",
    "        \n",
    "        \n",
    "        \n",
    "        return w_updated\n",
    "    \n",
    "    \n",
    "    def train(self, X, y, eta=1, max_epochs=10, error_history=True):\n",
    "        \n",
    "        \n",
    "        #initialize weights with the correct dimension, if needed\n",
    "        if None == self.weights:\n",
    "            self.weights = np.zeros(X.shape[0])\n",
    "            \n",
    "        \n",
    "        #from now on it works pretty much as the previous one\n",
    "        #remember now you don't need to pass weight and bias term to _pla_step (note that the name has changed, btw)\n",
    "        \n",
    "        \n",
    "        \n",
    "        \n",
    "        #return errors only if required\n",
    "        if error_history:        \n",
    "            return errors\n",
    "        \n",
    "        \n",
    "    def predict(self, X):\n",
    "    \n",
    "    \n",
    "        return y_pred"
   ]
  },
  {
   "cell_type": "markdown",
   "metadata": {},
   "source": [
    "Train the new perceptron class on the blobs dataset. Does it work in the same way? Try to replicate the decision boundary figure with the new implementataion. Try to train it also on the moon dataset.\n",
    "\n",
    "* Try to guess what happens when you re-train a trained perceptron with the old and the new implementation. Is there any difference?\n",
    "* Go and look at the docs for the scikit-learn (much more complete) implementation of the [Perceptron](https://scikit-learn.org/stable/modules/generated/sklearn.linear_model.Perceptron.html). Try to wrap your head around it."
   ]
  },
  {
   "cell_type": "code",
   "execution_count": null,
   "metadata": {},
   "outputs": [],
   "source": [
    "### TRAIN PERCEPTRON ON THE BLOBS DATASET\n",
    "\n",
    "percpt = Perceptron()\n",
    "\n",
    "#Train the perceptron on the blobs dataset, with default parameters\n",
    "training_errors = percpt.train(X_blob_train, y_blob_train)\n",
    "\n",
    "#number of training errors in last epoch\n",
    "print('Number of training errors:\\t{} ({} %)'.format(training_errors[-1], training_errors[-1]/X_blob_train.shape[0]*100))"
   ]
  },
  {
   "cell_type": "code",
   "execution_count": null,
   "metadata": {},
   "outputs": [],
   "source": []
  },
  {
   "cell_type": "markdown",
   "metadata": {},
   "source": [
    "### Multilabel Perceptron\n",
    "\n",
    "Implement an algorithm based on perceptrons alone that can classify data with more than two labels (three labels is enough for a proof-of concept). Generate a mock dataset with three blobs (look at the docs of the function `make_blobs`). Plot the decision boundaries.\n",
    "\n",
    "**Hint:** You don't need to change anything inside the _Perceptron_ class. Transform the data labels into _one-hot encoding_. Now you can use each sample to update one different perceptron for each of the three components of its label!"
   ]
  },
  {
   "cell_type": "code",
   "execution_count": null,
   "metadata": {},
   "outputs": [],
   "source": []
  }
 ],
 "metadata": {
  "kernelspec": {
   "display_name": "Python 3",
   "language": "python",
   "name": "python3"
  },
  "language_info": {
   "codemirror_mode": {
    "name": "ipython",
    "version": 3
   },
   "file_extension": ".py",
   "mimetype": "text/x-python",
   "name": "python",
   "nbconvert_exporter": "python",
   "pygments_lexer": "ipython3",
   "version": "3.6.10"
  }
 },
 "nbformat": 4,
 "nbformat_minor": 4
}
