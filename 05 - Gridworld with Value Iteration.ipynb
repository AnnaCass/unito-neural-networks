{
 "cells": [
  {
   "cell_type": "markdown",
   "metadata": {},
   "source": [
    "# Gridworld\n",
    "\n",
    "*Andrea Mazzolini*, andrea.mazzolini.90@gmail.com.\n",
    "\n",
    "\n",
    "Here we want to find the optimal strategy of a 2d grid-world problem having full information.\n",
    "**Value iteration** algorithm will be used."
   ]
  },
  {
   "cell_type": "markdown",
   "metadata": {},
   "source": [
    "## Gridworld as a Markov Decision Process\n",
    "\n",
    "### States\n",
    "The state space corresponds to the physical space of the gridworld. Therefore each state is identified by the two coordinates, and the whole space is composed of $d^2$ states:\n",
    "\n",
    "$$\n",
    "\\mathcal{S} = \\{ 0, 1, \\ldots, d-1 \\} \\times \\{ 0, 1, \\ldots, d-1 \\}\n",
    "$$\n",
    "\n",
    "### Actions\n",
    "The actions of the agent are five: he can move to nearest neighbours or stay in the cell without moving:\n",
    "\n",
    "$$\n",
    "\\mathcal{A} = \\{ \\text{up}, \\text{left}, \\text{down}, \\text{right}, \\text{stay} \\} = \\{ (0,1), (-1,0), (0,-1), (1,0), (0,0)\\}\n",
    "$$\n",
    "\n",
    "which can be expressed also translation vectors.\n",
    "Actually, these actions are not always possible in each state: the agent cannot cross boundaries. This makes actions state dependent, for example if the agent is located on the left boundary: $\\mathcal{A}(0,y) = \\{ \\text{up}, \\text{down}, \\text{right}, \\text{stay} \\}$, or in a corner: $\\mathcal{A}(d-1,d-1) = \\{ \\text{left}, \\text{down}, \\text{stay} \\}$.\n",
    "\n",
    "### Transition probabilities\n",
    "\n",
    "The transition probabilities between states are deterministic: the next state is just the old state plus the translation action chosen by the agent:\n",
    "\n",
    "$$\n",
    "p(s_{t+1} | a_t, s_t) = \\delta (s_{t+1} = a_t + s_t)\n",
    "$$\n",
    "\n",
    "### Rewards\n",
    "\n",
    "The rewards depends only on the arrival states, $r(s_{t+1})$, and are zero for all the states with the exception of some special ones chosen to contain some resource."
   ]
  },
  {
   "cell_type": "markdown",
   "metadata": {},
   "source": [
    "## Value iteration algorithm\n",
    "\n",
    "* Initialise the values of all the states $V^{(0)}(s)$.\n",
    "\n",
    "* For $t$ in $[1,2,\\ldots]$ until a *convergence condition* is satisfied do:\n",
    "> * for each state $s$:\n",
    "> > * Compute the new value estimate using the Bellman equation: $ V^{(t)}(s) = \\max_{a} \\sum_{s'} p(s'|s,a)\\big[ r(s',a, s) + \\gamma\\,V^{(t-1)}(s') \\big] $"
   ]
  },
  {
   "cell_type": "markdown",
   "metadata": {},
   "source": [
    "## Implementation\n",
    "\n",
    "### Environment class: the gridworld\n",
    "\n",
    "The Gridworld class contains all the information about the environment:\n",
    "- The info about the state space (cells and obstacles).\n",
    "- The set of possible actions from each state.\n",
    "- The reward table: which reward the agent take in each cell (0 if none).\n",
    "\n",
    "The methods are:\n",
    "- `display()`: Plot the gridworld.\n",
    "- `display_best_path(values, gamma, start_cell)`: Plot the best path from the `start_cell`."
   ]
  },
  {
   "cell_type": "code",
   "execution_count": 1,
   "metadata": {},
   "outputs": [],
   "source": [
    "import numpy as np\n",
    "from copy import copy\n",
    "import seaborn as sns\n",
    "import matplotlib.pyplot as plt\n",
    "from matplotlib import cm\n",
    "\n",
    "\n",
    "class Gridworld:\n",
    "\n",
    "    def __init__(self, grid_size, rewards, obstacles=[]):\n",
    "        \"\"\"\n",
    "        Training environment for reinforcement learning: gridworld.\n",
    "        Args:\n",
    "        - grid_size, (int, int): defining the size of the 2d lattice\n",
    "        - init_cell, (int, int): coordinates from 0 to size-1 from which the agent starts to play\n",
    "        - rewards, list((int, int), float): list of the coordinates§ and values of the rewards\n",
    "        - obstacles, lits((int, int)): list of the coordinates of the obstacles\n",
    "        \"\"\"\n",
    "\n",
    "        # Define state space\n",
    "        self.state = None  # current state of the game\n",
    "        self.state_dim = grid_size\n",
    "        #self.init_state = init_cell\n",
    "        self.obstacles = obstacles\n",
    "        # Cells that are not obstacles\n",
    "        self.states = [(i,j) for i in range(self.state_dim[0]) for j in range(self.state_dim[1]) if (i,j) not in self.obstacles] \n",
    "\n",
    "        # Define action space\n",
    "        self.action_dim = (5,)  # up, right, down, left, stay\n",
    "        self.action_dict = {\"up\": 0, \"right\": 1, \"down\": 2, \"left\": 3, \"stay\": 4}\n",
    "        self.action_coords = [(0, 1), (1, 0), (0, -1), (-1, 0), (0, 0)]  # translations\n",
    "        self.actions_allowed = self._build_allowed_actions(obstacles)\n",
    "\n",
    "        # Define rewards table\n",
    "        self.R = self._build_rewards(rewards)\n",
    "\n",
    "\n",
    "    def _build_allowed_actions(self, obstacles):\n",
    "        actions_allowed = dict()\n",
    "        Nx, Ny = self.state_dim\n",
    "        for x in range(Nx):\n",
    "            for y in range(Ny):\n",
    "                # Actions not allowed at the boundaries\n",
    "                actions_allowed[(x,y)] = [self.action_dict[\"stay\"]] # The stay action is always allowed\n",
    "                if (y > 0):  \n",
    "                    actions_allowed[(x,y)].append(self.action_dict[\"down\"])\n",
    "                if (y < Ny - 1):  \n",
    "                    actions_allowed[(x,y)].append(self.action_dict[\"up\"])\n",
    "                if (x > 0):  \n",
    "                    actions_allowed[(x,y)].append(self.action_dict[\"left\"])\n",
    "                if (x < Nx - 1):  \n",
    "                    actions_allowed[(x,y)].append(self.action_dict[\"right\"])\n",
    "                actions_allowed[(x,y)] = np.array(actions_allowed[(x,y)], dtype=int)\n",
    "\n",
    "                # Actions not allowed because of obstacles\n",
    "                for o in obstacles:\n",
    "                    if (x+1,y) == o:\n",
    "                        actions_allowed[(x,y)] = actions_allowed[(x,y)][actions_allowed[(x,y)] != self.action_dict[\"right\"]]\n",
    "                    if (x-1,y) == o:\n",
    "                        actions_allowed[(x,y)] = actions_allowed[(x,y)][actions_allowed[(x,y)] != self.action_dict[\"left\"]]\n",
    "                    if (x,y+1) == o:\n",
    "                        actions_allowed[(x,y)] = actions_allowed[(x,y)][actions_allowed[(x,y)] != self.action_dict[\"up\"]]\n",
    "                    if (x,y-1) == o:\n",
    "                        actions_allowed[(x,y)] = actions_allowed[(x,y)][actions_allowed[(x,y)] != self.action_dict[\"down\"]]\n",
    "        return actions_allowed\n",
    "\n",
    "\n",
    "    def _build_rewards(self, rewards):\n",
    "        R = np.zeros(self.state_dim, dtype=float)\n",
    "        for rew in rewards:\n",
    "            R[rew[0]] = rew[1]\n",
    "        return R\n",
    "\n",
    "    def display(self, values=np.array([]), cmap=sns.dark_palette(\"red\", as_cmap=True), figsize=(7,6)):\n",
    "        fig = plt.figure(figsize=figsize)\n",
    "        obstacle_mask = np.zeros(self.state_dim, dtype=bool)\n",
    "        for obs in self.obstacles:\n",
    "            obstacle_mask[obs[0], obs[1]] = True\n",
    "\n",
    "        if len(values)==0:\n",
    "            ax = sns.heatmap(obstacle_mask.T, cmap=cm.get_cmap(\"Greys\"), cbar=False, \n",
    "                       linewidths=0.1, linecolor='#222222')\n",
    "        else:\n",
    "            ax = sns.heatmap(values.T, mask=obstacle_mask.T, cmap=cmap, \n",
    "                       linewidths=0.1, linecolor='#222222', vmin=np.min(values[values != 0]))\n",
    "            ax.collections[0].colorbar.set_label(\"Value\", fontsize=14)\n",
    "\n",
    "        ax.invert_yaxis()\n",
    "        ax.set_xlabel('x', fontsize=14)\n",
    "        ax.set_ylabel('y', fontsize=14)\n",
    "        #ax.scatter([start_cell[0]+0.5],[start_cell[1]+0.5], s=100, c='grey', label='Start')\n",
    "        \n",
    "        for rew in rewards:\n",
    "            ax.scatter([rew[0][0]+0.5],[rew[0][1]+0.5], s=200*rew[1], c='red', label='Reward:{}'.format(rew[1]), marker='*')\n",
    "        plt.tight_layout()\n",
    "\n",
    "        return fig, ax\n",
    "\n",
    "\n",
    "    def display_best_path(self, values, gamma, start_coord, lcolor='black', cmap=sns.dark_palette(\"red\", as_cmap=True), figsize=(7,6)):\n",
    "        fig, ax = self.display(values, cmap, figsize)\n",
    "        obstacle_mask = np.zeros(self.state_dim, dtype=bool)\n",
    "\n",
    "        s, count, best_action = start_coord, 0, 0\n",
    "        while best_action != 4 or count < self.state_dim[0]*self.state_dim[1]:\n",
    "            count += 1\n",
    "            qualities = np.zeros(5)\n",
    "            for a in self.actions_allowed[s]:\n",
    "                new_s = (self.action_coords[a][0] + s[0], self.action_coords[a][1] + s[1])\n",
    "                qualities[a] = self.R[new_s] + gamma*values[new_s]\n",
    "            best_action = np.argmax(qualities)\n",
    "            new_s = s[0] + self.action_coords[best_action][0], s[1] + self.action_coords[best_action][1]\n",
    "            ax.plot([s[0]+0.5, new_s[0]+0.5], [s[1]+0.5, new_s[1]+0.5], c='black', lw=3)\n",
    "            s = new_s\n",
    "\n",
    "        plt.tight_layout()\n",
    "\n",
    "        return fig, ax"
   ]
  },
  {
   "cell_type": "code",
   "execution_count": 2,
   "metadata": {},
   "outputs": [
    {
     "data": {
      "text/plain": [
       "<Figure size 864x432 with 0 Axes>"
      ]
     },
     "metadata": {},
     "output_type": "display_data"
    },
    {
     "data": {
      "image/png": "[encoded data removed]",
      "text/plain": [
       "<Figure size 396x288 with 1 Axes>"
      ]
     },
     "metadata": {
      "needs_background": "light"
     },
     "output_type": "display_data"
    }
   ],
   "source": [
    "world_size = (16,12) # dimension of the gridworld\n",
    "\n",
    "#start_cell = (1,1)\n",
    "\n",
    "obstacles = [(2,2), (2,3), (2,4), (2,5), (2,6), (2,7), (2,8), (2,9), \n",
    "             (3,9), (4,9), (5,9), (6,8), (6,7), (6,6), (5,5), (4,5),\n",
    "             (4,4), (5,3), (6,2),\n",
    "             (9,2), (9,3), (9,4), (9,5), (9,6), (9,7), (9,8), (9,9), \n",
    "             (10,2), (11,2), (12,2), (13,2)]\n",
    "\n",
    "rewards = [((5, 8), 1), ((14, 10), 2)]\n",
    "\n",
    "gridworld = Gridworld(world_size, rewards, obstacles) # Building the world\n",
    "plt.figure(figsize=(12, 6))\n",
    "fig, ax = gridworld.display(figsize=(5.5,4)) # And showing it\n",
    "#ax.legend(fontsize=14)"
   ]
  },
  {
   "cell_type": "code",
   "execution_count": 3,
   "metadata": {},
   "outputs": [],
   "source": [
    "def val_iter_gridworld(gridworld, gamma, delta_conv=0.001, max_time=1000):\n",
    "    \"\"\"\n",
    "    Value iteration algorithm applied to Gridworld. It returns the computed value \n",
    "    function as a 2d array.\n",
    "    \"\"\"\n",
    "    values = np.zeros(gridworld.state_dim)\n",
    "    for t in range(max_time):\n",
    "        old_values = copy(values)\n",
    "        delta_v = 0\n",
    "        for s in gridworld.states:\n",
    "            qualities = np.array([])\n",
    "            for a in gridworld.actions_allowed[s]:\n",
    "                new_s = (gridworld.action_coords[a][0] + s[0], gridworld.action_coords[a][1] + s[1])\n",
    "                qualities = np.append(qualities, gridworld.R[new_s] + gamma * old_values[new_s])\n",
    "            values[s] = qualities.max()\n",
    "            delta_v = max(delta_v, abs(values[s] - old_values[s]))\n",
    "        \n",
    "        if delta_v < delta_conv:\n",
    "            break\n",
    "            \n",
    "    return values"
   ]
  },
  {
   "cell_type": "code",
   "execution_count": 8,
   "metadata": {},
   "outputs": [],
   "source": [
    "gamma = 0.75\n",
    "\n",
    "values = val_iter_gridworld(gridworld, gamma)"
   ]
  },
  {
   "cell_type": "code",
   "execution_count": 9,
   "metadata": {},
   "outputs": [
    {
     "data": {
      "text/plain": [
       "(<Figure size 396x288 with 2 Axes>,\n",
       " <matplotlib.axes._subplots.AxesSubplot at 0x262b10030b8>)"
      ]
     },
     "execution_count": 9,
     "metadata": {},
     "output_type": "execute_result"
    },
    {
     "data": {
      "image/png": "[encoded data removed]",
      "text/plain": [
       "<Figure size 396x288 with 2 Axes>"
      ]
     },
     "metadata": {
      "needs_background": "light"
     },
     "output_type": "display_data"
    }
   ],
   "source": [
    "gridworld.display(values, cmap=cm.get_cmap('inferno'), figsize=(5.5,4))"
   ]
  },
  {
   "cell_type": "code",
   "execution_count": 10,
   "metadata": {},
   "outputs": [
    {
     "data": {
      "text/plain": [
       "(<Figure size 396x288 with 2 Axes>,\n",
       " <matplotlib.axes._subplots.AxesSubplot at 0x262b0cf81d0>)"
      ]
     },
     "execution_count": 10,
     "metadata": {},
     "output_type": "execute_result"
    },
    {
     "data": {
      "image/png": "[encoded data removed]",
      "text/plain": [
       "<Figure size 396x288 with 2 Axes>"
      ]
     },
     "metadata": {
      "needs_background": "light"
     },
     "output_type": "display_data"
    }
   ],
   "source": [
    "gridworld.display_best_path(values, gamma, (4,2), cmap=cm.get_cmap('inferno'), figsize=(5.5,4))"
   ]
  },
  {
   "cell_type": "code",
   "execution_count": null,
   "metadata": {},
   "outputs": [],
   "source": []
  }
 ],
 "metadata": {
  "kernelspec": {
   "display_name": "Python 3",
   "language": "python",
   "name": "python3"
  },
  "language_info": {
   "codemirror_mode": {
    "name": "ipython",
    "version": 3
   },
   "file_extension": ".py",
   "mimetype": "text/x-python",
   "name": "python",
   "nbconvert_exporter": "python",
   "pygments_lexer": "ipython3",
   "version": "3.7.7"
  }
 },
 "nbformat": 4,
 "nbformat_minor": 4
}
